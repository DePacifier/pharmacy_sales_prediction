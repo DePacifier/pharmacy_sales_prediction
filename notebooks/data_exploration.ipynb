{
 "cells": [
  {
   "cell_type": "markdown",
   "source": [
    "# Data Exploration"
   ],
   "metadata": {}
  },
  {
   "cell_type": "markdown",
   "source": [
    "The finance team wants to forecast sales in all their stores across several cities six weeks ahead of time."
   ],
   "metadata": {}
  },
  {
   "cell_type": "markdown",
   "source": [
    "- Id - an Id that represents a (Store, Date) duple within the test set\r\n",
    "- Store - a unique Id for each store\r\n",
    "- Sales - the turnover for any given day (this is what you are predicting)\r\n",
    "- Customers - the number of customers on a given day\r\n",
    "- Open - an indicator for whether the store was open: 0 = closed, 1 = open\r\n",
    "- StateHoliday - indicates a state holiday. Normally all stores, with few exceptions, are closed on state holidays. Note that all schools are closed on public holidays and weekends. a = public holiday, b = Easter holiday, c = Christmas, 0 = None\r\n",
    "- SchoolHoliday - indicates if the (Store, Date) was affected by the closure of public schools\r\n",
    "- StoreType - differentiates between 4 different store models: a, b, c, d\r\n",
    "- Assortment - describes an assortment level: a = basic, b = extra, c = extended. Read more about assortment here\r\n",
    "- CompetitionDistance - distance in meters to the nearest competitor store\r\n",
    "- CompetitionOpenSince[Month/Year] - gives the approximate year and month of the time the nearest competitor was opened\r\n",
    "- Promo - indicates whether a store is running a promo on that day\r\n",
    "- Promo2 - Promo2 is a continuing and consecutive promotion for some stores: 0 = store is not participating, 1 = store is participating\r\n",
    "- Promo2Since[Year/Week] - describes the year and calendar week when the store started participating in Promo2\r\n",
    "- PromoInterval - describes the consecutive intervals Promo2 is started, naming the months the promotion is started anew. E.g. \"Feb,May,Aug,Nov\" means each round starts in February, May, August, November of any given year for that store"
   ],
   "metadata": {}
  },
  {
   "cell_type": "markdown",
   "source": [
    "## Loading Data"
   ],
   "metadata": {}
  },
  {
   "cell_type": "code",
   "execution_count": 1,
   "source": [
    "#importing Libraries\r\n",
    "import pandas as pd\r\n",
    "# import dvc.api\r\n",
    "import os\r\n",
    "import sys"
   ],
   "outputs": [],
   "metadata": {}
  },
  {
   "cell_type": "code",
   "execution_count": 2,
   "source": [
    "#import local libraries\r\n",
    "#Adding scripts path\r\n",
    "sys.path.append(os.path.abspath(os.path.join('..')))\r\n",
    "#importing dvc_data_loader script\r\n",
    "# from scripts.dvc_data_loader import *\r\n",
    "from scripts.data_information import DataInfo\r\n",
    "from scripts.data_loader import load_df_from_csv\r\n",
    "from scripts.data_manipulation import DataManipulator\r\n",
    "from scripts.data_cleaner import DataCleaner\r\n",
    "from scripts.utlity_functions import convert_to_month_name\r\n",
    "from scripts.grapher import *\r\n"
   ],
   "outputs": [],
   "metadata": {}
  },
  {
   "cell_type": "markdown",
   "source": [
    "## Check for seasonality in both training and test sets - are the seasons similar between these two groups?"
   ],
   "metadata": {}
  },
  {
   "cell_type": "code",
   "execution_count": 3,
   "source": [
    "#Loading the train data\r\n",
    "train_df = load_df_from_csv('../data/train.csv')\r\n",
    "train_data_info = DataInfo(train_df, deep=True)\r\n",
    "train_data_info.get_information()\r\n",
    "train_data_info.get_col_unique_value_count('Store')"
   ],
   "outputs": [
    {
     "output_type": "stream",
     "name": "stderr",
     "text": [
      "C:\\Python38\\lib\\site-packages\\IPython\\core\\interactiveshell.py:3357: DtypeWarning: Columns (7) have mixed types.Specify dtype option on import or set low_memory=False.\n",
      "  if (await self.run_code(code, result,  async_=asy)):\n"
     ]
    },
    {
     "output_type": "stream",
     "name": "stdout",
     "text": [
      "DataFrame Information: \n",
      "<class 'pandas.core.frame.DataFrame'>\n",
      "RangeIndex: 1017209 entries, 0 to 1017208\n",
      "Data columns (total 9 columns):\n",
      " #   Column         Non-Null Count    Dtype \n",
      "---  ------         --------------    ----- \n",
      " 0   Store          1017209 non-null  uint16\n",
      " 1   DayOfWeek      1017209 non-null  uint8 \n",
      " 2   Date           1017209 non-null  object\n",
      " 3   Sales          1017209 non-null  uint16\n",
      " 4   Customers      1017209 non-null  uint16\n",
      " 5   Open           1017209 non-null  uint8 \n",
      " 6   Promo          1017209 non-null  uint8 \n",
      " 7   StateHoliday   1017209 non-null  object\n",
      " 8   SchoolHoliday  1017209 non-null  uint8 \n",
      "dtypes: object(2), uint16(3), uint8(4)\n",
      "memory usage: 25.2+ MB\n",
      "Number of unique values in column Store is: 1115\n"
     ]
    }
   ],
   "metadata": {}
  },
  {
   "cell_type": "code",
   "execution_count": 4,
   "source": [
    "#Loading the store data\r\n",
    "store_df = load_df_from_csv('../data/store.csv')\r\n",
    "store_data_info = DataInfo(store_df, deep=True)\r\n",
    "store_data_info.get_information()\r\n"
   ],
   "outputs": [
    {
     "output_type": "stream",
     "name": "stdout",
     "text": [
      "DataFrame Information: \n",
      "<class 'pandas.core.frame.DataFrame'>\n",
      "RangeIndex: 1115 entries, 0 to 1114\n",
      "Data columns (total 10 columns):\n",
      " #   Column                     Non-Null Count  Dtype  \n",
      "---  ------                     --------------  -----  \n",
      " 0   Store                      1115 non-null   uint16 \n",
      " 1   StoreType                  1115 non-null   object \n",
      " 2   Assortment                 1115 non-null   object \n",
      " 3   CompetitionDistance        1112 non-null   float32\n",
      " 4   CompetitionOpenSinceMonth  761 non-null    float32\n",
      " 5   CompetitionOpenSinceYear   761 non-null    float32\n",
      " 6   Promo2                     1115 non-null   uint8  \n",
      " 7   Promo2SinceWeek            571 non-null    float32\n",
      " 8   Promo2SinceYear            571 non-null    float32\n",
      " 9   PromoInterval              571 non-null    object \n",
      "dtypes: float32(5), object(3), uint16(1), uint8(1)\n",
      "memory usage: 51.3+ KB\n"
     ]
    }
   ],
   "metadata": {}
  },
  {
   "cell_type": "code",
   "execution_count": 5,
   "source": [
    "# Combining Train Data with Store Data using Store Id to match/join the instances\r\n",
    "joined_df = DataCleaner(train_df)\r\n",
    "joined_df = joined_df.add_columns_from_another_df_using_column(store_df, 'Store', ['StoreType','Assortment','CompetitionDistance','Promo2'])\r\n",
    "joined_df"
   ],
   "outputs": [
    {
     "output_type": "execute_result",
     "data": {
      "text/plain": [
       "         Store  DayOfWeek        Date  Sales  Customers  Open  Promo  \\\n",
       "0            1          5  2015-07-31   5263        555     1      1   \n",
       "1            2          5  2015-07-31   6064        625     1      1   \n",
       "2            3          5  2015-07-31   8314        821     1      1   \n",
       "3            4          5  2015-07-31  13995       1498     1      1   \n",
       "4            5          5  2015-07-31   4822        559     1      1   \n",
       "...        ...        ...         ...    ...        ...   ...    ...   \n",
       "1017204   1111          2  2013-01-01      0          0     0      0   \n",
       "1017205   1112          2  2013-01-01      0          0     0      0   \n",
       "1017206   1113          2  2013-01-01      0          0     0      0   \n",
       "1017207   1114          2  2013-01-01      0          0     0      0   \n",
       "1017208   1115          2  2013-01-01      0          0     0      0   \n",
       "\n",
       "        StateHoliday  SchoolHoliday StoreType Assortment  CompetitionDistance  \\\n",
       "0                  0              1         c          a               1270.0   \n",
       "1                  0              1         a          a                570.0   \n",
       "2                  0              1         a          a              14130.0   \n",
       "3                  0              1         c          c                620.0   \n",
       "4                  0              1         a          a              29910.0   \n",
       "...              ...            ...       ...        ...                  ...   \n",
       "1017204            a              1         a          a               1900.0   \n",
       "1017205            a              1         c          c               1880.0   \n",
       "1017206            a              1         a          c               9260.0   \n",
       "1017207            a              1         a          c                870.0   \n",
       "1017208            a              1         d          c               5350.0   \n",
       "\n",
       "         Promo2  \n",
       "0             0  \n",
       "1             1  \n",
       "2             1  \n",
       "3             0  \n",
       "4             0  \n",
       "...         ...  \n",
       "1017204       1  \n",
       "1017205       0  \n",
       "1017206       0  \n",
       "1017207       0  \n",
       "1017208       1  \n",
       "\n",
       "[1017209 rows x 13 columns]"
      ],
      "text/html": [
       "<div>\n",
       "<style scoped>\n",
       "    .dataframe tbody tr th:only-of-type {\n",
       "        vertical-align: middle;\n",
       "    }\n",
       "\n",
       "    .dataframe tbody tr th {\n",
       "        vertical-align: top;\n",
       "    }\n",
       "\n",
       "    .dataframe thead th {\n",
       "        text-align: right;\n",
       "    }\n",
       "</style>\n",
       "<table border=\"1\" class=\"dataframe\">\n",
       "  <thead>\n",
       "    <tr style=\"text-align: right;\">\n",
       "      <th></th>\n",
       "      <th>Store</th>\n",
       "      <th>DayOfWeek</th>\n",
       "      <th>Date</th>\n",
       "      <th>Sales</th>\n",
       "      <th>Customers</th>\n",
       "      <th>Open</th>\n",
       "      <th>Promo</th>\n",
       "      <th>StateHoliday</th>\n",
       "      <th>SchoolHoliday</th>\n",
       "      <th>StoreType</th>\n",
       "      <th>Assortment</th>\n",
       "      <th>CompetitionDistance</th>\n",
       "      <th>Promo2</th>\n",
       "    </tr>\n",
       "  </thead>\n",
       "  <tbody>\n",
       "    <tr>\n",
       "      <th>0</th>\n",
       "      <td>1</td>\n",
       "      <td>5</td>\n",
       "      <td>2015-07-31</td>\n",
       "      <td>5263</td>\n",
       "      <td>555</td>\n",
       "      <td>1</td>\n",
       "      <td>1</td>\n",
       "      <td>0</td>\n",
       "      <td>1</td>\n",
       "      <td>c</td>\n",
       "      <td>a</td>\n",
       "      <td>1270.0</td>\n",
       "      <td>0</td>\n",
       "    </tr>\n",
       "    <tr>\n",
       "      <th>1</th>\n",
       "      <td>2</td>\n",
       "      <td>5</td>\n",
       "      <td>2015-07-31</td>\n",
       "      <td>6064</td>\n",
       "      <td>625</td>\n",
       "      <td>1</td>\n",
       "      <td>1</td>\n",
       "      <td>0</td>\n",
       "      <td>1</td>\n",
       "      <td>a</td>\n",
       "      <td>a</td>\n",
       "      <td>570.0</td>\n",
       "      <td>1</td>\n",
       "    </tr>\n",
       "    <tr>\n",
       "      <th>2</th>\n",
       "      <td>3</td>\n",
       "      <td>5</td>\n",
       "      <td>2015-07-31</td>\n",
       "      <td>8314</td>\n",
       "      <td>821</td>\n",
       "      <td>1</td>\n",
       "      <td>1</td>\n",
       "      <td>0</td>\n",
       "      <td>1</td>\n",
       "      <td>a</td>\n",
       "      <td>a</td>\n",
       "      <td>14130.0</td>\n",
       "      <td>1</td>\n",
       "    </tr>\n",
       "    <tr>\n",
       "      <th>3</th>\n",
       "      <td>4</td>\n",
       "      <td>5</td>\n",
       "      <td>2015-07-31</td>\n",
       "      <td>13995</td>\n",
       "      <td>1498</td>\n",
       "      <td>1</td>\n",
       "      <td>1</td>\n",
       "      <td>0</td>\n",
       "      <td>1</td>\n",
       "      <td>c</td>\n",
       "      <td>c</td>\n",
       "      <td>620.0</td>\n",
       "      <td>0</td>\n",
       "    </tr>\n",
       "    <tr>\n",
       "      <th>4</th>\n",
       "      <td>5</td>\n",
       "      <td>5</td>\n",
       "      <td>2015-07-31</td>\n",
       "      <td>4822</td>\n",
       "      <td>559</td>\n",
       "      <td>1</td>\n",
       "      <td>1</td>\n",
       "      <td>0</td>\n",
       "      <td>1</td>\n",
       "      <td>a</td>\n",
       "      <td>a</td>\n",
       "      <td>29910.0</td>\n",
       "      <td>0</td>\n",
       "    </tr>\n",
       "    <tr>\n",
       "      <th>...</th>\n",
       "      <td>...</td>\n",
       "      <td>...</td>\n",
       "      <td>...</td>\n",
       "      <td>...</td>\n",
       "      <td>...</td>\n",
       "      <td>...</td>\n",
       "      <td>...</td>\n",
       "      <td>...</td>\n",
       "      <td>...</td>\n",
       "      <td>...</td>\n",
       "      <td>...</td>\n",
       "      <td>...</td>\n",
       "      <td>...</td>\n",
       "    </tr>\n",
       "    <tr>\n",
       "      <th>1017204</th>\n",
       "      <td>1111</td>\n",
       "      <td>2</td>\n",
       "      <td>2013-01-01</td>\n",
       "      <td>0</td>\n",
       "      <td>0</td>\n",
       "      <td>0</td>\n",
       "      <td>0</td>\n",
       "      <td>a</td>\n",
       "      <td>1</td>\n",
       "      <td>a</td>\n",
       "      <td>a</td>\n",
       "      <td>1900.0</td>\n",
       "      <td>1</td>\n",
       "    </tr>\n",
       "    <tr>\n",
       "      <th>1017205</th>\n",
       "      <td>1112</td>\n",
       "      <td>2</td>\n",
       "      <td>2013-01-01</td>\n",
       "      <td>0</td>\n",
       "      <td>0</td>\n",
       "      <td>0</td>\n",
       "      <td>0</td>\n",
       "      <td>a</td>\n",
       "      <td>1</td>\n",
       "      <td>c</td>\n",
       "      <td>c</td>\n",
       "      <td>1880.0</td>\n",
       "      <td>0</td>\n",
       "    </tr>\n",
       "    <tr>\n",
       "      <th>1017206</th>\n",
       "      <td>1113</td>\n",
       "      <td>2</td>\n",
       "      <td>2013-01-01</td>\n",
       "      <td>0</td>\n",
       "      <td>0</td>\n",
       "      <td>0</td>\n",
       "      <td>0</td>\n",
       "      <td>a</td>\n",
       "      <td>1</td>\n",
       "      <td>a</td>\n",
       "      <td>c</td>\n",
       "      <td>9260.0</td>\n",
       "      <td>0</td>\n",
       "    </tr>\n",
       "    <tr>\n",
       "      <th>1017207</th>\n",
       "      <td>1114</td>\n",
       "      <td>2</td>\n",
       "      <td>2013-01-01</td>\n",
       "      <td>0</td>\n",
       "      <td>0</td>\n",
       "      <td>0</td>\n",
       "      <td>0</td>\n",
       "      <td>a</td>\n",
       "      <td>1</td>\n",
       "      <td>a</td>\n",
       "      <td>c</td>\n",
       "      <td>870.0</td>\n",
       "      <td>0</td>\n",
       "    </tr>\n",
       "    <tr>\n",
       "      <th>1017208</th>\n",
       "      <td>1115</td>\n",
       "      <td>2</td>\n",
       "      <td>2013-01-01</td>\n",
       "      <td>0</td>\n",
       "      <td>0</td>\n",
       "      <td>0</td>\n",
       "      <td>0</td>\n",
       "      <td>a</td>\n",
       "      <td>1</td>\n",
       "      <td>d</td>\n",
       "      <td>c</td>\n",
       "      <td>5350.0</td>\n",
       "      <td>1</td>\n",
       "    </tr>\n",
       "  </tbody>\n",
       "</table>\n",
       "<p>1017209 rows × 13 columns</p>\n",
       "</div>"
      ]
     },
     "metadata": {},
     "execution_count": 5
    }
   ],
   "metadata": {}
  },
  {
   "cell_type": "code",
   "execution_count": 7,
   "source": [
    "# joined_df.to_csv('../data/store_train_joined.csv')"
   ],
   "outputs": [],
   "metadata": {}
  },
  {
   "cell_type": "code",
   "execution_count": 16,
   "source": [
    "joined_df['StateHoliday'] = joined_df['StateHoliday'].apply(lambda x: 0 if x == '0' else x)\r\n"
   ],
   "outputs": [],
   "metadata": {}
  },
  {
   "cell_type": "code",
   "execution_count": null,
   "source": [
    "#Loading the joined data\r\n",
    "joined_df = load_df_from_csv('../data/store_train_joined.csv')\r\n",
    "joined_df_info = DataInfo(joined_df, deep=True)\r\n",
    "joined_df_info.get_information()\r\n"
   ],
   "outputs": [],
   "metadata": {}
  },
  {
   "cell_type": "code",
   "execution_count": null,
   "source": [
    "#Loading the test data\r\n",
    "test_df = load_df_from_csv('../data/test.csv')\r\n",
    "test_data_info = DataInfo(test_df, deep=True)\r\n",
    "test_data_info.get_information()\r\n"
   ],
   "outputs": [],
   "metadata": {}
  },
  {
   "cell_type": "code",
   "execution_count": null,
   "source": [
    "# We have to separate the Date to determine season\r\n",
    "# Separating date for train_data\r\n",
    "train_data_cleaner = DataCleaner(train_df)\r\n",
    "test_data_cleaner = DataCleaner(test_df)"
   ],
   "outputs": [],
   "metadata": {}
  },
  {
   "cell_type": "code",
   "execution_count": null,
   "source": [
    "train_data_cleaner.change_column_to_date_type('Date')\r\n",
    "test_data_cleaner.change_column_to_date_type('Date')"
   ],
   "outputs": [],
   "metadata": {}
  },
  {
   "cell_type": "markdown",
   "source": [],
   "metadata": {}
  },
  {
   "cell_type": "code",
   "execution_count": null,
   "source": [
    "test_data_cleaner.df.dtypes"
   ],
   "outputs": [],
   "metadata": {}
  },
  {
   "cell_type": "code",
   "execution_count": null,
   "source": [
    "train_data_cleaner.separate_date_column(date_column='Date')\r\n",
    "test_data_cleaner.separate_date_column(date_column='Date')"
   ],
   "outputs": [],
   "metadata": {}
  },
  {
   "cell_type": "code",
   "execution_count": null,
   "source": [
    "train_season = DataInfo(train_data_cleaner.df)\r\n",
    "test_season = DataInfo(test_data_cleaner.df)"
   ],
   "outputs": [],
   "metadata": {}
  },
  {
   "cell_type": "code",
   "execution_count": null,
   "source": [
    "train_season.get_col_unique_value_count('Month')"
   ],
   "outputs": [],
   "metadata": {}
  },
  {
   "cell_type": "code",
   "execution_count": null,
   "source": [
    "train_season.get_col_value_count('Month')"
   ],
   "outputs": [],
   "metadata": {}
  },
  {
   "cell_type": "code",
   "execution_count": null,
   "source": [
    "test_season.get_col_unique_value_count('Month')"
   ],
   "outputs": [],
   "metadata": {}
  },
  {
   "cell_type": "code",
   "execution_count": null,
   "source": [
    "test_season.get_col_value_count('Month')"
   ],
   "outputs": [],
   "metadata": {}
  },
  {
   "cell_type": "code",
   "execution_count": null,
   "source": [
    "#Checking if they seasons are the same(month)\r\n",
    "train_season.get_col_value_count('Month').index.to_list() == test_season.get_col_value_count('Month').index.to_list()"
   ],
   "outputs": [],
   "metadata": {}
  },
  {
   "cell_type": "code",
   "execution_count": null,
   "source": [
    "plt.title('A tale of 2 subplots')\r\n",
    "\r\n",
    "plt.subplot(1, 2, 1)\r\n",
    "a = train_season.df['Month'].value_counts()\r\n",
    "plt.bar(a.index, a.values)\r\n",
    "plt.ylabel('Damped oscillation')\r\n",
    "\r\n",
    "\r\n",
    "plt.subplot(1, 2, 2)\r\n",
    "train_season.df['Month'].value_counts().plot(kind='bar')\r\n",
    "plt.xlabel('time (s)')\r\n",
    "plt.ylabel('Undamped')\r\n",
    "\r\n",
    "fig.tight_layout()\r\n"
   ],
   "outputs": [],
   "metadata": {}
  },
  {
   "cell_type": "code",
   "execution_count": null,
   "source": [
    "# graph_comparison_bar_plot(train_season.df,test_season.df, 'Month', \"Season\")\r\n",
    "import seaborn as sns\r\n",
    "import matplotlib.pyplot as plt\r\n",
    "\r\n",
    "fig, (ax1, ax2) = plt.subplots(1, 2, figsize=(20, 8))\r\n",
    "sns.histplot(train_season.df['Month'], ax=ax1)\r\n",
    "sns.histplot(test_season.df['Month'], ax=ax2)\r\n",
    "fig.suptitle(f'Distribution of hello', size=20, fontweight='bold')\r\n",
    "fig.tight_layout()\r\n"
   ],
   "outputs": [],
   "metadata": {}
  },
  {
   "cell_type": "markdown",
   "source": [
    "## Check & compare sales behavior before, during and after holidays"
   ],
   "metadata": {}
  },
  {
   "cell_type": "code",
   "execution_count": null,
   "source": [],
   "outputs": [],
   "metadata": {}
  },
  {
   "cell_type": "markdown",
   "source": [
    "## Find out any seasonal (Christmas, Easter etc) purchase behaviours"
   ],
   "metadata": {}
  },
  {
   "cell_type": "code",
   "execution_count": null,
   "source": [
    "train_season.df['StateHoliday'] = train_season.df['StateHoliday'].apply(lambda x: if(x == 0 or x == '0') return 0)\r\n",
    "seasonal = train_season.get_grouped_by('StateHoliday').agg({'Sales':'mean', 'Customers':'mean'})\r\n",
    "# seasonal = seasonal.iloc[2:,:]\r\n",
    "seasonal"
   ],
   "outputs": [],
   "metadata": {}
  },
  {
   "cell_type": "code",
   "execution_count": null,
   "source": [
    "import numpy as np\r\n",
    "\r\n",
    "seasonal.index = ['Public Holiday','Easter Holiday','Christmas']\r\n",
    "X_axis = np.arange(len(seasonal.index))\r\n",
    "plt.bar(X_axis - 0.2, seasonal['Sales'], 0.4, label='Sales')\r\n",
    "plt.bar(X_axis + 0.2, seasonal['Customers'], 0.4, label='Customers')\r\n",
    "\r\n",
    "plt.xticks(X_axis, seasonal.index)\r\n",
    "plt.xlabel(\"Season\")\r\n",
    "plt.ylabel(\"Amount\")\r\n",
    "plt.title(\"Sales and Customers During Holiday Seasons\")\r\n",
    "plt.legend()\r\n",
    "plt.show()\r\n"
   ],
   "outputs": [],
   "metadata": {}
  },
  {
   "cell_type": "markdown",
   "source": [
    "## What can you say about the correlation between sales and number of customers?"
   ],
   "metadata": {}
  },
  {
   "cell_type": "code",
   "execution_count": null,
   "source": [
    "sales_customer_rln = train_df.loc[:,['Sales','Customers']]\r\n",
    "sales_cutomer_corr = sales_customer_rln.corr()\r\n",
    "sales_cutomer_corr"
   ],
   "outputs": [],
   "metadata": {}
  },
  {
   "cell_type": "code",
   "execution_count": null,
   "source": [
    "plt.figure(figsize=(10, 7))\r\n",
    "sns.heatmap(sales_cutomer_corr)\r\n",
    "plt.title('Sales - Customer Relation ', size=18, fontweight='bold')"
   ],
   "outputs": [],
   "metadata": {}
  },
  {
   "cell_type": "markdown",
   "source": [
    "## How does promo affect sales? Are the promos attracting more customers? How does it affect already existing customers?"
   ],
   "metadata": {}
  },
  {
   "cell_type": "markdown",
   "source": [
    "### How does promo affect sales?"
   ],
   "metadata": {}
  },
  {
   "cell_type": "code",
   "execution_count": null,
   "source": [
    "sales_promo_rln = train_df.loc[:,['Sales','Promo']]\r\n",
    "sales_promo_corr = sales_promo_rln.corr()\r\n",
    "sales_promo_corr"
   ],
   "outputs": [],
   "metadata": {}
  },
  {
   "cell_type": "code",
   "execution_count": null,
   "source": [
    "plt.figure(figsize=(10, 7))\r\n",
    "sns.heatmap(sales_promo_corr)\r\n",
    "plt.title('Sales - Promotion Relation', size=18, fontweight='bold')\r\n"
   ],
   "outputs": [],
   "metadata": {}
  },
  {
   "cell_type": "markdown",
   "source": [
    "### Are the promos attracting more customers?"
   ],
   "metadata": {}
  },
  {
   "cell_type": "code",
   "execution_count": null,
   "source": [
    "customer_promo_rln = train_df.loc[:, ['Customers', 'Promo']]\r\n",
    "customer_promo_corr = customer_promo_rln.corr()\r\n",
    "customer_promo_corr\r\n"
   ],
   "outputs": [],
   "metadata": {}
  },
  {
   "cell_type": "code",
   "execution_count": null,
   "source": [
    "plt.figure(figsize=(10, 7))\r\n",
    "sns.heatmap(customer_promo_corr)\r\n",
    "plt.title('Sales - Promotion Relation', size=18, fontweight='bold')\r\n"
   ],
   "outputs": [],
   "metadata": {}
  },
  {
   "cell_type": "code",
   "execution_count": null,
   "source": [
    "promo_customers_rln = train_df.loc[:,['Store','Customers','Promo']]\r\n",
    "store_customer_difference = promo_customers_rln.groupby(['Store','Promo']).agg({'Customers':'mean'})\r\n",
    "store_customer_difference"
   ],
   "outputs": [],
   "metadata": {}
  },
  {
   "cell_type": "markdown",
   "source": [
    "## Trends of customer behavior during store open and closing times"
   ],
   "metadata": {}
  },
  {
   "cell_type": "code",
   "execution_count": null,
   "source": [],
   "outputs": [],
   "metadata": {}
  },
  {
   "cell_type": "code",
   "execution_count": null,
   "source": [
    "customer_value = store_customer_difference.Customers.values.tolist()\r\n",
    "def get_average_increase_from_all_stores(grouped_cutomer_list:list) -> float:\r\n",
    "    percentage_increase = []\r\n",
    "    i = 0\r\n",
    "    while(i < len(grouped_cutomer_list)):\r\n",
    "        new_perc = ((grouped_cutomer_list[i+1] * 100) / grouped_cutomer_list[i]) - 100\r\n",
    "        percentage_increase.append(new_perc)\r\n",
    "        i += 2\r\n",
    "\r\n",
    "    return sum(percentage_increase) / len(percentage_increase)\r\n",
    "\r\n",
    "get_average_increase_from_all_stores(customer_value)"
   ],
   "outputs": [],
   "metadata": {}
  },
  {
   "cell_type": "markdown",
   "source": [
    "## Could the promos be deployed in more effective ways? Which stores should promos be deployed in?"
   ],
   "metadata": {}
  },
  {
   "cell_type": "code",
   "execution_count": null,
   "source": [
    "# Promos are better deployed if they show a high percentage of increase\r\n",
    "def get_increase_per_store(grouped_cutomer_list: list, profitable_promo:float=10) -> list:\r\n",
    "    store_index = []\r\n",
    "    i = 0\r\n",
    "    while(i < len(grouped_cutomer_list)):\r\n",
    "        new_perc = ((grouped_cutomer_list[i+1] * 100) / grouped_cutomer_list[i]) - 100\r\n",
    "        if(new_perc >= profitable_promo):\r\n",
    "            store_index.append(i/2)\r\n",
    "        i += 2\r\n",
    "\r\n",
    "    return store_index\r\n",
    "\r\n",
    "\r\n",
    "store_index = get_increase_per_store(customer_value, 10)\r\n",
    "store_customer_difference.iloc[store_index,:]\r\n"
   ],
   "outputs": [],
   "metadata": {}
  },
  {
   "cell_type": "markdown",
   "source": [
    "## Trends of customer behavior during store open and closing times"
   ],
   "metadata": {}
  },
  {
   "cell_type": "code",
   "execution_count": null,
   "source": [
    "customer_behaviour = train_df.groupby('Open').agg({'Customers':'mean','Sales':'mean'})\r\n",
    "customer_behaviour"
   ],
   "outputs": [],
   "metadata": {}
  },
  {
   "cell_type": "markdown",
   "source": [
    "## Which stores are opened on all weekdays? How does that affect their sales on weekends? "
   ],
   "metadata": {}
  },
  {
   "cell_type": "code",
   "execution_count": null,
   "source": [
    "# open_all_weekdays = \r\n",
    "# all_week_stores = pd.DataFrame(train_df.groupby(['Store', 'DayOfWeek']).size().groupby(level=1).count(),columns=['Open For Week Days'])\r\n",
    "# all_week_stores[all_week_stores['Open For Week Days'] == 5]\r\n",
    "# all_week_stores\r\n",
    "# train_df.groupby(['Store', 'DayOfWeek']).agg({'Sales':'mean'})\r\n"
   ],
   "outputs": [],
   "metadata": {}
  },
  {
   "cell_type": "code",
   "execution_count": 36,
   "source": [
    "# open_all_weekdays (Mon - Fri)\r\n",
    "# First Remove all holiday related days\r\n",
    "holiday_out_df = joined_df[joined_df['StateHoliday'] == 0]\r\n",
    "weekdays_df = holiday_out_df[holiday_out_df['DayOfWeek'] <= 5]\r\n",
    "not_open_stores = weekdays_df[weekdays_df['Open'] == 0]\r\n",
    "not_open_stores_id = not_open_stores['Store']\r\n",
    "not_open_stores_id = not_open_stores_id.values.tolist()\r\n",
    "\r\n",
    "all_weekdays_open_stores = joined_df[~joined_df['Store'].isin(not_open_stores_id)]\r\n",
    "all_weekdays_open_stores\r\n"
   ],
   "outputs": [
    {
     "output_type": "execute_result",
     "data": {
      "text/plain": [
       "         Store  DayOfWeek        Date  Sales  Customers  Open  Promo  \\\n",
       "0            1          5  2015-07-31   5263        555     1      1   \n",
       "2            3          5  2015-07-31   8314        821     1      1   \n",
       "3            4          5  2015-07-31  13995       1498     1      1   \n",
       "5            6          5  2015-07-31   5651        589     1      1   \n",
       "6            7          5  2015-07-31  15344       1414     1      1   \n",
       "...        ...        ...         ...    ...        ...   ...    ...   \n",
       "1017204   1111          2  2013-01-01      0          0     0      0   \n",
       "1017205   1112          2  2013-01-01      0          0     0      0   \n",
       "1017206   1113          2  2013-01-01      0          0     0      0   \n",
       "1017207   1114          2  2013-01-01      0          0     0      0   \n",
       "1017208   1115          2  2013-01-01      0          0     0      0   \n",
       "\n",
       "        StateHoliday  SchoolHoliday StoreType Assortment  CompetitionDistance  \\\n",
       "0                  0              1         c          a               1270.0   \n",
       "2                  0              1         a          a              14130.0   \n",
       "3                  0              1         c          c                620.0   \n",
       "5                  0              1         a          a                310.0   \n",
       "6                  0              1         a          c              24000.0   \n",
       "...              ...            ...       ...        ...                  ...   \n",
       "1017204            a              1         a          a               1900.0   \n",
       "1017205            a              1         c          c               1880.0   \n",
       "1017206            a              1         a          c               9260.0   \n",
       "1017207            a              1         a          c                870.0   \n",
       "1017208            a              1         d          c               5350.0   \n",
       "\n",
       "         Promo2  \n",
       "0             0  \n",
       "2             1  \n",
       "3             0  \n",
       "5             0  \n",
       "6             0  \n",
       "...         ...  \n",
       "1017204       1  \n",
       "1017205       0  \n",
       "1017206       0  \n",
       "1017207       0  \n",
       "1017208       1  \n",
       "\n",
       "[843609 rows x 13 columns]"
      ],
      "text/html": [
       "<div>\n",
       "<style scoped>\n",
       "    .dataframe tbody tr th:only-of-type {\n",
       "        vertical-align: middle;\n",
       "    }\n",
       "\n",
       "    .dataframe tbody tr th {\n",
       "        vertical-align: top;\n",
       "    }\n",
       "\n",
       "    .dataframe thead th {\n",
       "        text-align: right;\n",
       "    }\n",
       "</style>\n",
       "<table border=\"1\" class=\"dataframe\">\n",
       "  <thead>\n",
       "    <tr style=\"text-align: right;\">\n",
       "      <th></th>\n",
       "      <th>Store</th>\n",
       "      <th>DayOfWeek</th>\n",
       "      <th>Date</th>\n",
       "      <th>Sales</th>\n",
       "      <th>Customers</th>\n",
       "      <th>Open</th>\n",
       "      <th>Promo</th>\n",
       "      <th>StateHoliday</th>\n",
       "      <th>SchoolHoliday</th>\n",
       "      <th>StoreType</th>\n",
       "      <th>Assortment</th>\n",
       "      <th>CompetitionDistance</th>\n",
       "      <th>Promo2</th>\n",
       "    </tr>\n",
       "  </thead>\n",
       "  <tbody>\n",
       "    <tr>\n",
       "      <th>0</th>\n",
       "      <td>1</td>\n",
       "      <td>5</td>\n",
       "      <td>2015-07-31</td>\n",
       "      <td>5263</td>\n",
       "      <td>555</td>\n",
       "      <td>1</td>\n",
       "      <td>1</td>\n",
       "      <td>0</td>\n",
       "      <td>1</td>\n",
       "      <td>c</td>\n",
       "      <td>a</td>\n",
       "      <td>1270.0</td>\n",
       "      <td>0</td>\n",
       "    </tr>\n",
       "    <tr>\n",
       "      <th>2</th>\n",
       "      <td>3</td>\n",
       "      <td>5</td>\n",
       "      <td>2015-07-31</td>\n",
       "      <td>8314</td>\n",
       "      <td>821</td>\n",
       "      <td>1</td>\n",
       "      <td>1</td>\n",
       "      <td>0</td>\n",
       "      <td>1</td>\n",
       "      <td>a</td>\n",
       "      <td>a</td>\n",
       "      <td>14130.0</td>\n",
       "      <td>1</td>\n",
       "    </tr>\n",
       "    <tr>\n",
       "      <th>3</th>\n",
       "      <td>4</td>\n",
       "      <td>5</td>\n",
       "      <td>2015-07-31</td>\n",
       "      <td>13995</td>\n",
       "      <td>1498</td>\n",
       "      <td>1</td>\n",
       "      <td>1</td>\n",
       "      <td>0</td>\n",
       "      <td>1</td>\n",
       "      <td>c</td>\n",
       "      <td>c</td>\n",
       "      <td>620.0</td>\n",
       "      <td>0</td>\n",
       "    </tr>\n",
       "    <tr>\n",
       "      <th>5</th>\n",
       "      <td>6</td>\n",
       "      <td>5</td>\n",
       "      <td>2015-07-31</td>\n",
       "      <td>5651</td>\n",
       "      <td>589</td>\n",
       "      <td>1</td>\n",
       "      <td>1</td>\n",
       "      <td>0</td>\n",
       "      <td>1</td>\n",
       "      <td>a</td>\n",
       "      <td>a</td>\n",
       "      <td>310.0</td>\n",
       "      <td>0</td>\n",
       "    </tr>\n",
       "    <tr>\n",
       "      <th>6</th>\n",
       "      <td>7</td>\n",
       "      <td>5</td>\n",
       "      <td>2015-07-31</td>\n",
       "      <td>15344</td>\n",
       "      <td>1414</td>\n",
       "      <td>1</td>\n",
       "      <td>1</td>\n",
       "      <td>0</td>\n",
       "      <td>1</td>\n",
       "      <td>a</td>\n",
       "      <td>c</td>\n",
       "      <td>24000.0</td>\n",
       "      <td>0</td>\n",
       "    </tr>\n",
       "    <tr>\n",
       "      <th>...</th>\n",
       "      <td>...</td>\n",
       "      <td>...</td>\n",
       "      <td>...</td>\n",
       "      <td>...</td>\n",
       "      <td>...</td>\n",
       "      <td>...</td>\n",
       "      <td>...</td>\n",
       "      <td>...</td>\n",
       "      <td>...</td>\n",
       "      <td>...</td>\n",
       "      <td>...</td>\n",
       "      <td>...</td>\n",
       "      <td>...</td>\n",
       "    </tr>\n",
       "    <tr>\n",
       "      <th>1017204</th>\n",
       "      <td>1111</td>\n",
       "      <td>2</td>\n",
       "      <td>2013-01-01</td>\n",
       "      <td>0</td>\n",
       "      <td>0</td>\n",
       "      <td>0</td>\n",
       "      <td>0</td>\n",
       "      <td>a</td>\n",
       "      <td>1</td>\n",
       "      <td>a</td>\n",
       "      <td>a</td>\n",
       "      <td>1900.0</td>\n",
       "      <td>1</td>\n",
       "    </tr>\n",
       "    <tr>\n",
       "      <th>1017205</th>\n",
       "      <td>1112</td>\n",
       "      <td>2</td>\n",
       "      <td>2013-01-01</td>\n",
       "      <td>0</td>\n",
       "      <td>0</td>\n",
       "      <td>0</td>\n",
       "      <td>0</td>\n",
       "      <td>a</td>\n",
       "      <td>1</td>\n",
       "      <td>c</td>\n",
       "      <td>c</td>\n",
       "      <td>1880.0</td>\n",
       "      <td>0</td>\n",
       "    </tr>\n",
       "    <tr>\n",
       "      <th>1017206</th>\n",
       "      <td>1113</td>\n",
       "      <td>2</td>\n",
       "      <td>2013-01-01</td>\n",
       "      <td>0</td>\n",
       "      <td>0</td>\n",
       "      <td>0</td>\n",
       "      <td>0</td>\n",
       "      <td>a</td>\n",
       "      <td>1</td>\n",
       "      <td>a</td>\n",
       "      <td>c</td>\n",
       "      <td>9260.0</td>\n",
       "      <td>0</td>\n",
       "    </tr>\n",
       "    <tr>\n",
       "      <th>1017207</th>\n",
       "      <td>1114</td>\n",
       "      <td>2</td>\n",
       "      <td>2013-01-01</td>\n",
       "      <td>0</td>\n",
       "      <td>0</td>\n",
       "      <td>0</td>\n",
       "      <td>0</td>\n",
       "      <td>a</td>\n",
       "      <td>1</td>\n",
       "      <td>a</td>\n",
       "      <td>c</td>\n",
       "      <td>870.0</td>\n",
       "      <td>0</td>\n",
       "    </tr>\n",
       "    <tr>\n",
       "      <th>1017208</th>\n",
       "      <td>1115</td>\n",
       "      <td>2</td>\n",
       "      <td>2013-01-01</td>\n",
       "      <td>0</td>\n",
       "      <td>0</td>\n",
       "      <td>0</td>\n",
       "      <td>0</td>\n",
       "      <td>a</td>\n",
       "      <td>1</td>\n",
       "      <td>d</td>\n",
       "      <td>c</td>\n",
       "      <td>5350.0</td>\n",
       "      <td>1</td>\n",
       "    </tr>\n",
       "  </tbody>\n",
       "</table>\n",
       "<p>843609 rows × 13 columns</p>\n",
       "</div>"
      ]
     },
     "metadata": {},
     "execution_count": 36
    }
   ],
   "metadata": {}
  },
  {
   "cell_type": "markdown",
   "source": [
    "## Check how the assortment type affects sales"
   ],
   "metadata": {}
  },
  {
   "cell_type": "code",
   "execution_count": null,
   "source": [
    "assortment_sales_rln = train_df.loc[:, ['Assortment', 'Sales']]\r\n",
    "assortment_sales_rln = assortment_sales_rln.groupby(\r\n",
    "    \"Assortment\").agg({'Sales': 'sum'})\r\n",
    "assortment_sales_rln\r\n",
    "# plt.bar(X_axis - 0.2, seasonal['Sales'], 0.4, label='Sales')\r\n"
   ],
   "outputs": [],
   "metadata": {}
  },
  {
   "cell_type": "code",
   "execution_count": null,
   "source": [
    "# Adding Season Column to both train and test dataframes\r\n",
    "# Train DataFrame\r\n",
    "# Creating a DataCleaner Class to access the add season method\r\n",
    "train_add_season = DataCleaner(train_season.df)\r\n",
    "# Using the add season method\r\n",
    "train_add_season.add_season_col('Month')\r\n",
    "\r\n",
    "# Creating a DataCleaner Class to access the add season method\r\n",
    "test_add_season = DataCleaner(test_season.df)\r\n",
    "# Using the add season method\r\n",
    "test_add_season.add_season_col('Month')\r\n"
   ],
   "outputs": [],
   "metadata": {}
  },
  {
   "cell_type": "code",
   "execution_count": null,
   "source": [
    "# Creating a DataInfo class on both to use information methods\r\n",
    "train_season = DataInfo(train_add_season.df)\r\n",
    "test_season = DataInfo(test_add_season.df)"
   ],
   "outputs": [],
   "metadata": {}
  },
  {
   "cell_type": "code",
   "execution_count": null,
   "source": [
    "# sample of train season after getting new season column\r\n",
    "train_season.df.sample(10)"
   ],
   "outputs": [],
   "metadata": {}
  },
  {
   "cell_type": "code",
   "execution_count": null,
   "source": [
    "# Grouping train data by Month and summing the sales and customers columns\r\n",
    "month_train = train_season.get_grouped_by('Month').agg({'Sales':'sum','Customers':'sum'}).sort_values(by='Sales',ascending=False)\r\n",
    "month_train"
   ],
   "outputs": [],
   "metadata": {}
  },
  {
   "cell_type": "code",
   "execution_count": null,
   "source": [
    "# Sales where high in this months respectively\r\n",
    "convert_to_month_name(month_train.index.to_list())"
   ],
   "outputs": [],
   "metadata": {}
  },
  {
   "cell_type": "code",
   "execution_count": null,
   "source": [
    "# Grouping train data by Season and summing the sales and customers columns\r\n",
    "train_season.get_grouped_by('Season').agg(\r\n",
    "    {'Sales': 'sum', 'Customers': 'sum'}).sort_values(by='Sales', ascending=False)\r\n"
   ],
   "outputs": [],
   "metadata": {}
  },
  {
   "cell_type": "markdown",
   "source": [],
   "metadata": {}
  },
  {
   "cell_type": "code",
   "execution_count": null,
   "source": [
    "test_season.get_grouped_by('Month').agg(\r\n",
    "    {'Sales': 'sum', 'Customers': 'sum'}).sort_values(by='Sales', ascending=False)\r\n"
   ],
   "outputs": [],
   "metadata": {}
  },
  {
   "cell_type": "code",
   "execution_count": null,
   "source": [
    "test_season.get_grouped_by('Season').agg(\r\n",
    "    {'Sales': 'sum', 'Customers': 'sum'}).sort_values(by='Sales', ascending=False)"
   ],
   "outputs": [],
   "metadata": {}
  },
  {
   "cell_type": "code",
   "execution_count": null,
   "source": [
    "train_data_info.df.head(5)"
   ],
   "outputs": [],
   "metadata": {}
  },
  {
   "cell_type": "code",
   "execution_count": null,
   "source": [
    "test_data_cleaner.df.info()"
   ],
   "outputs": [],
   "metadata": {}
  },
  {
   "cell_type": "code",
   "execution_count": null,
   "source": [
    "train_data_info.get_size()"
   ],
   "outputs": [],
   "metadata": {}
  },
  {
   "cell_type": "code",
   "execution_count": null,
   "source": [
    "#Check if there are columns with missing values\r\n",
    "train_data_info.get_columns_with_missing_values()"
   ],
   "outputs": [],
   "metadata": {}
  },
  {
   "cell_type": "code",
   "execution_count": null,
   "source": [
    "train_data_info.get_columns()"
   ],
   "outputs": [],
   "metadata": {}
  },
  {
   "cell_type": "code",
   "execution_count": null,
   "source": [
    "train_data_info.get_dispersion_params()"
   ],
   "outputs": [],
   "metadata": {}
  },
  {
   "cell_type": "code",
   "execution_count": null,
   "source": [
    "train_data_info.get_duplicates()"
   ],
   "outputs": [],
   "metadata": {}
  },
  {
   "cell_type": "code",
   "execution_count": null,
   "source": [
    "train_data_info.get_matrix_correlation()"
   ],
   "outputs": [],
   "metadata": {}
  },
  {
   "cell_type": "code",
   "execution_count": null,
   "source": [
    "train_data_info.get_min_max_of_dataframe_columns()"
   ],
   "outputs": [],
   "metadata": {}
  },
  {
   "cell_type": "code",
   "execution_count": null,
   "source": [
    "store_group = train_data_info.get_grouped_by('Store').agg({'Sales':'sum','Customers':'sum','Open':'sum', 'Promo':'sum','SchoolHoliday':'sum'})\r\n",
    "store_group"
   ],
   "outputs": [],
   "metadata": {}
  },
  {
   "cell_type": "code",
   "execution_count": null,
   "source": [
    "store_group.corr()"
   ],
   "outputs": [],
   "metadata": {}
  },
  {
   "cell_type": "code",
   "execution_count": null,
   "source": [],
   "outputs": [],
   "metadata": {}
  }
 ],
 "metadata": {
  "orig_nbformat": 4,
  "language_info": {
   "name": "python",
   "version": "3.8.4",
   "mimetype": "text/x-python",
   "codemirror_mode": {
    "name": "ipython",
    "version": 3
   },
   "pygments_lexer": "ipython3",
   "nbconvert_exporter": "python",
   "file_extension": ".py"
  },
  "kernelspec": {
   "name": "python3",
   "display_name": "Python 3.8.4 64-bit"
  },
  "interpreter": {
   "hash": "2db524e06e9f5f4ffedc911c917cb75e12dbc923643829bf417064a77eb14d37"
  }
 },
 "nbformat": 4,
 "nbformat_minor": 2
}