{
 "cells": [
  {
   "cell_type": "markdown",
   "source": [
    "# Data Exploration"
   ],
   "metadata": {}
  },
  {
   "cell_type": "markdown",
   "source": [
    "The finance team wants to forecast sales in all their stores across several cities six weeks ahead of time."
   ],
   "metadata": {}
  },
  {
   "cell_type": "markdown",
   "source": [
    "- Id - an Id that represents a (Store, Date) duple within the test set\r\n",
    "- Store - a unique Id for each store\r\n",
    "- Sales - the turnover for any given day (this is what you are predicting)\r\n",
    "- Customers - the number of customers on a given day\r\n",
    "- Open - an indicator for whether the store was open: 0 = closed, 1 = open\r\n",
    "- StateHoliday - indicates a state holiday. Normally all stores, with few exceptions, are closed on state holidays. Note that all schools are closed on public holidays and weekends. a = public holiday, b = Easter holiday, c = Christmas, 0 = None\r\n",
    "- SchoolHoliday - indicates if the (Store, Date) was affected by the closure of public schools\r\n",
    "- StoreType - differentiates between 4 different store models: a, b, c, d\r\n",
    "- Assortment - describes an assortment level: a = basic, b = extra, c = extended. Read more about assortment here\r\n",
    "- CompetitionDistance - distance in meters to the nearest competitor store\r\n",
    "- CompetitionOpenSince[Month/Year] - gives the approximate year and month of the time the nearest competitor was opened\r\n",
    "- Promo - indicates whether a store is running a promo on that day\r\n",
    "- Promo2 - Promo2 is a continuing and consecutive promotion for some stores: 0 = store is not participating, 1 = store is participating\r\n",
    "- Promo2Since[Year/Week] - describes the year and calendar week when the store started participating in Promo2\r\n",
    "- PromoInterval - describes the consecutive intervals Promo2 is started, naming the months the promotion is started anew. E.g. \"Feb,May,Aug,Nov\" means each round starts in February, May, August, November of any given year for that store"
   ],
   "metadata": {}
  },
  {
   "cell_type": "markdown",
   "source": [
    "## Loading Data"
   ],
   "metadata": {}
  },
  {
   "cell_type": "code",
   "execution_count": 53,
   "source": [
    "#importing Libraries\r\n",
    "import pandas as pd\r\n",
    "# import dvc.api\r\n",
    "import os\r\n",
    "import sys"
   ],
   "outputs": [],
   "metadata": {}
  },
  {
   "cell_type": "code",
   "execution_count": 54,
   "source": [
    "#import local libraries\r\n",
    "#Adding scripts path\r\n",
    "sys.path.append(os.path.abspath(os.path.join('..')))\r\n",
    "#importing dvc_data_loader script\r\n",
    "# from scripts.dvc_data_loader import *\r\n",
    "from scripts.data_information import DataInfo\r\n",
    "from scripts.data_loader import load_df_from_csv\r\n",
    "from scripts.data_manipulation import DataManipulator\r\n",
    "from scripts.data_cleaner import DataCleaner\r\n",
    "from scripts.utlity_functions import convert_to_month_name\r\n",
    "from scripts.grapher import *\r\n",
    "from scripts.dvc_data_loader import get_dvc_data\r\n"
   ],
   "outputs": [],
   "metadata": {}
  },
  {
   "cell_type": "code",
   "execution_count": 55,
   "source": [
    "# get_dvc_data('test.csv')"
   ],
   "outputs": [],
   "metadata": {}
  },
  {
   "cell_type": "code",
   "execution_count": 56,
   "source": [
    "#Loading the train data\r\n",
    "train_df = load_df_from_csv('../data/train.csv')\r\n",
    "train_data_info = DataInfo(train_df, deep=True)\r\n",
    "train_data_info.get_information()\r\n",
    "train_data_info.get_col_unique_value_count('Store')"
   ],
   "outputs": [
    {
     "output_type": "stream",
     "name": "stderr",
     "text": [
      "C:\\Python38\\lib\\site-packages\\IPython\\core\\interactiveshell.py:3357: DtypeWarning: Columns (7) have mixed types.Specify dtype option on import or set low_memory=False.\n",
      "  if (await self.run_code(code, result,  async_=asy)):\n"
     ]
    },
    {
     "output_type": "stream",
     "name": "stdout",
     "text": [
      "DataFrame Information: \n",
      "<class 'pandas.core.frame.DataFrame'>\n",
      "RangeIndex: 1017209 entries, 0 to 1017208\n",
      "Data columns (total 9 columns):\n",
      " #   Column         Non-Null Count    Dtype \n",
      "---  ------         --------------    ----- \n",
      " 0   Store          1017209 non-null  uint16\n",
      " 1   DayOfWeek      1017209 non-null  uint8 \n",
      " 2   Date           1017209 non-null  object\n",
      " 3   Sales          1017209 non-null  uint16\n",
      " 4   Customers      1017209 non-null  uint16\n",
      " 5   Open           1017209 non-null  uint8 \n",
      " 6   Promo          1017209 non-null  uint8 \n",
      " 7   StateHoliday   1017209 non-null  object\n",
      " 8   SchoolHoliday  1017209 non-null  uint8 \n",
      "dtypes: object(2), uint16(3), uint8(4)\n",
      "memory usage: 25.2+ MB\n",
      "Number of unique values in column Store is: 1115\n"
     ]
    }
   ],
   "metadata": {}
  },
  {
   "cell_type": "code",
   "execution_count": 57,
   "source": [
    "#Loading the store data\r\n",
    "store_df = load_df_from_csv('../data/store.csv')\r\n",
    "store_data_info = DataInfo(store_df, deep=True)\r\n",
    "store_data_info.get_information()\r\n"
   ],
   "outputs": [
    {
     "output_type": "stream",
     "name": "stdout",
     "text": [
      "DataFrame Information: \n",
      "<class 'pandas.core.frame.DataFrame'>\n",
      "RangeIndex: 1115 entries, 0 to 1114\n",
      "Data columns (total 10 columns):\n",
      " #   Column                     Non-Null Count  Dtype  \n",
      "---  ------                     --------------  -----  \n",
      " 0   Store                      1115 non-null   uint16 \n",
      " 1   StoreType                  1115 non-null   object \n",
      " 2   Assortment                 1115 non-null   object \n",
      " 3   CompetitionDistance        1112 non-null   float32\n",
      " 4   CompetitionOpenSinceMonth  761 non-null    float32\n",
      " 5   CompetitionOpenSinceYear   761 non-null    float32\n",
      " 6   Promo2                     1115 non-null   uint8  \n",
      " 7   Promo2SinceWeek            571 non-null    float32\n",
      " 8   Promo2SinceYear            571 non-null    float32\n",
      " 9   PromoInterval              571 non-null    object \n",
      "dtypes: float32(5), object(3), uint16(1), uint8(1)\n",
      "memory usage: 51.3+ KB\n"
     ]
    }
   ],
   "metadata": {}
  },
  {
   "cell_type": "code",
   "execution_count": 247,
   "source": [
    "# Combining Train Data with Store Data using Store Id to match/join the instances\r\n",
    "joined_df = DataCleaner(train_df)\r\n",
    "joined_df = joined_df.add_columns_from_another_df_using_column(store_df, 'Store', ['StoreType','Assortment','CompetitionDistance','Promo2'])\r\n",
    "joined_df"
   ],
   "outputs": [
    {
     "output_type": "execute_result",
     "data": {
      "text/plain": [
       "         Store  DayOfWeek       Date  Year  Month  Day  Sales  Customers  \\\n",
       "0            1          5 2015-07-31  2015      7   31   5263        555   \n",
       "1            2          5 2015-07-31  2015      7   31   6064        625   \n",
       "2            3          5 2015-07-31  2015      7   31   8314        821   \n",
       "3            4          5 2015-07-31  2015      7   31  13995       1498   \n",
       "4            5          5 2015-07-31  2015      7   31   4822        559   \n",
       "...        ...        ...        ...   ...    ...  ...    ...        ...   \n",
       "1017204   1111          2 2013-01-01  2013      1    1      0          0   \n",
       "1017205   1112          2 2013-01-01  2013      1    1      0          0   \n",
       "1017206   1113          2 2013-01-01  2013      1    1      0          0   \n",
       "1017207   1114          2 2013-01-01  2013      1    1      0          0   \n",
       "1017208   1115          2 2013-01-01  2013      1    1      0          0   \n",
       "\n",
       "         Open  Promo StateHoliday  SchoolHoliday StoreType Assortment  \\\n",
       "0           1      1            0              1         c          a   \n",
       "1           1      1            0              1         a          a   \n",
       "2           1      1            0              1         a          a   \n",
       "3           1      1            0              1         c          c   \n",
       "4           1      1            0              1         a          a   \n",
       "...       ...    ...          ...            ...       ...        ...   \n",
       "1017204     0      0            a              1         a          a   \n",
       "1017205     0      0            a              1         c          c   \n",
       "1017206     0      0            a              1         a          c   \n",
       "1017207     0      0            a              1         a          c   \n",
       "1017208     0      0            a              1         d          c   \n",
       "\n",
       "         CompetitionDistance  Promo2  \n",
       "0                     1270.0       0  \n",
       "1                      570.0       1  \n",
       "2                    14130.0       1  \n",
       "3                      620.0       0  \n",
       "4                    29910.0       0  \n",
       "...                      ...     ...  \n",
       "1017204               1900.0       1  \n",
       "1017205               1880.0       0  \n",
       "1017206               9260.0       0  \n",
       "1017207                870.0       0  \n",
       "1017208               5350.0       1  \n",
       "\n",
       "[1017209 rows x 16 columns]"
      ],
      "text/html": [
       "<div>\n",
       "<style scoped>\n",
       "    .dataframe tbody tr th:only-of-type {\n",
       "        vertical-align: middle;\n",
       "    }\n",
       "\n",
       "    .dataframe tbody tr th {\n",
       "        vertical-align: top;\n",
       "    }\n",
       "\n",
       "    .dataframe thead th {\n",
       "        text-align: right;\n",
       "    }\n",
       "</style>\n",
       "<table border=\"1\" class=\"dataframe\">\n",
       "  <thead>\n",
       "    <tr style=\"text-align: right;\">\n",
       "      <th></th>\n",
       "      <th>Store</th>\n",
       "      <th>DayOfWeek</th>\n",
       "      <th>Date</th>\n",
       "      <th>Year</th>\n",
       "      <th>Month</th>\n",
       "      <th>Day</th>\n",
       "      <th>Sales</th>\n",
       "      <th>Customers</th>\n",
       "      <th>Open</th>\n",
       "      <th>Promo</th>\n",
       "      <th>StateHoliday</th>\n",
       "      <th>SchoolHoliday</th>\n",
       "      <th>StoreType</th>\n",
       "      <th>Assortment</th>\n",
       "      <th>CompetitionDistance</th>\n",
       "      <th>Promo2</th>\n",
       "    </tr>\n",
       "  </thead>\n",
       "  <tbody>\n",
       "    <tr>\n",
       "      <th>0</th>\n",
       "      <td>1</td>\n",
       "      <td>5</td>\n",
       "      <td>2015-07-31</td>\n",
       "      <td>2015</td>\n",
       "      <td>7</td>\n",
       "      <td>31</td>\n",
       "      <td>5263</td>\n",
       "      <td>555</td>\n",
       "      <td>1</td>\n",
       "      <td>1</td>\n",
       "      <td>0</td>\n",
       "      <td>1</td>\n",
       "      <td>c</td>\n",
       "      <td>a</td>\n",
       "      <td>1270.0</td>\n",
       "      <td>0</td>\n",
       "    </tr>\n",
       "    <tr>\n",
       "      <th>1</th>\n",
       "      <td>2</td>\n",
       "      <td>5</td>\n",
       "      <td>2015-07-31</td>\n",
       "      <td>2015</td>\n",
       "      <td>7</td>\n",
       "      <td>31</td>\n",
       "      <td>6064</td>\n",
       "      <td>625</td>\n",
       "      <td>1</td>\n",
       "      <td>1</td>\n",
       "      <td>0</td>\n",
       "      <td>1</td>\n",
       "      <td>a</td>\n",
       "      <td>a</td>\n",
       "      <td>570.0</td>\n",
       "      <td>1</td>\n",
       "    </tr>\n",
       "    <tr>\n",
       "      <th>2</th>\n",
       "      <td>3</td>\n",
       "      <td>5</td>\n",
       "      <td>2015-07-31</td>\n",
       "      <td>2015</td>\n",
       "      <td>7</td>\n",
       "      <td>31</td>\n",
       "      <td>8314</td>\n",
       "      <td>821</td>\n",
       "      <td>1</td>\n",
       "      <td>1</td>\n",
       "      <td>0</td>\n",
       "      <td>1</td>\n",
       "      <td>a</td>\n",
       "      <td>a</td>\n",
       "      <td>14130.0</td>\n",
       "      <td>1</td>\n",
       "    </tr>\n",
       "    <tr>\n",
       "      <th>3</th>\n",
       "      <td>4</td>\n",
       "      <td>5</td>\n",
       "      <td>2015-07-31</td>\n",
       "      <td>2015</td>\n",
       "      <td>7</td>\n",
       "      <td>31</td>\n",
       "      <td>13995</td>\n",
       "      <td>1498</td>\n",
       "      <td>1</td>\n",
       "      <td>1</td>\n",
       "      <td>0</td>\n",
       "      <td>1</td>\n",
       "      <td>c</td>\n",
       "      <td>c</td>\n",
       "      <td>620.0</td>\n",
       "      <td>0</td>\n",
       "    </tr>\n",
       "    <tr>\n",
       "      <th>4</th>\n",
       "      <td>5</td>\n",
       "      <td>5</td>\n",
       "      <td>2015-07-31</td>\n",
       "      <td>2015</td>\n",
       "      <td>7</td>\n",
       "      <td>31</td>\n",
       "      <td>4822</td>\n",
       "      <td>559</td>\n",
       "      <td>1</td>\n",
       "      <td>1</td>\n",
       "      <td>0</td>\n",
       "      <td>1</td>\n",
       "      <td>a</td>\n",
       "      <td>a</td>\n",
       "      <td>29910.0</td>\n",
       "      <td>0</td>\n",
       "    </tr>\n",
       "    <tr>\n",
       "      <th>...</th>\n",
       "      <td>...</td>\n",
       "      <td>...</td>\n",
       "      <td>...</td>\n",
       "      <td>...</td>\n",
       "      <td>...</td>\n",
       "      <td>...</td>\n",
       "      <td>...</td>\n",
       "      <td>...</td>\n",
       "      <td>...</td>\n",
       "      <td>...</td>\n",
       "      <td>...</td>\n",
       "      <td>...</td>\n",
       "      <td>...</td>\n",
       "      <td>...</td>\n",
       "      <td>...</td>\n",
       "      <td>...</td>\n",
       "    </tr>\n",
       "    <tr>\n",
       "      <th>1017204</th>\n",
       "      <td>1111</td>\n",
       "      <td>2</td>\n",
       "      <td>2013-01-01</td>\n",
       "      <td>2013</td>\n",
       "      <td>1</td>\n",
       "      <td>1</td>\n",
       "      <td>0</td>\n",
       "      <td>0</td>\n",
       "      <td>0</td>\n",
       "      <td>0</td>\n",
       "      <td>a</td>\n",
       "      <td>1</td>\n",
       "      <td>a</td>\n",
       "      <td>a</td>\n",
       "      <td>1900.0</td>\n",
       "      <td>1</td>\n",
       "    </tr>\n",
       "    <tr>\n",
       "      <th>1017205</th>\n",
       "      <td>1112</td>\n",
       "      <td>2</td>\n",
       "      <td>2013-01-01</td>\n",
       "      <td>2013</td>\n",
       "      <td>1</td>\n",
       "      <td>1</td>\n",
       "      <td>0</td>\n",
       "      <td>0</td>\n",
       "      <td>0</td>\n",
       "      <td>0</td>\n",
       "      <td>a</td>\n",
       "      <td>1</td>\n",
       "      <td>c</td>\n",
       "      <td>c</td>\n",
       "      <td>1880.0</td>\n",
       "      <td>0</td>\n",
       "    </tr>\n",
       "    <tr>\n",
       "      <th>1017206</th>\n",
       "      <td>1113</td>\n",
       "      <td>2</td>\n",
       "      <td>2013-01-01</td>\n",
       "      <td>2013</td>\n",
       "      <td>1</td>\n",
       "      <td>1</td>\n",
       "      <td>0</td>\n",
       "      <td>0</td>\n",
       "      <td>0</td>\n",
       "      <td>0</td>\n",
       "      <td>a</td>\n",
       "      <td>1</td>\n",
       "      <td>a</td>\n",
       "      <td>c</td>\n",
       "      <td>9260.0</td>\n",
       "      <td>0</td>\n",
       "    </tr>\n",
       "    <tr>\n",
       "      <th>1017207</th>\n",
       "      <td>1114</td>\n",
       "      <td>2</td>\n",
       "      <td>2013-01-01</td>\n",
       "      <td>2013</td>\n",
       "      <td>1</td>\n",
       "      <td>1</td>\n",
       "      <td>0</td>\n",
       "      <td>0</td>\n",
       "      <td>0</td>\n",
       "      <td>0</td>\n",
       "      <td>a</td>\n",
       "      <td>1</td>\n",
       "      <td>a</td>\n",
       "      <td>c</td>\n",
       "      <td>870.0</td>\n",
       "      <td>0</td>\n",
       "    </tr>\n",
       "    <tr>\n",
       "      <th>1017208</th>\n",
       "      <td>1115</td>\n",
       "      <td>2</td>\n",
       "      <td>2013-01-01</td>\n",
       "      <td>2013</td>\n",
       "      <td>1</td>\n",
       "      <td>1</td>\n",
       "      <td>0</td>\n",
       "      <td>0</td>\n",
       "      <td>0</td>\n",
       "      <td>0</td>\n",
       "      <td>a</td>\n",
       "      <td>1</td>\n",
       "      <td>d</td>\n",
       "      <td>c</td>\n",
       "      <td>5350.0</td>\n",
       "      <td>1</td>\n",
       "    </tr>\n",
       "  </tbody>\n",
       "</table>\n",
       "<p>1017209 rows × 16 columns</p>\n",
       "</div>"
      ]
     },
     "metadata": {},
     "execution_count": 247
    }
   ],
   "metadata": {}
  },
  {
   "cell_type": "code",
   "execution_count": 248,
   "source": [
    "joined_df['StateHoliday'] = joined_df['StateHoliday'].apply(lambda x: 0 if x == '0' else x)\r\n"
   ],
   "outputs": [],
   "metadata": {}
  },
  {
   "cell_type": "code",
   "execution_count": 18,
   "source": [
    "# #Loading the joined data\r\n",
    "# joined_df = load_df_from_csv('../data/store_train_joined.csv')\r\n",
    "# joined_df_info = DataInfo(joined_df, deep=True)\r\n",
    "# joined_df_info.get_information()\r\n"
   ],
   "outputs": [],
   "metadata": {}
  },
  {
   "cell_type": "code",
   "execution_count": 58,
   "source": [
    "#Loading the test data\r\n",
    "test_df = load_df_from_csv('../data/test.csv')\r\n",
    "test_data_info = DataInfo(test_df, deep=True)\r\n",
    "test_data_info.get_information()\r\n"
   ],
   "outputs": [
    {
     "output_type": "stream",
     "name": "stdout",
     "text": [
      "DataFrame Information: \n",
      "<class 'pandas.core.frame.DataFrame'>\n",
      "RangeIndex: 41088 entries, 0 to 41087\n",
      "Data columns (total 8 columns):\n",
      " #   Column         Non-Null Count  Dtype  \n",
      "---  ------         --------------  -----  \n",
      " 0   Id             41088 non-null  uint16 \n",
      " 1   Store          41088 non-null  uint16 \n",
      " 2   DayOfWeek      41088 non-null  uint8  \n",
      " 3   Date           41088 non-null  object \n",
      " 4   Open           41077 non-null  float32\n",
      " 5   Promo          41088 non-null  uint8  \n",
      " 6   StateHoliday   41088 non-null  object \n",
      " 7   SchoolHoliday  41088 non-null  uint8  \n",
      "dtypes: float32(1), object(2), uint16(2), uint8(3)\n",
      "memory usage: 1.1+ MB\n"
     ]
    }
   ],
   "metadata": {}
  },
  {
   "cell_type": "code",
   "execution_count": 59,
   "source": [
    "train_df['StateHoliday'] = train_df['StateHoliday'].apply(lambda x: 0 if x == '0' else x)\r\n",
    "test_df['StateHoliday'] = test_df['StateHoliday'].apply(lambda x: 0 if x == '0' else x)"
   ],
   "outputs": [],
   "metadata": {}
  },
  {
   "cell_type": "code",
   "execution_count": 60,
   "source": [
    "# We have to separate the Date to determine season\r\n",
    "# Separating date for train_data\r\n",
    "train_data_cleaner = DataCleaner(train_df)\r\n",
    "test_data_cleaner = DataCleaner(test_df)"
   ],
   "outputs": [],
   "metadata": {}
  },
  {
   "cell_type": "code",
   "execution_count": 61,
   "source": [
    "train_data_cleaner.change_column_to_date_type('Date')\r\n",
    "test_data_cleaner.change_column_to_date_type('Date')"
   ],
   "outputs": [],
   "metadata": {}
  },
  {
   "cell_type": "code",
   "execution_count": 62,
   "source": [
    "test_data_cleaner.df.dtypes"
   ],
   "outputs": [
    {
     "output_type": "execute_result",
     "data": {
      "text/plain": [
       "Id                       uint16\n",
       "Store                    uint16\n",
       "DayOfWeek                 uint8\n",
       "Date             datetime64[ns]\n",
       "Open                    float32\n",
       "Promo                     uint8\n",
       "StateHoliday             object\n",
       "SchoolHoliday             uint8\n",
       "dtype: object"
      ]
     },
     "metadata": {},
     "execution_count": 62
    }
   ],
   "metadata": {}
  },
  {
   "cell_type": "code",
   "execution_count": 63,
   "source": [
    "train_data_cleaner.separate_date_column(date_column='Date')\r\n",
    "test_data_cleaner.separate_date_column(date_column='Date')"
   ],
   "outputs": [],
   "metadata": {}
  },
  {
   "cell_type": "code",
   "execution_count": 64,
   "source": [
    "train_season = DataInfo(train_data_cleaner.df)\r\n",
    "test_season = DataInfo(test_data_cleaner.df)"
   ],
   "outputs": [],
   "metadata": {}
  },
  {
   "cell_type": "code",
   "execution_count": 65,
   "source": [
    "# joined_df.to_csv('../data/store_train_joined.csv')"
   ],
   "outputs": [],
   "metadata": {}
  },
  {
   "cell_type": "markdown",
   "source": [
    "## Check for distribution in both training and test sets - are the promotions distributed similarly between these two groups?"
   ],
   "metadata": {}
  },
  {
   "cell_type": "code",
   "execution_count": 66,
   "source": [
    "# day_seasonality = train_season\r\n",
    "test_df.head(5)"
   ],
   "outputs": [
    {
     "output_type": "execute_result",
     "data": {
      "text/plain": [
       "   Id  Store  DayOfWeek       Date  Year  Month  Day  Open  Promo  \\\n",
       "0   1      1          4 2015-09-17  2015      9   17   1.0      1   \n",
       "1   2      3          4 2015-09-17  2015      9   17   1.0      1   \n",
       "2   3      7          4 2015-09-17  2015      9   17   1.0      1   \n",
       "3   4      8          4 2015-09-17  2015      9   17   1.0      1   \n",
       "4   5      9          4 2015-09-17  2015      9   17   1.0      1   \n",
       "\n",
       "  StateHoliday  SchoolHoliday  \n",
       "0            0              0  \n",
       "1            0              0  \n",
       "2            0              0  \n",
       "3            0              0  \n",
       "4            0              0  "
      ],
      "text/html": [
       "<div>\n",
       "<style scoped>\n",
       "    .dataframe tbody tr th:only-of-type {\n",
       "        vertical-align: middle;\n",
       "    }\n",
       "\n",
       "    .dataframe tbody tr th {\n",
       "        vertical-align: top;\n",
       "    }\n",
       "\n",
       "    .dataframe thead th {\n",
       "        text-align: right;\n",
       "    }\n",
       "</style>\n",
       "<table border=\"1\" class=\"dataframe\">\n",
       "  <thead>\n",
       "    <tr style=\"text-align: right;\">\n",
       "      <th></th>\n",
       "      <th>Id</th>\n",
       "      <th>Store</th>\n",
       "      <th>DayOfWeek</th>\n",
       "      <th>Date</th>\n",
       "      <th>Year</th>\n",
       "      <th>Month</th>\n",
       "      <th>Day</th>\n",
       "      <th>Open</th>\n",
       "      <th>Promo</th>\n",
       "      <th>StateHoliday</th>\n",
       "      <th>SchoolHoliday</th>\n",
       "    </tr>\n",
       "  </thead>\n",
       "  <tbody>\n",
       "    <tr>\n",
       "      <th>0</th>\n",
       "      <td>1</td>\n",
       "      <td>1</td>\n",
       "      <td>4</td>\n",
       "      <td>2015-09-17</td>\n",
       "      <td>2015</td>\n",
       "      <td>9</td>\n",
       "      <td>17</td>\n",
       "      <td>1.0</td>\n",
       "      <td>1</td>\n",
       "      <td>0</td>\n",
       "      <td>0</td>\n",
       "    </tr>\n",
       "    <tr>\n",
       "      <th>1</th>\n",
       "      <td>2</td>\n",
       "      <td>3</td>\n",
       "      <td>4</td>\n",
       "      <td>2015-09-17</td>\n",
       "      <td>2015</td>\n",
       "      <td>9</td>\n",
       "      <td>17</td>\n",
       "      <td>1.0</td>\n",
       "      <td>1</td>\n",
       "      <td>0</td>\n",
       "      <td>0</td>\n",
       "    </tr>\n",
       "    <tr>\n",
       "      <th>2</th>\n",
       "      <td>3</td>\n",
       "      <td>7</td>\n",
       "      <td>4</td>\n",
       "      <td>2015-09-17</td>\n",
       "      <td>2015</td>\n",
       "      <td>9</td>\n",
       "      <td>17</td>\n",
       "      <td>1.0</td>\n",
       "      <td>1</td>\n",
       "      <td>0</td>\n",
       "      <td>0</td>\n",
       "    </tr>\n",
       "    <tr>\n",
       "      <th>3</th>\n",
       "      <td>4</td>\n",
       "      <td>8</td>\n",
       "      <td>4</td>\n",
       "      <td>2015-09-17</td>\n",
       "      <td>2015</td>\n",
       "      <td>9</td>\n",
       "      <td>17</td>\n",
       "      <td>1.0</td>\n",
       "      <td>1</td>\n",
       "      <td>0</td>\n",
       "      <td>0</td>\n",
       "    </tr>\n",
       "    <tr>\n",
       "      <th>4</th>\n",
       "      <td>5</td>\n",
       "      <td>9</td>\n",
       "      <td>4</td>\n",
       "      <td>2015-09-17</td>\n",
       "      <td>2015</td>\n",
       "      <td>9</td>\n",
       "      <td>17</td>\n",
       "      <td>1.0</td>\n",
       "      <td>1</td>\n",
       "      <td>0</td>\n",
       "      <td>0</td>\n",
       "    </tr>\n",
       "  </tbody>\n",
       "</table>\n",
       "</div>"
      ]
     },
     "metadata": {},
     "execution_count": 66
    }
   ],
   "metadata": {}
  },
  {
   "cell_type": "code",
   "execution_count": 257,
   "source": [
    "from matplotlib.offsetbox import AnchoredText\r\n",
    "train_percentage = train_df['Promo'].value_counts(0)\r\n",
    "train_percentage =  train_percentage.values[1] / (train_percentage.values[0] + train_percentage.values[1])\r\n",
    "\r\n",
    "test_percentage = test_df['Promo'].value_counts(0)\r\n",
    "test_percentage = test_percentage.values[1] / (test_percentage.values[0] + test_percentage.values[1])\r\n",
    "\r\n",
    "\r\n",
    "fig, axs = plt.subplots(1, 2, figsize=(20, 5))\r\n",
    "fig.suptitle(f'Comparison of Promo Distribution')\r\n",
    "sns.axes_style('darkgrid')\r\n",
    "plot1 = sns.countplot(x=\"Promo\", data=train_df, ax=axs[0])\r\n",
    "plot1.set_title('Train Promos')\r\n",
    "anc1 = AnchoredText(\"Promo: {:.2%}\".format(train_percentage), loc=\"lower center\", frameon=True)\r\n",
    "axs[0].add_artist(anc1)\r\n",
    "for p in plot1.patches:\r\n",
    "    plot1.annotate(format(p.get_height(), '.1f'),\r\n",
    "                   (p.get_x() + p.get_width() / 2., p.get_height()),\r\n",
    "                   ha='center', va='center',\r\n",
    "                   size=15,\r\n",
    "                   xytext=(0, -70),\r\n",
    "                   textcoords='offset points')\r\n",
    "\r\n",
    "plot2 = sns.countplot(x=\"Promo\", data=test_df, ax=axs[1])\r\n",
    "plot2.set_title('Test Promos')\r\n",
    "anc2 = AnchoredText(\"Promo: {:.2%}\".format(\r\n",
    "    test_percentage), loc=\"lower center\", frameon=True)\r\n",
    "axs[1].add_artist(anc2)\r\n",
    "for p in plot2.patches:\r\n",
    "    plot2.annotate(format(p.get_height(), '.1f'),\r\n",
    "                   (p.get_x() + p.get_width() / 2., p.get_height()),\r\n",
    "                   ha='center', va='center',\r\n",
    "                   size=15,\r\n",
    "                   xytext=(0, -70),\r\n",
    "                   textcoords='offset points')\r\n"
   ],
   "outputs": [
    {
     "output_type": "display_data",
     "data": {
      "text/plain": [
       "<Figure size 1440x360 with 2 Axes>"
      ],
      "image/png": "[encoded data removed]"
     },
     "metadata": {}
    }
   ],
   "metadata": {}
  },
  {
   "cell_type": "markdown",
   "source": [],
   "metadata": {}
  },
  {
   "cell_type": "markdown",
   "source": [
    "## 2. Check & compare sales behavior before, during and after holidays"
   ],
   "metadata": {}
  },
  {
   "cell_type": "code",
   "execution_count": 253,
   "source": [
    "# Considering christmas lasts for 12 days, Easter for 50 days and public holidays for 1 day.\r\n",
    "# And considering before and after periods to be 5 less and 5 more days before and after the holiday for christmas\r\n",
    "# and 10 days for Easter\r\n",
    "# And 3 days for public holiday\r\n",
    "# get state holiday list\r\n",
    "#a = public holiday, b = Easter holiday, c = Christmas, 0 = None\r\n",
    "def affect_list(change_list, interval, duration, index):\r\n",
    "    start_pt = int(index-duration/2) - interval\r\n",
    "    try:\r\n",
    "        for index in range(start_pt, start_pt + interval):\r\n",
    "            change_list[index] = 'before'\r\n",
    "        for index in range(start_pt + interval, start_pt + interval + duration):\r\n",
    "            change_list[index] = 'during'\r\n",
    "        for index in range(start_pt + interval + duration, start_pt + interval + duration + interval):\r\n",
    "            change_list[index] = 'after'\r\n",
    "    except:\r\n",
    "        pass\r\n",
    "\r\n",
    "    return change_list\r\n",
    "\r\n",
    "\r\n",
    "state_holiday_list = train_df['StateHoliday'].values.tolist()\r\n",
    "def modify_holiday_list(holiday_list:list) -> list:\r\n",
    "    new_index = [\"neither\"] * len(holiday_list)\r\n",
    "    for index , value in enumerate(holiday_list):\r\n",
    "        if value == 'a': #public holiday\r\n",
    "            affect_list(new_index, 3, 1, index)\r\n",
    "        elif value == 'b': #Easter\r\n",
    "            affect_list(new_index, 10, 50, index)\r\n",
    "        elif value == 'c': # christmas\r\n",
    "            affect_list(new_index, 5, 12, index)\r\n",
    "        else:\r\n",
    "            pass\r\n",
    "\r\n",
    "    return new_index\r\n",
    "    \r\n",
    "sales_timing_list = modify_holiday_list(state_holiday_list)\r\n",
    "timing_added_df = train_df.loc[:,['Sales','Customers']]\r\n",
    "timing_added_df['HolidayTiming'] = sales_timing_list\r\n",
    "grouped_timing = timing_added_df.groupby('HolidayTiming').agg(\r\n",
    "    {'Sales': 'mean', 'Customers': 'mean'})\r\n",
    "grouped_timing = grouped_timing.iloc[:3, :]\r\n",
    "\r\n",
    "plt.figure(figsize=(10,5))\r\n",
    "X_axis = np.arange(len(grouped_timing.index))\r\n",
    "plt.bar(X_axis - 0.2, grouped_timing['Sales'], 0.4, label='Sales')\r\n",
    "plt.bar(X_axis + 0.2, grouped_timing['Customers'], 0.4, label='Customers')\r\n",
    "\r\n",
    "plt.xticks(X_axis, grouped_timing.index)\r\n",
    "plt.xlabel(\"Holiday Timing\")\r\n",
    "plt.ylabel(\"Mean Value\")\r\n",
    "plt.title(\"Sales and Customers Based on Holiday Timing\")\r\n",
    "plt.legend()\r\n",
    "plt.show()\r\n"
   ],
   "outputs": [
    {
     "output_type": "display_data",
     "data": {
      "text/plain": [
       "<Figure size 720x360 with 1 Axes>"
      ],
      "image/png": "[encoded data removed]"
     },
     "metadata": {}
    }
   ],
   "metadata": {}
  },
  {
   "cell_type": "markdown",
   "source": [
    "## Find out any seasonal (Christmas, Easter etc) purchase behaviours"
   ],
   "metadata": {}
  },
  {
   "cell_type": "code",
   "execution_count": 259,
   "source": [
    "seasonal = train_season.get_grouped_by('StateHoliday').agg({'Sales':'mean', 'Customers':'mean'})\r\n",
    "# seasonal = seasonal.iloc[1:,:]\r\n",
    "seasonal"
   ],
   "outputs": [
    {
     "output_type": "execute_result",
     "data": {
      "text/plain": [
       "                    Sales   Customers\n",
       "StateHoliday                         \n",
       "0             5947.483893  651.819833\n",
       "a              290.735686   43.817670\n",
       "b              214.311510   36.561883\n",
       "c              168.733171   27.174390"
      ],
      "text/html": [
       "<div>\n",
       "<style scoped>\n",
       "    .dataframe tbody tr th:only-of-type {\n",
       "        vertical-align: middle;\n",
       "    }\n",
       "\n",
       "    .dataframe tbody tr th {\n",
       "        vertical-align: top;\n",
       "    }\n",
       "\n",
       "    .dataframe thead th {\n",
       "        text-align: right;\n",
       "    }\n",
       "</style>\n",
       "<table border=\"1\" class=\"dataframe\">\n",
       "  <thead>\n",
       "    <tr style=\"text-align: right;\">\n",
       "      <th></th>\n",
       "      <th>Sales</th>\n",
       "      <th>Customers</th>\n",
       "    </tr>\n",
       "    <tr>\n",
       "      <th>StateHoliday</th>\n",
       "      <th></th>\n",
       "      <th></th>\n",
       "    </tr>\n",
       "  </thead>\n",
       "  <tbody>\n",
       "    <tr>\n",
       "      <th>0</th>\n",
       "      <td>5947.483893</td>\n",
       "      <td>651.819833</td>\n",
       "    </tr>\n",
       "    <tr>\n",
       "      <th>a</th>\n",
       "      <td>290.735686</td>\n",
       "      <td>43.817670</td>\n",
       "    </tr>\n",
       "    <tr>\n",
       "      <th>b</th>\n",
       "      <td>214.311510</td>\n",
       "      <td>36.561883</td>\n",
       "    </tr>\n",
       "    <tr>\n",
       "      <th>c</th>\n",
       "      <td>168.733171</td>\n",
       "      <td>27.174390</td>\n",
       "    </tr>\n",
       "  </tbody>\n",
       "</table>\n",
       "</div>"
      ]
     },
     "metadata": {},
     "execution_count": 259
    }
   ],
   "metadata": {}
  },
  {
   "cell_type": "code",
   "execution_count": 261,
   "source": [
    "import numpy as np\r\n",
    "\r\n",
    "seasonal.index = ['asd','Public Holiday','Easter Holiday','Christmas']\r\n",
    "X_axis = np.arange(len(seasonal.index))\r\n",
    "plt.figure(figsize=(10, 5))\r\n",
    "plt1 = plt.bar(X_axis - 0.2, seasonal['Sales'], 0.4, label='Sales')\r\n",
    "for p in plt1.patches:\r\n",
    "    plt.annotate('{:.2f}'.format(p.get_height()), (p.get_x()\r\n",
    "                * 1.005, p.get_height() * 1.005))\r\n",
    "plt2 = plt.bar(X_axis + 0.2, seasonal['Customers'], 0.4, label='Customers')\r\n",
    "for p in plt2.patches:\r\n",
    "    plt.annotate('{:.2f}'.format(p.get_height()), (p.get_x()\r\n",
    "                                       * 1.005, p.get_height() * 1.005))\r\n",
    "                                       \r\n",
    "plt.xticks(X_axis, seasonal.index)\r\n",
    "plt.xlabel(\"Season\")\r\n",
    "plt.ylabel(\"Amount\")\r\n",
    "plt.title(\"Sales and Customers During Holiday Seasons\")\r\n",
    "plt.legend()\r\n",
    "plt.show()\r\n"
   ],
   "outputs": [
    {
     "output_type": "display_data",
     "data": {
      "text/plain": [
       "<Figure size 720x360 with 1 Axes>"
      ],
      "image/png": "[encoded data removed]"
     },
     "metadata": {}
    }
   ],
   "metadata": {}
  },
  {
   "cell_type": "markdown",
   "source": [
    "## What can you say about the correlation between sales and number of customers?"
   ],
   "metadata": {}
  },
  {
   "cell_type": "code",
   "execution_count": 71,
   "source": [
    "sales_customer_rln = train_df.loc[:,['Sales','Customers']]\r\n",
    "sales_cutomer_corr = sales_customer_rln.corr()\r\n",
    "sales_cutomer_corr"
   ],
   "outputs": [
    {
     "output_type": "execute_result",
     "data": {
      "text/plain": [
       "              Sales  Customers\n",
       "Sales      1.000000   0.894711\n",
       "Customers  0.894711   1.000000"
      ],
      "text/html": [
       "<div>\n",
       "<style scoped>\n",
       "    .dataframe tbody tr th:only-of-type {\n",
       "        vertical-align: middle;\n",
       "    }\n",
       "\n",
       "    .dataframe tbody tr th {\n",
       "        vertical-align: top;\n",
       "    }\n",
       "\n",
       "    .dataframe thead th {\n",
       "        text-align: right;\n",
       "    }\n",
       "</style>\n",
       "<table border=\"1\" class=\"dataframe\">\n",
       "  <thead>\n",
       "    <tr style=\"text-align: right;\">\n",
       "      <th></th>\n",
       "      <th>Sales</th>\n",
       "      <th>Customers</th>\n",
       "    </tr>\n",
       "  </thead>\n",
       "  <tbody>\n",
       "    <tr>\n",
       "      <th>Sales</th>\n",
       "      <td>1.000000</td>\n",
       "      <td>0.894711</td>\n",
       "    </tr>\n",
       "    <tr>\n",
       "      <th>Customers</th>\n",
       "      <td>0.894711</td>\n",
       "      <td>1.000000</td>\n",
       "    </tr>\n",
       "  </tbody>\n",
       "</table>\n",
       "</div>"
      ]
     },
     "metadata": {},
     "execution_count": 71
    }
   ],
   "metadata": {}
  },
  {
   "cell_type": "code",
   "execution_count": 162,
   "source": [
    "plt.figure(figsize=(10, 7))\r\n",
    "sns.heatmap(sales_cutomer_corr, annot=True, square=True, fmt=\".2f\")\r\n",
    "plt.title('Sales - Customer Relation ', size=18, fontweight='bold')\r\n"
   ],
   "outputs": [
    {
     "output_type": "execute_result",
     "data": {
      "text/plain": [
       "Text(0.5, 1.0, 'Sales - Customer Relation ')"
      ]
     },
     "metadata": {},
     "execution_count": 162
    },
    {
     "output_type": "display_data",
     "data": {
      "text/plain": [
       "<Figure size 720x504 with 2 Axes>"
      ],
      "image/png": "[encoded data removed]"
     },
     "metadata": {}
    }
   ],
   "metadata": {}
  },
  {
   "cell_type": "markdown",
   "source": [
    "## How does promo affect sales? Are the promos attracting more customers? How does it affect already existing customers?"
   ],
   "metadata": {}
  },
  {
   "cell_type": "markdown",
   "source": [
    "### How does promo affect sales?"
   ],
   "metadata": {}
  },
  {
   "cell_type": "code",
   "execution_count": 73,
   "source": [
    "sales_promo_rln = train_df.loc[:,['Sales','Promo']]\r\n",
    "sales_promo_corr = sales_promo_rln.corr()\r\n",
    "sales_promo_corr"
   ],
   "outputs": [
    {
     "output_type": "execute_result",
     "data": {
      "text/plain": [
       "          Sales     Promo\n",
       "Sales  1.000000  0.452345\n",
       "Promo  0.452345  1.000000"
      ],
      "text/html": [
       "<div>\n",
       "<style scoped>\n",
       "    .dataframe tbody tr th:only-of-type {\n",
       "        vertical-align: middle;\n",
       "    }\n",
       "\n",
       "    .dataframe tbody tr th {\n",
       "        vertical-align: top;\n",
       "    }\n",
       "\n",
       "    .dataframe thead th {\n",
       "        text-align: right;\n",
       "    }\n",
       "</style>\n",
       "<table border=\"1\" class=\"dataframe\">\n",
       "  <thead>\n",
       "    <tr style=\"text-align: right;\">\n",
       "      <th></th>\n",
       "      <th>Sales</th>\n",
       "      <th>Promo</th>\n",
       "    </tr>\n",
       "  </thead>\n",
       "  <tbody>\n",
       "    <tr>\n",
       "      <th>Sales</th>\n",
       "      <td>1.000000</td>\n",
       "      <td>0.452345</td>\n",
       "    </tr>\n",
       "    <tr>\n",
       "      <th>Promo</th>\n",
       "      <td>0.452345</td>\n",
       "      <td>1.000000</td>\n",
       "    </tr>\n",
       "  </tbody>\n",
       "</table>\n",
       "</div>"
      ]
     },
     "metadata": {},
     "execution_count": 73
    }
   ],
   "metadata": {}
  },
  {
   "cell_type": "code",
   "execution_count": 74,
   "source": [
    "plt.figure(figsize=(10, 7))\r\n",
    "sns.heatmap(sales_promo_corr, annot=True)\r\n",
    "plt.title('Sales - Promotion Relation', size=18, fontweight='bold')\r\n"
   ],
   "outputs": [
    {
     "output_type": "execute_result",
     "data": {
      "text/plain": [
       "Text(0.5, 1.0, 'Sales - Promotion Relation')"
      ]
     },
     "metadata": {},
     "execution_count": 74
    },
    {
     "output_type": "display_data",
     "data": {
      "text/plain": [
       "<Figure size 720x504 with 2 Axes>"
      ],
      "image/png": "[encoded data removed]"
     },
     "metadata": {
      "needs_background": "light"
     }
    }
   ],
   "metadata": {}
  },
  {
   "cell_type": "markdown",
   "source": [
    "### Are the promos attracting more customers?"
   ],
   "metadata": {}
  },
  {
   "cell_type": "code",
   "execution_count": 168,
   "source": [
    "sns.catplot(data=train_df, x=\"Month\", y=\"Customers\",col='Promo',row=\"Year\", hue='DayOfWeek', kind='point')"
   ],
   "outputs": [
    {
     "output_type": "execute_result",
     "data": {
      "text/plain": [
       "<seaborn.axisgrid.FacetGrid at 0x1cb0f0668e0>"
      ]
     },
     "metadata": {},
     "execution_count": 168
    },
    {
     "output_type": "display_data",
     "data": {
      "text/plain": [
       "<Figure size 781.75x1080 with 6 Axes>"
      ],
      "image/png": "[encoded data removed]"
     },
     "metadata": {}
    }
   ],
   "metadata": {}
  },
  {
   "cell_type": "code",
   "execution_count": 75,
   "source": [
    "customer_promo_rln = train_df.loc[:, ['Customers', 'Promo']]\r\n",
    "customer_promo_corr = customer_promo_rln.corr()\r\n",
    "customer_promo_corr\r\n",
    "#seaborn boxplot agg"
   ],
   "outputs": [
    {
     "output_type": "execute_result",
     "data": {
      "text/plain": [
       "           Customers     Promo\n",
       "Customers   1.000000  0.316169\n",
       "Promo       0.316169  1.000000"
      ],
      "text/html": [
       "<div>\n",
       "<style scoped>\n",
       "    .dataframe tbody tr th:only-of-type {\n",
       "        vertical-align: middle;\n",
       "    }\n",
       "\n",
       "    .dataframe tbody tr th {\n",
       "        vertical-align: top;\n",
       "    }\n",
       "\n",
       "    .dataframe thead th {\n",
       "        text-align: right;\n",
       "    }\n",
       "</style>\n",
       "<table border=\"1\" class=\"dataframe\">\n",
       "  <thead>\n",
       "    <tr style=\"text-align: right;\">\n",
       "      <th></th>\n",
       "      <th>Customers</th>\n",
       "      <th>Promo</th>\n",
       "    </tr>\n",
       "  </thead>\n",
       "  <tbody>\n",
       "    <tr>\n",
       "      <th>Customers</th>\n",
       "      <td>1.000000</td>\n",
       "      <td>0.316169</td>\n",
       "    </tr>\n",
       "    <tr>\n",
       "      <th>Promo</th>\n",
       "      <td>0.316169</td>\n",
       "      <td>1.000000</td>\n",
       "    </tr>\n",
       "  </tbody>\n",
       "</table>\n",
       "</div>"
      ]
     },
     "metadata": {},
     "execution_count": 75
    }
   ],
   "metadata": {}
  },
  {
   "cell_type": "code",
   "execution_count": 76,
   "source": [
    "plt.figure(figsize=(10, 7))\r\n",
    "sns.heatmap(customer_promo_corr, annot=True)\r\n",
    "plt.title('Sales - Promotion Relation', size=18, fontweight='bold')\r\n"
   ],
   "outputs": [
    {
     "output_type": "execute_result",
     "data": {
      "text/plain": [
       "Text(0.5, 1.0, 'Sales - Promotion Relation')"
      ]
     },
     "metadata": {},
     "execution_count": 76
    },
    {
     "output_type": "display_data",
     "data": {
      "text/plain": [
       "<Figure size 720x504 with 2 Axes>"
      ],
      "image/png": "[encoded data removed]"
     },
     "metadata": {
      "needs_background": "light"
     }
    }
   ],
   "metadata": {}
  },
  {
   "cell_type": "markdown",
   "source": [
    "### How does it affect already existing customers?"
   ],
   "metadata": {}
  },
  {
   "cell_type": "code",
   "execution_count": 169,
   "source": [
    "promo_customers_rln = train_df.loc[:,['Store','Customers','Promo','Sales']]\r\n",
    "store_customer_difference = promo_customers_rln.groupby(['Store','Promo']).agg({'Customers':'mean','Sales':'mean'})\r\n",
    "store_customer_difference"
   ],
   "outputs": [
    {
     "output_type": "execute_result",
     "data": {
      "text/plain": [
       "               Customers         Sales\n",
       "Store Promo                           \n",
       "1     0       399.682131   3198.994845\n",
       "      1       577.522222   5152.886111\n",
       "2     0       366.876289   2855.058419\n",
       "      1       678.702778   6172.816667\n",
       "3     0       477.445017   3967.596220\n",
       "...                  ...           ...\n",
       "1113  1       754.250000   7320.086111\n",
       "1114  0      2353.958763  14477.742268\n",
       "      1      3165.383333  21601.497222\n",
       "1115  0       297.800687   4082.221649\n",
       "      1       457.122222   7073.266667\n",
       "\n",
       "[2230 rows x 2 columns]"
      ],
      "text/html": [
       "<div>\n",
       "<style scoped>\n",
       "    .dataframe tbody tr th:only-of-type {\n",
       "        vertical-align: middle;\n",
       "    }\n",
       "\n",
       "    .dataframe tbody tr th {\n",
       "        vertical-align: top;\n",
       "    }\n",
       "\n",
       "    .dataframe thead th {\n",
       "        text-align: right;\n",
       "    }\n",
       "</style>\n",
       "<table border=\"1\" class=\"dataframe\">\n",
       "  <thead>\n",
       "    <tr style=\"text-align: right;\">\n",
       "      <th></th>\n",
       "      <th></th>\n",
       "      <th>Customers</th>\n",
       "      <th>Sales</th>\n",
       "    </tr>\n",
       "    <tr>\n",
       "      <th>Store</th>\n",
       "      <th>Promo</th>\n",
       "      <th></th>\n",
       "      <th></th>\n",
       "    </tr>\n",
       "  </thead>\n",
       "  <tbody>\n",
       "    <tr>\n",
       "      <th rowspan=\"2\" valign=\"top\">1</th>\n",
       "      <th>0</th>\n",
       "      <td>399.682131</td>\n",
       "      <td>3198.994845</td>\n",
       "    </tr>\n",
       "    <tr>\n",
       "      <th>1</th>\n",
       "      <td>577.522222</td>\n",
       "      <td>5152.886111</td>\n",
       "    </tr>\n",
       "    <tr>\n",
       "      <th rowspan=\"2\" valign=\"top\">2</th>\n",
       "      <th>0</th>\n",
       "      <td>366.876289</td>\n",
       "      <td>2855.058419</td>\n",
       "    </tr>\n",
       "    <tr>\n",
       "      <th>1</th>\n",
       "      <td>678.702778</td>\n",
       "      <td>6172.816667</td>\n",
       "    </tr>\n",
       "    <tr>\n",
       "      <th>3</th>\n",
       "      <th>0</th>\n",
       "      <td>477.445017</td>\n",
       "      <td>3967.596220</td>\n",
       "    </tr>\n",
       "    <tr>\n",
       "      <th>...</th>\n",
       "      <th>...</th>\n",
       "      <td>...</td>\n",
       "      <td>...</td>\n",
       "    </tr>\n",
       "    <tr>\n",
       "      <th>1113</th>\n",
       "      <th>1</th>\n",
       "      <td>754.250000</td>\n",
       "      <td>7320.086111</td>\n",
       "    </tr>\n",
       "    <tr>\n",
       "      <th rowspan=\"2\" valign=\"top\">1114</th>\n",
       "      <th>0</th>\n",
       "      <td>2353.958763</td>\n",
       "      <td>14477.742268</td>\n",
       "    </tr>\n",
       "    <tr>\n",
       "      <th>1</th>\n",
       "      <td>3165.383333</td>\n",
       "      <td>21601.497222</td>\n",
       "    </tr>\n",
       "    <tr>\n",
       "      <th rowspan=\"2\" valign=\"top\">1115</th>\n",
       "      <th>0</th>\n",
       "      <td>297.800687</td>\n",
       "      <td>4082.221649</td>\n",
       "    </tr>\n",
       "    <tr>\n",
       "      <th>1</th>\n",
       "      <td>457.122222</td>\n",
       "      <td>7073.266667</td>\n",
       "    </tr>\n",
       "  </tbody>\n",
       "</table>\n",
       "<p>2230 rows × 2 columns</p>\n",
       "</div>"
      ]
     },
     "metadata": {},
     "execution_count": 169
    }
   ],
   "metadata": {}
  },
  {
   "cell_type": "code",
   "execution_count": 170,
   "source": [
    "customer_value = store_customer_difference.Customers.values.tolist()\r\n",
    "def get_average_increase_from_all_stores(grouped_cutomer_list:list) -> float:\r\n",
    "    percentage_increase = []\r\n",
    "    i = 0\r\n",
    "    while(i < len(grouped_cutomer_list)):\r\n",
    "        new_perc = ((grouped_cutomer_list[i+1] * 100) / grouped_cutomer_list[i]) - 100\r\n",
    "        percentage_increase.append(new_perc)\r\n",
    "        i += 2\r\n",
    "\r\n",
    "    return percentage_increase,sum(percentage_increase) / len(percentage_increase)\r\n",
    "\r\n",
    "increase_list, average_increase = get_average_increase_from_all_stores(customer_value)\r\n"
   ],
   "outputs": [],
   "metadata": {}
  },
  {
   "cell_type": "code",
   "execution_count": 172,
   "source": [
    "#Average increase across all stores\r\n",
    "print('The average customer increase across all stores due to promotion is by: {:.2%}'.format(average_increase/100))"
   ],
   "outputs": [
    {
     "output_type": "stream",
     "name": "stdout",
     "text": [
      "The average customer increase across all stores due to promotion is by: 62.18%\n"
     ]
    }
   ],
   "metadata": {}
  },
  {
   "cell_type": "code",
   "execution_count": 177,
   "source": [
    "#Getting Per-Store Customer Increase\r\n",
    "customer_info = train_df.loc[:, ['Store', 'Customers']]\r\n",
    "customer_info = customer_info.groupby('Store').agg({'Customers':'mean'})\r\n",
    "customer_info['Customer Percentage Increase'] = increase_list\r\n",
    "customer_info"
   ],
   "outputs": [
    {
     "output_type": "execute_result",
     "data": {
      "text/plain": [
       "         Customers  Customer Percentage Increase\n",
       "Store                                           \n",
       "1       467.646497                     44.495382\n",
       "2       486.045648                     84.994997\n",
       "3       620.286624                     78.285218\n",
       "4      1100.057325                     45.524694\n",
       "5       444.360934                     95.998746\n",
       "...            ...                           ...\n",
       "1111    373.548832                     83.132662\n",
       "1112    693.498938                     77.886610\n",
       "1113    596.763270                     51.046724\n",
       "1114   2664.057325                     34.470637\n",
       "1115    358.687898                     53.499385\n",
       "\n",
       "[1115 rows x 2 columns]"
      ],
      "text/html": [
       "<div>\n",
       "<style scoped>\n",
       "    .dataframe tbody tr th:only-of-type {\n",
       "        vertical-align: middle;\n",
       "    }\n",
       "\n",
       "    .dataframe tbody tr th {\n",
       "        vertical-align: top;\n",
       "    }\n",
       "\n",
       "    .dataframe thead th {\n",
       "        text-align: right;\n",
       "    }\n",
       "</style>\n",
       "<table border=\"1\" class=\"dataframe\">\n",
       "  <thead>\n",
       "    <tr style=\"text-align: right;\">\n",
       "      <th></th>\n",
       "      <th>Customers</th>\n",
       "      <th>Customer Percentage Increase</th>\n",
       "    </tr>\n",
       "    <tr>\n",
       "      <th>Store</th>\n",
       "      <th></th>\n",
       "      <th></th>\n",
       "    </tr>\n",
       "  </thead>\n",
       "  <tbody>\n",
       "    <tr>\n",
       "      <th>1</th>\n",
       "      <td>467.646497</td>\n",
       "      <td>44.495382</td>\n",
       "    </tr>\n",
       "    <tr>\n",
       "      <th>2</th>\n",
       "      <td>486.045648</td>\n",
       "      <td>84.994997</td>\n",
       "    </tr>\n",
       "    <tr>\n",
       "      <th>3</th>\n",
       "      <td>620.286624</td>\n",
       "      <td>78.285218</td>\n",
       "    </tr>\n",
       "    <tr>\n",
       "      <th>4</th>\n",
       "      <td>1100.057325</td>\n",
       "      <td>45.524694</td>\n",
       "    </tr>\n",
       "    <tr>\n",
       "      <th>5</th>\n",
       "      <td>444.360934</td>\n",
       "      <td>95.998746</td>\n",
       "    </tr>\n",
       "    <tr>\n",
       "      <th>...</th>\n",
       "      <td>...</td>\n",
       "      <td>...</td>\n",
       "    </tr>\n",
       "    <tr>\n",
       "      <th>1111</th>\n",
       "      <td>373.548832</td>\n",
       "      <td>83.132662</td>\n",
       "    </tr>\n",
       "    <tr>\n",
       "      <th>1112</th>\n",
       "      <td>693.498938</td>\n",
       "      <td>77.886610</td>\n",
       "    </tr>\n",
       "    <tr>\n",
       "      <th>1113</th>\n",
       "      <td>596.763270</td>\n",
       "      <td>51.046724</td>\n",
       "    </tr>\n",
       "    <tr>\n",
       "      <th>1114</th>\n",
       "      <td>2664.057325</td>\n",
       "      <td>34.470637</td>\n",
       "    </tr>\n",
       "    <tr>\n",
       "      <th>1115</th>\n",
       "      <td>358.687898</td>\n",
       "      <td>53.499385</td>\n",
       "    </tr>\n",
       "  </tbody>\n",
       "</table>\n",
       "<p>1115 rows × 2 columns</p>\n",
       "</div>"
      ]
     },
     "metadata": {},
     "execution_count": 177
    }
   ],
   "metadata": {}
  },
  {
   "cell_type": "code",
   "execution_count": 219,
   "source": [
    "perc_increase_split = customer_info.sort_values('Customer Percentage Increase')\r\n",
    "perc_increase_split['Store'] = perc_increase_split.index\r\n",
    "max_value = max(perc_increase_split['Customer Percentage Increase'].values.tolist())\r\n",
    "min_value = min(perc_increase_split['Customer Percentage Increase'].values.tolist())\r\n",
    "bins = np.arange(min_value, max_value, 20)\r\n",
    "perc_increase_plot_data = perc_increase_split.groupby(pd.cut(perc_increase_split[\"Customer Percentage Increase\"], bins)).sum()\r\n"
   ],
   "outputs": [],
   "metadata": {}
  },
  {
   "cell_type": "code",
   "execution_count": 245,
   "source": [
    "\r\n",
    "X_axis = np.arange(len(perc_increase_plot_data.index))\r\n",
    "plt.figure(figsize=(20, 12))\r\n",
    "plt1 = plt.bar(X_axis, perc_increase_plot_data['Store'], 0.4, label='Store')\r\n",
    "for p in plt1.patches:\r\n",
    "    plt.annotate('{}'.format(p.get_height()), (p.get_x()\r\n",
    "                                                   * 1.005, p.get_height() * 1.005))\r\n",
    "plt.xticks(X_axis, perc_increase_plot_data.index)\r\n",
    "plt.xlabel(\"Customer Percentage Increase\")\r\n",
    "plt.ylabel(\"Number of Stores\")\r\n",
    "plt.title(\"Customer Percentage Increase in Stores\")\r\n",
    "plt.legend()\r\n",
    "plt.show()\r\n"
   ],
   "outputs": [
    {
     "output_type": "display_data",
     "data": {
      "text/plain": [
       "<Figure size 1440x864 with 1 Axes>"
      ],
      "image/png": "[encoded data removed]"
     },
     "metadata": {}
    }
   ],
   "metadata": {}
  },
  {
   "cell_type": "code",
   "execution_count": 179,
   "source": [
    "# Top 10 Stores With high promotion customer success\r\n",
    "customer_info.sort_values(\r\n",
    "    by='Customer Percentage Increase', ascending=False)[:10]\r\n"
   ],
   "outputs": [
    {
     "output_type": "execute_result",
     "data": {
      "text/plain": [
       "        Customers  Customer Percentage Increase\n",
       "Store                                          \n",
       "198    280.987261                    149.190062\n",
       "607    343.744161                    131.295127\n",
       "575    405.160950                    119.846104\n",
       "271    655.680467                    117.857542\n",
       "635    494.096603                    115.903566\n",
       "1108   488.755839                    115.463268\n",
       "898    590.168790                    115.007872\n",
       "96     449.430998                    113.322905\n",
       "963    840.371550                    111.453401\n",
       "693    410.011677                    111.037849"
      ],
      "text/html": [
       "<div>\n",
       "<style scoped>\n",
       "    .dataframe tbody tr th:only-of-type {\n",
       "        vertical-align: middle;\n",
       "    }\n",
       "\n",
       "    .dataframe tbody tr th {\n",
       "        vertical-align: top;\n",
       "    }\n",
       "\n",
       "    .dataframe thead th {\n",
       "        text-align: right;\n",
       "    }\n",
       "</style>\n",
       "<table border=\"1\" class=\"dataframe\">\n",
       "  <thead>\n",
       "    <tr style=\"text-align: right;\">\n",
       "      <th></th>\n",
       "      <th>Customers</th>\n",
       "      <th>Customer Percentage Increase</th>\n",
       "    </tr>\n",
       "    <tr>\n",
       "      <th>Store</th>\n",
       "      <th></th>\n",
       "      <th></th>\n",
       "    </tr>\n",
       "  </thead>\n",
       "  <tbody>\n",
       "    <tr>\n",
       "      <th>198</th>\n",
       "      <td>280.987261</td>\n",
       "      <td>149.190062</td>\n",
       "    </tr>\n",
       "    <tr>\n",
       "      <th>607</th>\n",
       "      <td>343.744161</td>\n",
       "      <td>131.295127</td>\n",
       "    </tr>\n",
       "    <tr>\n",
       "      <th>575</th>\n",
       "      <td>405.160950</td>\n",
       "      <td>119.846104</td>\n",
       "    </tr>\n",
       "    <tr>\n",
       "      <th>271</th>\n",
       "      <td>655.680467</td>\n",
       "      <td>117.857542</td>\n",
       "    </tr>\n",
       "    <tr>\n",
       "      <th>635</th>\n",
       "      <td>494.096603</td>\n",
       "      <td>115.903566</td>\n",
       "    </tr>\n",
       "    <tr>\n",
       "      <th>1108</th>\n",
       "      <td>488.755839</td>\n",
       "      <td>115.463268</td>\n",
       "    </tr>\n",
       "    <tr>\n",
       "      <th>898</th>\n",
       "      <td>590.168790</td>\n",
       "      <td>115.007872</td>\n",
       "    </tr>\n",
       "    <tr>\n",
       "      <th>96</th>\n",
       "      <td>449.430998</td>\n",
       "      <td>113.322905</td>\n",
       "    </tr>\n",
       "    <tr>\n",
       "      <th>963</th>\n",
       "      <td>840.371550</td>\n",
       "      <td>111.453401</td>\n",
       "    </tr>\n",
       "    <tr>\n",
       "      <th>693</th>\n",
       "      <td>410.011677</td>\n",
       "      <td>111.037849</td>\n",
       "    </tr>\n",
       "  </tbody>\n",
       "</table>\n",
       "</div>"
      ]
     },
     "metadata": {},
     "execution_count": 179
    }
   ],
   "metadata": {}
  },
  {
   "cell_type": "markdown",
   "source": [
    "## Could the promos be deployed in more effective ways? Which stores should promos be deployed in?"
   ],
   "metadata": {}
  },
  {
   "cell_type": "code",
   "execution_count": 187,
   "source": [
    "# Promos are better deployed if they show a high percentage of increase\r\n",
    "def get_increase_per_store(grouped_cutomer_list: list, profitable_promo:float=10) -> list:\r\n",
    "    store_index = []\r\n",
    "    i = 0\r\n",
    "    while(i < len(grouped_cutomer_list)):\r\n",
    "        new_perc = ((grouped_cutomer_list[i+1] * 100) / grouped_cutomer_list[i]) - 100\r\n",
    "        if(new_perc >= profitable_promo):\r\n",
    "            store_index.append(int(i/2))\r\n",
    "        i += 2\r\n",
    "\r\n",
    "    return store_index"
   ],
   "outputs": [],
   "metadata": {}
  },
  {
   "cell_type": "code",
   "execution_count": 192,
   "source": [
    "# Lets say its profitable if we get 10% increase in the mean customer amount\r\n",
    "customers = train_df.loc[:, ['Store', 'Customers']]\r\n",
    "customers = customers.groupby('Store').agg({'Customers': 'mean'})\r\n",
    "store_index = get_increase_per_store(customer_value, profitable_promo=10)\r\n",
    "store_10_perc_inc = customers[customers.index.isin(store_index)] \r\n",
    "store_10_perc_inc\r\n"
   ],
   "outputs": [
    {
     "output_type": "execute_result",
     "data": {
      "text/plain": [
       "         Customers\n",
       "Store             \n",
       "1       467.646497\n",
       "2       486.045648\n",
       "3       620.286624\n",
       "4      1100.057325\n",
       "5       444.360934\n",
       "...            ...\n",
       "1110    449.000000\n",
       "1111    373.548832\n",
       "1112    693.498938\n",
       "1113    596.763270\n",
       "1114   2664.057325\n",
       "\n",
       "[1102 rows x 1 columns]"
      ],
      "text/html": [
       "<div>\n",
       "<style scoped>\n",
       "    .dataframe tbody tr th:only-of-type {\n",
       "        vertical-align: middle;\n",
       "    }\n",
       "\n",
       "    .dataframe tbody tr th {\n",
       "        vertical-align: top;\n",
       "    }\n",
       "\n",
       "    .dataframe thead th {\n",
       "        text-align: right;\n",
       "    }\n",
       "</style>\n",
       "<table border=\"1\" class=\"dataframe\">\n",
       "  <thead>\n",
       "    <tr style=\"text-align: right;\">\n",
       "      <th></th>\n",
       "      <th>Customers</th>\n",
       "    </tr>\n",
       "    <tr>\n",
       "      <th>Store</th>\n",
       "      <th></th>\n",
       "    </tr>\n",
       "  </thead>\n",
       "  <tbody>\n",
       "    <tr>\n",
       "      <th>1</th>\n",
       "      <td>467.646497</td>\n",
       "    </tr>\n",
       "    <tr>\n",
       "      <th>2</th>\n",
       "      <td>486.045648</td>\n",
       "    </tr>\n",
       "    <tr>\n",
       "      <th>3</th>\n",
       "      <td>620.286624</td>\n",
       "    </tr>\n",
       "    <tr>\n",
       "      <th>4</th>\n",
       "      <td>1100.057325</td>\n",
       "    </tr>\n",
       "    <tr>\n",
       "      <th>5</th>\n",
       "      <td>444.360934</td>\n",
       "    </tr>\n",
       "    <tr>\n",
       "      <th>...</th>\n",
       "      <td>...</td>\n",
       "    </tr>\n",
       "    <tr>\n",
       "      <th>1110</th>\n",
       "      <td>449.000000</td>\n",
       "    </tr>\n",
       "    <tr>\n",
       "      <th>1111</th>\n",
       "      <td>373.548832</td>\n",
       "    </tr>\n",
       "    <tr>\n",
       "      <th>1112</th>\n",
       "      <td>693.498938</td>\n",
       "    </tr>\n",
       "    <tr>\n",
       "      <th>1113</th>\n",
       "      <td>596.763270</td>\n",
       "    </tr>\n",
       "    <tr>\n",
       "      <th>1114</th>\n",
       "      <td>2664.057325</td>\n",
       "    </tr>\n",
       "  </tbody>\n",
       "</table>\n",
       "<p>1102 rows × 1 columns</p>\n",
       "</div>"
      ]
     },
     "metadata": {},
     "execution_count": 192
    }
   ],
   "metadata": {}
  },
  {
   "cell_type": "code",
   "execution_count": 193,
   "source": [
    "# Lets say its profitable if we get 60% increase in the mean customer amount\r\n",
    "store_index = get_increase_per_store(customer_value, profitable_promo=60)\r\n",
    "store_60_perc_inc = customers[customers.index.isin(store_index)]\r\n",
    "store_60_perc_inc\r\n"
   ],
   "outputs": [
    {
     "output_type": "execute_result",
     "data": {
      "text/plain": [
       "         Customers\n",
       "Store             \n",
       "1       467.646497\n",
       "2       486.045648\n",
       "4      1100.057325\n",
       "5       444.360934\n",
       "6       525.990446\n",
       "...            ...\n",
       "1107    549.465699\n",
       "1108    488.755839\n",
       "1109    371.179420\n",
       "1110    449.000000\n",
       "1111    373.548832\n",
       "\n",
       "[596 rows x 1 columns]"
      ],
      "text/html": [
       "<div>\n",
       "<style scoped>\n",
       "    .dataframe tbody tr th:only-of-type {\n",
       "        vertical-align: middle;\n",
       "    }\n",
       "\n",
       "    .dataframe tbody tr th {\n",
       "        vertical-align: top;\n",
       "    }\n",
       "\n",
       "    .dataframe thead th {\n",
       "        text-align: right;\n",
       "    }\n",
       "</style>\n",
       "<table border=\"1\" class=\"dataframe\">\n",
       "  <thead>\n",
       "    <tr style=\"text-align: right;\">\n",
       "      <th></th>\n",
       "      <th>Customers</th>\n",
       "    </tr>\n",
       "    <tr>\n",
       "      <th>Store</th>\n",
       "      <th></th>\n",
       "    </tr>\n",
       "  </thead>\n",
       "  <tbody>\n",
       "    <tr>\n",
       "      <th>1</th>\n",
       "      <td>467.646497</td>\n",
       "    </tr>\n",
       "    <tr>\n",
       "      <th>2</th>\n",
       "      <td>486.045648</td>\n",
       "    </tr>\n",
       "    <tr>\n",
       "      <th>4</th>\n",
       "      <td>1100.057325</td>\n",
       "    </tr>\n",
       "    <tr>\n",
       "      <th>5</th>\n",
       "      <td>444.360934</td>\n",
       "    </tr>\n",
       "    <tr>\n",
       "      <th>6</th>\n",
       "      <td>525.990446</td>\n",
       "    </tr>\n",
       "    <tr>\n",
       "      <th>...</th>\n",
       "      <td>...</td>\n",
       "    </tr>\n",
       "    <tr>\n",
       "      <th>1107</th>\n",
       "      <td>549.465699</td>\n",
       "    </tr>\n",
       "    <tr>\n",
       "      <th>1108</th>\n",
       "      <td>488.755839</td>\n",
       "    </tr>\n",
       "    <tr>\n",
       "      <th>1109</th>\n",
       "      <td>371.179420</td>\n",
       "    </tr>\n",
       "    <tr>\n",
       "      <th>1110</th>\n",
       "      <td>449.000000</td>\n",
       "    </tr>\n",
       "    <tr>\n",
       "      <th>1111</th>\n",
       "      <td>373.548832</td>\n",
       "    </tr>\n",
       "  </tbody>\n",
       "</table>\n",
       "<p>596 rows × 1 columns</p>\n",
       "</div>"
      ]
     },
     "metadata": {},
     "execution_count": 193
    }
   ],
   "metadata": {}
  },
  {
   "cell_type": "code",
   "execution_count": 196,
   "source": [
    "# Lets say its profitable if we get 90% increase in the mean customer amount\r\n",
    "store_index = get_increase_per_store(customer_value, profitable_promo=120)\r\n",
    "store_90_perc_inc = customers[customers.index.isin(store_index)]\r\n",
    "store_90_perc_inc\r\n"
   ],
   "outputs": [
    {
     "output_type": "execute_result",
     "data": {
      "text/plain": [
       "        Customers\n",
       "Store            \n",
       "197    701.006369\n",
       "606    516.692144"
      ],
      "text/html": [
       "<div>\n",
       "<style scoped>\n",
       "    .dataframe tbody tr th:only-of-type {\n",
       "        vertical-align: middle;\n",
       "    }\n",
       "\n",
       "    .dataframe tbody tr th {\n",
       "        vertical-align: top;\n",
       "    }\n",
       "\n",
       "    .dataframe thead th {\n",
       "        text-align: right;\n",
       "    }\n",
       "</style>\n",
       "<table border=\"1\" class=\"dataframe\">\n",
       "  <thead>\n",
       "    <tr style=\"text-align: right;\">\n",
       "      <th></th>\n",
       "      <th>Customers</th>\n",
       "    </tr>\n",
       "    <tr>\n",
       "      <th>Store</th>\n",
       "      <th></th>\n",
       "    </tr>\n",
       "  </thead>\n",
       "  <tbody>\n",
       "    <tr>\n",
       "      <th>197</th>\n",
       "      <td>701.006369</td>\n",
       "    </tr>\n",
       "    <tr>\n",
       "      <th>606</th>\n",
       "      <td>516.692144</td>\n",
       "    </tr>\n",
       "  </tbody>\n",
       "</table>\n",
       "</div>"
      ]
     },
     "metadata": {},
     "execution_count": 196
    }
   ],
   "metadata": {}
  },
  {
   "cell_type": "markdown",
   "source": [
    "## Trends of customer behavior during store open and closing times"
   ],
   "metadata": {}
  },
  {
   "cell_type": "code",
   "execution_count": 77,
   "source": [
    "customer_behaviour = train_df.groupby('Open').agg({'Customers':'mean','Sales':'mean'})\r\n",
    "customer_behaviour"
   ],
   "outputs": [
    {
     "output_type": "execute_result",
     "data": {
      "text/plain": [
       "       Customers        Sales\n",
       "Open                         \n",
       "0       0.000000     0.000000\n",
       "1     762.728395  6955.514291"
      ],
      "text/html": [
       "<div>\n",
       "<style scoped>\n",
       "    .dataframe tbody tr th:only-of-type {\n",
       "        vertical-align: middle;\n",
       "    }\n",
       "\n",
       "    .dataframe tbody tr th {\n",
       "        vertical-align: top;\n",
       "    }\n",
       "\n",
       "    .dataframe thead th {\n",
       "        text-align: right;\n",
       "    }\n",
       "</style>\n",
       "<table border=\"1\" class=\"dataframe\">\n",
       "  <thead>\n",
       "    <tr style=\"text-align: right;\">\n",
       "      <th></th>\n",
       "      <th>Customers</th>\n",
       "      <th>Sales</th>\n",
       "    </tr>\n",
       "    <tr>\n",
       "      <th>Open</th>\n",
       "      <th></th>\n",
       "      <th></th>\n",
       "    </tr>\n",
       "  </thead>\n",
       "  <tbody>\n",
       "    <tr>\n",
       "      <th>0</th>\n",
       "      <td>0.000000</td>\n",
       "      <td>0.000000</td>\n",
       "    </tr>\n",
       "    <tr>\n",
       "      <th>1</th>\n",
       "      <td>762.728395</td>\n",
       "      <td>6955.514291</td>\n",
       "    </tr>\n",
       "  </tbody>\n",
       "</table>\n",
       "</div>"
      ]
     },
     "metadata": {},
     "execution_count": 77
    }
   ],
   "metadata": {}
  },
  {
   "cell_type": "markdown",
   "source": [
    "## Which stores are opened on all weekdays? How does that affect their sales on weekends? "
   ],
   "metadata": {}
  },
  {
   "cell_type": "code",
   "execution_count": null,
   "source": [
    "# open_all_weekdays = \r\n",
    "# all_week_stores = pd.DataFrame(train_df.groupby(['Store', 'DayOfWeek']).size().groupby(level=1).count(),columns=['Open For Week Days'])\r\n",
    "# all_week_stores[all_week_stores['Open For Week Days'] == 5]\r\n",
    "# all_week_stores\r\n",
    "# train_df.groupby(['Store', 'DayOfWeek']).agg({'Sales':'mean'})\r\n"
   ],
   "outputs": [],
   "metadata": {}
  },
  {
   "cell_type": "code",
   "execution_count": 93,
   "source": [
    "# open to weekday relation ---- to do, promo to weekday\r\n",
    "# open_all_weekdays (Mon - Fri)\r\n",
    "# First Remove all holiday related days\r\n",
    "holiday_out_df = train_df[train_df['StateHoliday'] == 0]\r\n",
    "weekdays_df = holiday_out_df[holiday_out_df['DayOfWeek'] <= 5]\r\n",
    "not_open_stores = weekdays_df[weekdays_df['Open'] == 0]\r\n",
    "not_open_stores_id = not_open_stores['Store']\r\n",
    "not_open_stores_id = not_open_stores_id.values.tolist()\r\n",
    "\r\n",
    "all_weekdays_open_stores = train_df[~train_df['Store'].isin(not_open_stores_id)]\r\n",
    "all_weekdays_open_stores\r\n",
    "not_all_weekdays_open_stores = train_df[train_df['Store'].isin(not_open_stores_id)]"
   ],
   "outputs": [],
   "metadata": {}
  },
  {
   "cell_type": "code",
   "execution_count": 112,
   "source": [
    "fig, axs = plt.subplots(1, 2, figsize=(20, 5))\r\n",
    "fig.suptitle(f'Comparison')\r\n",
    "plot1 = sns.barplot(\r\n",
    "    x='DayOfWeek', y='Sales', data=all_weekdays_open_stores, ax=axs[0])\r\n",
    "plot1.set_title('All Week Day Stores')\r\n",
    "for p in plot1.patches:\r\n",
    "    plot1.annotate(format(p.get_height(), '.1f'),\r\n",
    "                   (p.get_x() + p.get_width() / 2., p.get_height()),\r\n",
    "                   ha='center', va='center',\r\n",
    "                   size=15,\r\n",
    "                   xytext=(0, -12),\r\n",
    "                   textcoords='offset points')\r\n",
    "\r\n",
    "plot2 = sns.barplot(\r\n",
    "    x='DayOfWeek', y='Sales', data=not_all_weekdays_open_stores, ax=axs[1])\r\n",
    "plot2.set_title('Not all Week Day Stores')\r\n",
    "for p in plot2.patches:\r\n",
    "    plot2.annotate(format(p.get_height(), '.1f'),\r\n",
    "                   (p.get_x() + p.get_width() / 2., p.get_height()),\r\n",
    "                   ha='center', va='center',\r\n",
    "                   size=15,\r\n",
    "                   xytext=(0, -12),\r\n",
    "                   textcoords='offset points')\r\n"
   ],
   "outputs": [
    {
     "output_type": "display_data",
     "data": {
      "text/plain": [
       "<Figure size 1440x360 with 2 Axes>"
      ],
      "image/png": "[encoded data removed]"
     },
     "metadata": {
      "needs_background": "light"
     }
    }
   ],
   "metadata": {}
  },
  {
   "cell_type": "markdown",
   "source": [
    "## Check how the assortment type affects sales"
   ],
   "metadata": {}
  },
  {
   "cell_type": "code",
   "execution_count": 251,
   "source": [
    "assortment_sales_rln = joined_df.loc[:, ['Assortment', 'Sales']]\r\n",
    "assortment_sales_corr = assortment_sales_rln.corr()\r\n",
    "assortment_sales_rln = assortment_sales_rln.groupby(\r\n",
    "    \"Assortment\").agg({'Sales': 'mean'})\r\n",
    "assortment_sales_rln\r\n",
    "# plt.bar(X_axis - 0.2, seasonal['Sales'], 0.4, label='Sales')\r\n",
    "# plot1 = sns.barplot(\r\n",
    "#     x=assortment_sales_rln.index.values.to_list(), y=assortment_sales_rln['Sales'])\r\n",
    "# plot1.set_title('All Week Day Stores')\r\n",
    "# for p in plot1.patches:\r\n",
    "#     plot1.annotate(format(p.get_height(), '.1f'),\r\n",
    "#                    (p.get_x() + p.get_width() / 2., p.get_height()),\r\n",
    "#                    ha='center', va='center',\r\n",
    "#                    size=15,\r\n",
    "#                    xytext=(0, -12),\r\n",
    "#                    textcoords='offset points')\r\n"
   ],
   "outputs": [
    {
     "output_type": "execute_result",
     "data": {
      "text/plain": [
       "                  Sales\n",
       "Assortment             \n",
       "a           5481.026096\n",
       "b           8553.931999\n",
       "c           6058.676567"
      ],
      "text/html": [
       "<div>\n",
       "<style scoped>\n",
       "    .dataframe tbody tr th:only-of-type {\n",
       "        vertical-align: middle;\n",
       "    }\n",
       "\n",
       "    .dataframe tbody tr th {\n",
       "        vertical-align: top;\n",
       "    }\n",
       "\n",
       "    .dataframe thead th {\n",
       "        text-align: right;\n",
       "    }\n",
       "</style>\n",
       "<table border=\"1\" class=\"dataframe\">\n",
       "  <thead>\n",
       "    <tr style=\"text-align: right;\">\n",
       "      <th></th>\n",
       "      <th>Sales</th>\n",
       "    </tr>\n",
       "    <tr>\n",
       "      <th>Assortment</th>\n",
       "      <th></th>\n",
       "    </tr>\n",
       "  </thead>\n",
       "  <tbody>\n",
       "    <tr>\n",
       "      <th>a</th>\n",
       "      <td>5481.026096</td>\n",
       "    </tr>\n",
       "    <tr>\n",
       "      <th>b</th>\n",
       "      <td>8553.931999</td>\n",
       "    </tr>\n",
       "    <tr>\n",
       "      <th>c</th>\n",
       "      <td>6058.676567</td>\n",
       "    </tr>\n",
       "  </tbody>\n",
       "</table>\n",
       "</div>"
      ]
     },
     "metadata": {},
     "execution_count": 251
    }
   ],
   "metadata": {}
  },
  {
   "cell_type": "code",
   "execution_count": null,
   "source": [
    "plt.figure(figsize=(10, 7))\r\n",
    "sns.heatmap(assortment_sales_corr, annot=True)\r\n",
    "plt.title('Assortment - Sales Relation', size=18, fontweight='bold')\r\n"
   ],
   "outputs": [],
   "metadata": {}
  },
  {
   "cell_type": "code",
   "execution_count": null,
   "source": [
    "# Adding Season Column to both train and test dataframes\r\n",
    "# Train DataFrame\r\n",
    "# Creating a DataCleaner Class to access the add season method\r\n",
    "train_add_season = DataCleaner(train_season.df)\r\n",
    "# Using the add season method\r\n",
    "train_add_season.add_season_col('Month')\r\n",
    "\r\n",
    "# Creating a DataCleaner Class to access the add season method\r\n",
    "test_add_season = DataCleaner(test_season.df)\r\n",
    "# Using the add season method\r\n",
    "test_add_season.add_season_col('Month')\r\n"
   ],
   "outputs": [],
   "metadata": {}
  },
  {
   "cell_type": "code",
   "execution_count": null,
   "source": [
    "# Creating a DataInfo class on both to use information methods\r\n",
    "train_season = DataInfo(train_add_season.df)\r\n",
    "test_season = DataInfo(test_add_season.df)"
   ],
   "outputs": [],
   "metadata": {}
  },
  {
   "cell_type": "code",
   "execution_count": null,
   "source": [
    "# sample of train season after getting new season column\r\n",
    "train_season.df.sample(10)"
   ],
   "outputs": [],
   "metadata": {}
  },
  {
   "cell_type": "code",
   "execution_count": null,
   "source": [
    "# Grouping train data by Month and summing the sales and customers columns\r\n",
    "month_train = train_season.get_grouped_by('Month').agg({'Sales':'sum','Customers':'sum'}).sort_values(by='Sales',ascending=False)\r\n",
    "month_train"
   ],
   "outputs": [],
   "metadata": {}
  },
  {
   "cell_type": "code",
   "execution_count": null,
   "source": [
    "# Sales where high in this months respectively\r\n",
    "convert_to_month_name(month_train.index.to_list())"
   ],
   "outputs": [],
   "metadata": {}
  },
  {
   "cell_type": "code",
   "execution_count": null,
   "source": [
    "# Grouping train data by Season and summing the sales and customers columns\r\n",
    "train_season.get_grouped_by('Season').agg(\r\n",
    "    {'Sales': 'sum', 'Customers': 'sum'}).sort_values(by='Sales', ascending=False)\r\n"
   ],
   "outputs": [],
   "metadata": {}
  },
  {
   "cell_type": "markdown",
   "source": [],
   "metadata": {}
  },
  {
   "cell_type": "code",
   "execution_count": null,
   "source": [
    "test_season.get_grouped_by('Month').agg(\r\n",
    "    {'Sales': 'sum', 'Customers': 'sum'}).sort_values(by='Sales', ascending=False)\r\n"
   ],
   "outputs": [],
   "metadata": {}
  },
  {
   "cell_type": "code",
   "execution_count": null,
   "source": [
    "test_season.get_grouped_by('Season').agg(\r\n",
    "    {'Sales': 'sum', 'Customers': 'sum'}).sort_values(by='Sales', ascending=False)"
   ],
   "outputs": [],
   "metadata": {}
  },
  {
   "cell_type": "code",
   "execution_count": null,
   "source": [
    "train_data_info.df.head(5)"
   ],
   "outputs": [],
   "metadata": {}
  },
  {
   "cell_type": "code",
   "execution_count": null,
   "source": [
    "test_data_cleaner.df.info()"
   ],
   "outputs": [],
   "metadata": {}
  },
  {
   "cell_type": "code",
   "execution_count": null,
   "source": [
    "train_data_info.get_size()"
   ],
   "outputs": [],
   "metadata": {}
  },
  {
   "cell_type": "code",
   "execution_count": null,
   "source": [
    "#Check if there are columns with missing values\r\n",
    "train_data_info.get_columns_with_missing_values()"
   ],
   "outputs": [],
   "metadata": {}
  },
  {
   "cell_type": "code",
   "execution_count": null,
   "source": [
    "train_data_info.get_columns()"
   ],
   "outputs": [],
   "metadata": {}
  },
  {
   "cell_type": "code",
   "execution_count": null,
   "source": [
    "train_data_info.get_dispersion_params()"
   ],
   "outputs": [],
   "metadata": {}
  },
  {
   "cell_type": "code",
   "execution_count": null,
   "source": [
    "train_data_info.get_duplicates()"
   ],
   "outputs": [],
   "metadata": {}
  },
  {
   "cell_type": "code",
   "execution_count": null,
   "source": [
    "train_data_info.get_matrix_correlation()"
   ],
   "outputs": [],
   "metadata": {}
  },
  {
   "cell_type": "code",
   "execution_count": null,
   "source": [
    "train_data_info.get_min_max_of_dataframe_columns()"
   ],
   "outputs": [],
   "metadata": {}
  },
  {
   "cell_type": "code",
   "execution_count": null,
   "source": [
    "store_group = train_data_info.get_grouped_by('Store').agg({'Sales':'sum','Customers':'sum','Open':'sum', 'Promo':'sum','SchoolHoliday':'sum'})\r\n",
    "store_group"
   ],
   "outputs": [],
   "metadata": {}
  },
  {
   "cell_type": "code",
   "execution_count": null,
   "source": [
    "store_group.corr()"
   ],
   "outputs": [],
   "metadata": {}
  },
  {
   "cell_type": "code",
   "execution_count": null,
   "source": [],
   "outputs": [],
   "metadata": {}
  }
 ],
 "metadata": {
  "orig_nbformat": 4,
  "language_info": {
   "name": "python",
   "version": "3.8.4",
   "mimetype": "text/x-python",
   "codemirror_mode": {
    "name": "ipython",
    "version": 3
   },
   "pygments_lexer": "ipython3",
   "nbconvert_exporter": "python",
   "file_extension": ".py"
  },
  "kernelspec": {
   "name": "python3",
   "display_name": "Python 3.8.4 64-bit"
  },
  "interpreter": {
   "hash": "2db524e06e9f5f4ffedc911c917cb75e12dbc923643829bf417064a77eb14d37"
  }
 },
 "nbformat": 4,
 "nbformat_minor": 2
}