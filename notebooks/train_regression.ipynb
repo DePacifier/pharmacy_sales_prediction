{
 "cells": [
  {
   "cell_type": "markdown",
   "source": [
    "# Training Regression Models using sklearn pipelines"
   ],
   "metadata": {}
  },
  {
   "cell_type": "markdown",
   "source": [
    "# Without Pipeline"
   ],
   "metadata": {}
  },
  {
   "cell_type": "markdown",
   "source": [
    "## Importing Libraries"
   ],
   "metadata": {}
  },
  {
   "cell_type": "code",
   "execution_count": 1,
   "source": [
    "#importing Libraries\r\n",
    "import pandas as pd\r\n",
    "# import dvc.api\r\n",
    "import os\r\n",
    "import sys\r\n",
    "import numpy as np\r\n",
    "from sklearn.base import BaseEstimator, TransformerMixin\r\n",
    "from sklearn.model_selection import train_test_split, GridSearchCV\r\n",
    "from sklearn.ensemble import RandomForestRegressor\r\n",
    "from sklearn.preprocessing import StandardScaler, OneHotEncoder\r\n",
    "from sklearn.compose import ColumnTransformer\r\n",
    "from sklearn.pipeline import Pipeline\r\n",
    "from sklearn.impute import SimpleImputer\r\n",
    "import mlflow\r\n",
    "#import local libraries\r\n",
    "#Adding scripts path\r\n",
    "sys.path.append(os.path.abspath(os.path.join('..')))\r\n",
    "from scripts.data_loader import load_df_from_csv\r\n",
    "from scripts.ML_modelling_utils import *\r\n",
    "from scripts.results_pickler import ResultPickler"
   ],
   "outputs": [],
   "metadata": {}
  },
  {
   "cell_type": "code",
   "execution_count": 2,
   "source": [
    "results = ResultPickler()"
   ],
   "outputs": [],
   "metadata": {}
  },
  {
   "cell_type": "markdown",
   "source": [
    "## Loading Clean Data"
   ],
   "metadata": {}
  },
  {
   "cell_type": "code",
   "execution_count": 3,
   "source": [
    "clean_data = load_df_from_csv('../data/train.csv')\r\n",
    "y_values = clean_data['Sales']\r\n",
    "x_values = clean_data.drop(['Sales'],axis=1)"
   ],
   "outputs": [],
   "metadata": {}
  },
  {
   "cell_type": "markdown",
   "source": [
    "## Training using Random Forest Regressor"
   ],
   "metadata": {}
  },
  {
   "cell_type": "code",
   "execution_count": 4,
   "source": [
    "# Splitting Data (60,20,20)\r\n",
    "x_train, x_test, y_train, y_test = train_test_split(x_values, y_values, test_size=0.2, random_state=42)\r\n",
    "x_train, x_valid, y_train, y_valid = train_test_split(x_train, y_train, test_size=0.2, random_state=42)"
   ],
   "outputs": [],
   "metadata": {}
  },
  {
   "cell_type": "markdown",
   "source": [],
   "metadata": {}
  },
  {
   "cell_type": "code",
   "execution_count": 5,
   "source": [
    "mlflow.autolog(log_input_examples=True, log_model_signatures=True, log_models=True, silent=True)\r\n",
    "# Create a based model\r\n",
    "rf = RandomForestRegressor()\r\n",
    "with mlflow.start_run() as run:\r\n",
    "    rf.fit(x_train, y_train)\r\n",
    "\r\n",
    "    train_score = rf.score(x_train, y_train)\r\n",
    "    valid_score = rf.score(x_valid,y_valid)\r\n",
    "    valid_metrics = calculate_metrics(y_valid,rf.predict(x_valid),\"Validation \")\r\n",
    "    test_score = rf.score(x_test,y_test)\r\n",
    "    test_metrics = calculate_metrics(y_test, rf.predict(x_test), \"Test \")\r\n",
    "\r\n",
    "    mlflow.log_metric(\"Valid Score\", valid_score)\r\n",
    "    mlflow.log_metrics(valid_metrics)\r\n",
    "    mlflow.log_metric(\"Test Score\", test_score)\r\n",
    "    mlflow.log_metrics(test_metrics)\r\n",
    "    save_model(rf, test_metrics['Test RMSE Score'])\r\n"
   ],
   "outputs": [
    {
     "output_type": "stream",
     "name": "stderr",
     "text": [
      "Modelling Utilities:INFO->Validation  RMSE Score is: 23.20366%\n",
      "Modelling Utilities:INFO->Validation  R2 Square Score is: 94.64278%\n",
      "Modelling Utilities:INFO->Validation  MAE Score is: 13.35542%\n",
      "Modelling Utilities:INFO->Test  RMSE Score is: 23.24267%\n",
      "Modelling Utilities:INFO->Test  R2 Square Score is: 94.58028%\n",
      "Modelling Utilities:INFO->Test  MAE Score is: 13.36098%\n",
      "Modelling Utilities:ERROR->Failed to save model\n",
      "Traceback (most recent call last):\n",
      "  File \"d:\\10Academy\\Week 3\\pharmacy_sales_prediction\\scripts\\ML_modelling_utils.py\", line 40, in save_model\n",
      "    with open(file_name, 'wb') as handle:\n",
      "FileNotFoundError: [Errno 2] No such file or directory: '../model/31-07-2021-20-07-56-23.24%.pkl'\n"
     ]
    }
   ],
   "metadata": {}
  },
  {
   "cell_type": "code",
   "execution_count": 6,
   "source": [
    "train_score"
   ],
   "outputs": [
    {
     "output_type": "execute_result",
     "data": {
      "text/plain": [
       "0.9918316294617459"
      ]
     },
     "metadata": {},
     "execution_count": 6
    }
   ],
   "metadata": {}
  },
  {
   "cell_type": "code",
   "execution_count": 7,
   "source": [
    "valid_score"
   ],
   "outputs": [
    {
     "output_type": "execute_result",
     "data": {
      "text/plain": [
       "0.9464277876115708"
      ]
     },
     "metadata": {},
     "execution_count": 7
    }
   ],
   "metadata": {}
  },
  {
   "cell_type": "code",
   "execution_count": 8,
   "source": [
    "valid_metrics"
   ],
   "outputs": [
    {
     "output_type": "execute_result",
     "data": {
      "text/plain": [
       "{'Validation RMSE Score': 0.2320365947326469,\n",
       " 'Validation R2_Squared': 0.9464277876115708,\n",
       " 'Validation MAE Score': 0.13355418370087555}"
      ]
     },
     "metadata": {},
     "execution_count": 8
    }
   ],
   "metadata": {}
  },
  {
   "cell_type": "code",
   "execution_count": 9,
   "source": [
    "test_metrics\r\n"
   ],
   "outputs": [
    {
     "output_type": "execute_result",
     "data": {
      "text/plain": [
       "{'Test RMSE Score': 0.23242674862611581,\n",
       " 'Test R2_Squared': 0.9458027905681076,\n",
       " 'Test MAE Score': 0.133609822914164}"
      ]
     },
     "metadata": {},
     "execution_count": 9
    }
   ],
   "metadata": {}
  },
  {
   "cell_type": "code",
   "execution_count": 10,
   "source": [
    "features = pd.DataFrame()\r\n",
    "features[\"Feature\"] = x_train.columns\r\n",
    "features[\"Importance\"] = rf.feature_importances_\r\n",
    "features = features.sort_values(by='Importance', ascending=False)\r\n",
    "results.add_data('rf-normal-features',features)\r\n",
    "features"
   ],
   "outputs": [
    {
     "output_type": "execute_result",
     "data": {
      "text/plain": [
       "                      Feature  Importance\n",
       "7                        Open    0.460066\n",
       "15        CompetitionDistance    0.161513\n",
       "8                       Promo    0.073335\n",
       "17   CompetitionOpenSinceYear    0.050575\n",
       "16  CompetitionOpenSinceMonth    0.049606\n",
       "0                   DayOfWeek    0.033238\n",
       "19            Promo2SinceWeek    0.024697\n",
       "13                  StoreType    0.024501\n",
       "5                         Day    0.022847\n",
       "3                       Month    0.019423\n",
       "20            Promo2SinceYear    0.015926\n",
       "14                 Assortment    0.015057\n",
       "11              DaysToHoliday    0.012783\n",
       "21              PromoInterval    0.008791\n",
       "2                        Year    0.008054\n",
       "10           DaysAfterHoliday    0.004264\n",
       "18                     Promo2    0.003805\n",
       "1                     WeekDay    0.003664\n",
       "12              SchoolHoliday    0.002677\n",
       "4                      Season    0.002439\n",
       "6                 MonthTiming    0.001895\n",
       "9                StateHoliday    0.000844"
      ],
      "text/html": [
       "<div>\n",
       "<style scoped>\n",
       "    .dataframe tbody tr th:only-of-type {\n",
       "        vertical-align: middle;\n",
       "    }\n",
       "\n",
       "    .dataframe tbody tr th {\n",
       "        vertical-align: top;\n",
       "    }\n",
       "\n",
       "    .dataframe thead th {\n",
       "        text-align: right;\n",
       "    }\n",
       "</style>\n",
       "<table border=\"1\" class=\"dataframe\">\n",
       "  <thead>\n",
       "    <tr style=\"text-align: right;\">\n",
       "      <th></th>\n",
       "      <th>Feature</th>\n",
       "      <th>Importance</th>\n",
       "    </tr>\n",
       "  </thead>\n",
       "  <tbody>\n",
       "    <tr>\n",
       "      <th>7</th>\n",
       "      <td>Open</td>\n",
       "      <td>0.460066</td>\n",
       "    </tr>\n",
       "    <tr>\n",
       "      <th>15</th>\n",
       "      <td>CompetitionDistance</td>\n",
       "      <td>0.161513</td>\n",
       "    </tr>\n",
       "    <tr>\n",
       "      <th>8</th>\n",
       "      <td>Promo</td>\n",
       "      <td>0.073335</td>\n",
       "    </tr>\n",
       "    <tr>\n",
       "      <th>17</th>\n",
       "      <td>CompetitionOpenSinceYear</td>\n",
       "      <td>0.050575</td>\n",
       "    </tr>\n",
       "    <tr>\n",
       "      <th>16</th>\n",
       "      <td>CompetitionOpenSinceMonth</td>\n",
       "      <td>0.049606</td>\n",
       "    </tr>\n",
       "    <tr>\n",
       "      <th>0</th>\n",
       "      <td>DayOfWeek</td>\n",
       "      <td>0.033238</td>\n",
       "    </tr>\n",
       "    <tr>\n",
       "      <th>19</th>\n",
       "      <td>Promo2SinceWeek</td>\n",
       "      <td>0.024697</td>\n",
       "    </tr>\n",
       "    <tr>\n",
       "      <th>13</th>\n",
       "      <td>StoreType</td>\n",
       "      <td>0.024501</td>\n",
       "    </tr>\n",
       "    <tr>\n",
       "      <th>5</th>\n",
       "      <td>Day</td>\n",
       "      <td>0.022847</td>\n",
       "    </tr>\n",
       "    <tr>\n",
       "      <th>3</th>\n",
       "      <td>Month</td>\n",
       "      <td>0.019423</td>\n",
       "    </tr>\n",
       "    <tr>\n",
       "      <th>20</th>\n",
       "      <td>Promo2SinceYear</td>\n",
       "      <td>0.015926</td>\n",
       "    </tr>\n",
       "    <tr>\n",
       "      <th>14</th>\n",
       "      <td>Assortment</td>\n",
       "      <td>0.015057</td>\n",
       "    </tr>\n",
       "    <tr>\n",
       "      <th>11</th>\n",
       "      <td>DaysToHoliday</td>\n",
       "      <td>0.012783</td>\n",
       "    </tr>\n",
       "    <tr>\n",
       "      <th>21</th>\n",
       "      <td>PromoInterval</td>\n",
       "      <td>0.008791</td>\n",
       "    </tr>\n",
       "    <tr>\n",
       "      <th>2</th>\n",
       "      <td>Year</td>\n",
       "      <td>0.008054</td>\n",
       "    </tr>\n",
       "    <tr>\n",
       "      <th>10</th>\n",
       "      <td>DaysAfterHoliday</td>\n",
       "      <td>0.004264</td>\n",
       "    </tr>\n",
       "    <tr>\n",
       "      <th>18</th>\n",
       "      <td>Promo2</td>\n",
       "      <td>0.003805</td>\n",
       "    </tr>\n",
       "    <tr>\n",
       "      <th>1</th>\n",
       "      <td>WeekDay</td>\n",
       "      <td>0.003664</td>\n",
       "    </tr>\n",
       "    <tr>\n",
       "      <th>12</th>\n",
       "      <td>SchoolHoliday</td>\n",
       "      <td>0.002677</td>\n",
       "    </tr>\n",
       "    <tr>\n",
       "      <th>4</th>\n",
       "      <td>Season</td>\n",
       "      <td>0.002439</td>\n",
       "    </tr>\n",
       "    <tr>\n",
       "      <th>6</th>\n",
       "      <td>MonthTiming</td>\n",
       "      <td>0.001895</td>\n",
       "    </tr>\n",
       "    <tr>\n",
       "      <th>9</th>\n",
       "      <td>StateHoliday</td>\n",
       "      <td>0.000844</td>\n",
       "    </tr>\n",
       "  </tbody>\n",
       "</table>\n",
       "</div>"
      ]
     },
     "metadata": {},
     "execution_count": 10
    }
   ],
   "metadata": {}
  },
  {
   "cell_type": "markdown",
   "source": [
    "## Parameter Tunning"
   ],
   "metadata": {}
  },
  {
   "cell_type": "code",
   "execution_count": 11,
   "source": [
    "# Create the parameter grid based on the results of random search\r\n",
    "param_grid = {\r\n",
    "    'bootstrap': [True, False],\r\n",
    "    'criterion': ['mse'],\r\n",
    "    'max_depth': [10, 15, 20],\r\n",
    "    'max_features': [2, 3],\r\n",
    "    'n_estimators': [10, 15],\r\n",
    "    'warm_start': [True, False]\r\n",
    "}\r\n",
    "\r\n",
    "rf2 = RandomForestRegressor()\r\n",
    "# Instantiate the grid search model\r\n",
    "grid_search = GridSearchCV(estimator=rf2, param_grid=param_grid,\r\n",
    "                           cv=3, n_jobs=-1, verbose=0)\r\n"
   ],
   "outputs": [],
   "metadata": {}
  },
  {
   "cell_type": "markdown",
   "source": [
    "**MSE** is used to check how close estimates or forecasts are to actual values. Lower the MSE, the closer is forecast to actual."
   ],
   "metadata": {}
  },
  {
   "cell_type": "code",
   "execution_count": 12,
   "source": [
    "# Fit the grid search to the data\r\n",
    "mlflow.autolog(log_input_examples=True, log_model_signatures=True, log_models=True, silent=True)\r\n",
    "with mlflow.start_run() as run:\r\n",
    "    best_model = grid_search.fit(x_train, y_train)\r\n",
    "\r\n",
    "    train_score = best_model.score(x_train,y_train)\r\n",
    "    valid_score = best_model.score(x_valid, y_valid)\r\n",
    "    valid_metrics = calculate_metrics(\r\n",
    "        y_valid, best_model.predict(x_valid), \"Validation \")\r\n",
    "    test_score = best_model.score(x_test, y_test)\r\n",
    "    test_metrics = calculate_metrics(\r\n",
    "        y_test, best_model.predict(x_test), \"Test \")\r\n",
    "\r\n",
    "    mlflow.log_metric(\"Valid Score\", valid_score)\r\n",
    "    mlflow.log_metrics(valid_metrics)\r\n",
    "    mlflow.log_metric(\"Test Score\", test_score)\r\n",
    "    mlflow.log_metrics(test_metrics)\r\n"
   ],
   "outputs": [
    {
     "output_type": "stream",
     "name": "stderr",
     "text": [
      "Modelling Utilities:INFO->Validation  RMSE Score is: 45.42696%\n",
      "Modelling Utilities:INFO->Validation  R2 Square Score is: 79.46693%\n",
      "Modelling Utilities:INFO->Validation  MAE Score is: 29.08988%\n",
      "Modelling Utilities:INFO->Test  RMSE Score is: 45.03068%\n",
      "Modelling Utilities:INFO->Test  R2 Square Score is: 79.65668%\n",
      "Modelling Utilities:INFO->Test  MAE Score is: 28.95114%\n"
     ]
    }
   ],
   "metadata": {}
  },
  {
   "cell_type": "code",
   "execution_count": 13,
   "source": [
    "save_model(best_model, test_metrics['Test RMSE Score'])"
   ],
   "outputs": [
    {
     "output_type": "stream",
     "name": "stderr",
     "text": [
      "Modelling Utilities:ERROR->Failed to save model\n",
      "Traceback (most recent call last):\n",
      "  File \"d:\\10Academy\\Week 3\\pharmacy_sales_prediction\\scripts\\ML_modelling_utils.py\", line 40, in save_model\n",
      "    with open(file_name, 'wb') as handle:\n",
      "FileNotFoundError: [Errno 2] No such file or directory: '../model/31-07-2021-20-12-41-45.03%.pkl'\n"
     ]
    }
   ],
   "metadata": {}
  },
  {
   "cell_type": "code",
   "execution_count": 16,
   "source": [
    "train_score"
   ],
   "outputs": [
    {
     "output_type": "execute_result",
     "data": {
      "text/plain": [
       "0.8556242697053186"
      ]
     },
     "metadata": {},
     "execution_count": 16
    }
   ],
   "metadata": {}
  },
  {
   "cell_type": "code",
   "execution_count": 17,
   "source": [
    "valid_score\r\n"
   ],
   "outputs": [
    {
     "output_type": "execute_result",
     "data": {
      "text/plain": [
       "0.7946692577246711"
      ]
     },
     "metadata": {},
     "execution_count": 17
    }
   ],
   "metadata": {}
  },
  {
   "cell_type": "code",
   "execution_count": 18,
   "source": [
    "valid_metrics"
   ],
   "outputs": [
    {
     "output_type": "execute_result",
     "data": {
      "text/plain": [
       "{'Validation RMSE Score': 0.4542696066874224,\n",
       " 'Validation R2_Squared': 0.7946692577246711,\n",
       " 'Validation MAE Score': 0.29089883735783795}"
      ]
     },
     "metadata": {},
     "execution_count": 18
    }
   ],
   "metadata": {}
  },
  {
   "cell_type": "code",
   "execution_count": 19,
   "source": [
    "test_metrics"
   ],
   "outputs": [
    {
     "output_type": "execute_result",
     "data": {
      "text/plain": [
       "{'Test RMSE Score': 0.4503068302832955,\n",
       " 'Test R2_Squared': 0.7965668234546217,\n",
       " 'Test MAE Score': 0.28951138131232523}"
      ]
     },
     "metadata": {},
     "execution_count": 19
    }
   ],
   "metadata": {}
  },
  {
   "cell_type": "code",
   "execution_count": 14,
   "source": [
    "best_model.best_params_"
   ],
   "outputs": [
    {
     "output_type": "execute_result",
     "data": {
      "text/plain": [
       "{'bootstrap': False,\n",
       " 'criterion': 'mse',\n",
       " 'max_depth': 20,\n",
       " 'max_features': 3,\n",
       " 'n_estimators': 10,\n",
       " 'warm_start': True}"
      ]
     },
     "metadata": {},
     "execution_count": 14
    }
   ],
   "metadata": {}
  },
  {
   "cell_type": "code",
   "execution_count": 15,
   "source": [
    "grid_features = pd.DataFrame()\r\n",
    "grid_features[\"Feature\"] = x_train.columns\r\n",
    "grid_features[\"Importance\"] = best_model.best_estimator_.feature_importances_\r\n",
    "features = grid_features.sort_values(by='Importance', ascending=False)\r\n",
    "results.add_data('grid-rf-features', features)\r\n",
    "features\r\n"
   ],
   "outputs": [
    {
     "output_type": "execute_result",
     "data": {
      "text/plain": [
       "                      Feature  Importance\n",
       "7                        Open    0.266806\n",
       "0                   DayOfWeek    0.156219\n",
       "8                       Promo    0.123542\n",
       "1                     WeekDay    0.087632\n",
       "15        CompetitionDistance    0.080225\n",
       "9                StateHoliday    0.041207\n",
       "16  CompetitionOpenSinceMonth    0.035120\n",
       "17   CompetitionOpenSinceYear    0.034852\n",
       "13                  StoreType    0.025759\n",
       "5                         Day    0.025315\n",
       "19            Promo2SinceWeek    0.019843\n",
       "3                       Month    0.018692\n",
       "14                 Assortment    0.018433\n",
       "20            Promo2SinceYear    0.017463\n",
       "11              DaysToHoliday    0.011965\n",
       "21              PromoInterval    0.007655\n",
       "10           DaysAfterHoliday    0.006874\n",
       "2                        Year    0.005525\n",
       "4                      Season    0.005066\n",
       "18                     Promo2    0.004546\n",
       "12              SchoolHoliday    0.004286\n",
       "6                 MonthTiming    0.002977"
      ],
      "text/html": [
       "<div>\n",
       "<style scoped>\n",
       "    .dataframe tbody tr th:only-of-type {\n",
       "        vertical-align: middle;\n",
       "    }\n",
       "\n",
       "    .dataframe tbody tr th {\n",
       "        vertical-align: top;\n",
       "    }\n",
       "\n",
       "    .dataframe thead th {\n",
       "        text-align: right;\n",
       "    }\n",
       "</style>\n",
       "<table border=\"1\" class=\"dataframe\">\n",
       "  <thead>\n",
       "    <tr style=\"text-align: right;\">\n",
       "      <th></th>\n",
       "      <th>Feature</th>\n",
       "      <th>Importance</th>\n",
       "    </tr>\n",
       "  </thead>\n",
       "  <tbody>\n",
       "    <tr>\n",
       "      <th>7</th>\n",
       "      <td>Open</td>\n",
       "      <td>0.266806</td>\n",
       "    </tr>\n",
       "    <tr>\n",
       "      <th>0</th>\n",
       "      <td>DayOfWeek</td>\n",
       "      <td>0.156219</td>\n",
       "    </tr>\n",
       "    <tr>\n",
       "      <th>8</th>\n",
       "      <td>Promo</td>\n",
       "      <td>0.123542</td>\n",
       "    </tr>\n",
       "    <tr>\n",
       "      <th>1</th>\n",
       "      <td>WeekDay</td>\n",
       "      <td>0.087632</td>\n",
       "    </tr>\n",
       "    <tr>\n",
       "      <th>15</th>\n",
       "      <td>CompetitionDistance</td>\n",
       "      <td>0.080225</td>\n",
       "    </tr>\n",
       "    <tr>\n",
       "      <th>9</th>\n",
       "      <td>StateHoliday</td>\n",
       "      <td>0.041207</td>\n",
       "    </tr>\n",
       "    <tr>\n",
       "      <th>16</th>\n",
       "      <td>CompetitionOpenSinceMonth</td>\n",
       "      <td>0.035120</td>\n",
       "    </tr>\n",
       "    <tr>\n",
       "      <th>17</th>\n",
       "      <td>CompetitionOpenSinceYear</td>\n",
       "      <td>0.034852</td>\n",
       "    </tr>\n",
       "    <tr>\n",
       "      <th>13</th>\n",
       "      <td>StoreType</td>\n",
       "      <td>0.025759</td>\n",
       "    </tr>\n",
       "    <tr>\n",
       "      <th>5</th>\n",
       "      <td>Day</td>\n",
       "      <td>0.025315</td>\n",
       "    </tr>\n",
       "    <tr>\n",
       "      <th>19</th>\n",
       "      <td>Promo2SinceWeek</td>\n",
       "      <td>0.019843</td>\n",
       "    </tr>\n",
       "    <tr>\n",
       "      <th>3</th>\n",
       "      <td>Month</td>\n",
       "      <td>0.018692</td>\n",
       "    </tr>\n",
       "    <tr>\n",
       "      <th>14</th>\n",
       "      <td>Assortment</td>\n",
       "      <td>0.018433</td>\n",
       "    </tr>\n",
       "    <tr>\n",
       "      <th>20</th>\n",
       "      <td>Promo2SinceYear</td>\n",
       "      <td>0.017463</td>\n",
       "    </tr>\n",
       "    <tr>\n",
       "      <th>11</th>\n",
       "      <td>DaysToHoliday</td>\n",
       "      <td>0.011965</td>\n",
       "    </tr>\n",
       "    <tr>\n",
       "      <th>21</th>\n",
       "      <td>PromoInterval</td>\n",
       "      <td>0.007655</td>\n",
       "    </tr>\n",
       "    <tr>\n",
       "      <th>10</th>\n",
       "      <td>DaysAfterHoliday</td>\n",
       "      <td>0.006874</td>\n",
       "    </tr>\n",
       "    <tr>\n",
       "      <th>2</th>\n",
       "      <td>Year</td>\n",
       "      <td>0.005525</td>\n",
       "    </tr>\n",
       "    <tr>\n",
       "      <th>4</th>\n",
       "      <td>Season</td>\n",
       "      <td>0.005066</td>\n",
       "    </tr>\n",
       "    <tr>\n",
       "      <th>18</th>\n",
       "      <td>Promo2</td>\n",
       "      <td>0.004546</td>\n",
       "    </tr>\n",
       "    <tr>\n",
       "      <th>12</th>\n",
       "      <td>SchoolHoliday</td>\n",
       "      <td>0.004286</td>\n",
       "    </tr>\n",
       "    <tr>\n",
       "      <th>6</th>\n",
       "      <td>MonthTiming</td>\n",
       "      <td>0.002977</td>\n",
       "    </tr>\n",
       "  </tbody>\n",
       "</table>\n",
       "</div>"
      ]
     },
     "metadata": {},
     "execution_count": 15
    }
   ],
   "metadata": {}
  },
  {
   "cell_type": "markdown",
   "source": [
    "# Using Pipeline"
   ],
   "metadata": {}
  },
  {
   "cell_type": "markdown",
   "source": [
    "## Loading just merged unclean data"
   ],
   "metadata": {}
  },
  {
   "cell_type": "code",
   "execution_count": 53,
   "source": [
    "merged_data = load_df_from_csv('../data/train.csv')\r\n",
    "y_values = merged_data['Sales']\r\n",
    "x_values = merged_data.drop(['Sales'], axis=1)"
   ],
   "outputs": [],
   "metadata": {}
  },
  {
   "cell_type": "markdown",
   "source": [
    "## Spliting Data Sets"
   ],
   "metadata": {}
  },
  {
   "cell_type": "code",
   "execution_count": 54,
   "source": [
    "# Splitting Data (60,20,20)\r\n",
    "x_train, x_test, y_train, y_test = train_test_split(x_values, y_values, test_size=0.2, random_state=42)\r\n",
    "x_train, x_valid, y_train, y_valid = train_test_split(x_train, y_train, test_size=0.2, random_state=42)"
   ],
   "outputs": [],
   "metadata": {}
  },
  {
   "cell_type": "markdown",
   "source": [
    "## Creating Transformers for our numeric and categorical data"
   ],
   "metadata": {}
  },
  {
   "cell_type": "code",
   "execution_count": 55,
   "source": [
    "class CustomMaxImputer(BaseEstimator, TransformerMixin):\r\n",
    "    def __init__(self):\r\n",
    "        super().__init__()\r\n",
    "        \r\n",
    "    def fit(self, X, y=0):\r\n",
    "        self.max_value = X.max()\r\n",
    "\r\n",
    "        return self\r\n",
    "\r\n",
    "    def transform(self, X, y=0):\r\n",
    "        return np.where(X.isna(), self.max_value, X)\r\n"
   ],
   "outputs": [],
   "metadata": {}
  },
  {
   "cell_type": "code",
   "execution_count": 41,
   "source": [
    "class CustomMostFrequentImputer(BaseEstimator, TransformerMixin):\r\n",
    "    def __init__(self):\r\n",
    "        super().__init__()\r\n",
    "\r\n",
    "    def fit(self, X, y=0):\r\n",
    "        most_occuring = Counter(X.flat).most_common(1)\r\n",
    "        self.mode_value = most_occuring[0][0]\r\n",
    "\r\n",
    "        return self\r\n",
    "\r\n",
    "    def transform(self, X, y=0):\r\n",
    "        return np.where(X.isna(), self.mode_value, X)\r\n"
   ],
   "outputs": [],
   "metadata": {}
  },
  {
   "cell_type": "code",
   "execution_count": 56,
   "source": [
    "numeric_transformer = Pipeline(steps=[\r\n",
    "    ('custom_max', CustomMaxImputer()),\r\n",
    "    ('scaler', StandardScaler())\r\n",
    "])\r\n",
    "categorical_transformer = Pipeline(steps=[\r\n",
    "    ('custom_mode', SimpleImputer(strategy='most_frequent')),\r\n",
    "    ('encoder', OneHotEncoder()),\r\n",
    "])\r\n"
   ],
   "outputs": [],
   "metadata": {}
  },
  {
   "cell_type": "markdown",
   "source": [
    "## Identifying our columns and passing it to a ColumnTransformer"
   ],
   "metadata": {}
  },
  {
   "cell_type": "code",
   "execution_count": 57,
   "source": [
    "# Scaling Sales column\r\n",
    "merged_data['Sales'] = numeric_transformer.fit_transform(merged_data[[\"Sales\"]])\r\n"
   ],
   "outputs": [],
   "metadata": {}
  },
  {
   "cell_type": "code",
   "execution_count": 58,
   "source": [
    "numeric_features = merged_data.select_dtypes(include=['int64', 'float64','uint8','uint16','float32']).columns\r\n",
    "\r\n",
    "categorical_features = merged_data.select_dtypes(include=['object']).columns\r\n",
    "\r\n",
    "class make_present_col_selector_class:\r\n",
    "    def __init__(self, selected_columns):\r\n",
    "        self.selected_columns = selected_columns\r\n",
    "\r\n",
    "    def __call__(self, df):\r\n",
    "        return [col for col in df.columns if col in self.selected_columns]\r\n",
    "\r\n",
    "preprocessor = ColumnTransformer(\r\n",
    "    transformers=[\r\n",
    "        ('numeric', numeric_transformer, make_present_col_selector_class(numeric_features)), \r\n",
    "        ('categorical', categorical_transformer, make_present_col_selector_class(categorical_features))\r\n",
    "    ])\r\n"
   ],
   "outputs": [],
   "metadata": {}
  },
  {
   "cell_type": "markdown",
   "source": [
    "## Creating our RandomForestClassifier Pipeline with our preprocessor"
   ],
   "metadata": {}
  },
  {
   "cell_type": "code",
   "execution_count": 59,
   "source": [
    "pipeline = Pipeline(steps=[\r\n",
    "    # ('preprocessor', preprocessor), \r\n",
    "    ('regressor', RandomForestRegressor())\r\n",
    "])\r\n"
   ],
   "outputs": [],
   "metadata": {}
  },
  {
   "cell_type": "markdown",
   "source": [
    "## Training Model using Pipeline"
   ],
   "metadata": {}
  },
  {
   "cell_type": "code",
   "execution_count": 60,
   "source": [
    "# Fit the pipeline with the data\r\n",
    "mlflow.autolog(log_input_examples=True, disable_for_unsupported_versions=True, silent=True)\r\n",
    "with mlflow.start_run() as run:\r\n",
    "    best_model = pipeline.fit(x_train, y_train)\r\n",
    "\r\n",
    "    train_score = best_model.score(x_train, y_train)\r\n",
    "    valid_score = best_model.score(x_valid, y_valid)\r\n",
    "    valid_metrics = calculate_metrics(y_valid, best_model.predict(x_valid))\r\n",
    "    test_score = best_model.score(x_test, y_test)\r\n",
    "    test_metrics = calculate_metrics(y_test, best_model.predict(x_test))\r\n",
    "\r\n",
    "    mlflow.log_metric(\"Valid Score\", valid_score)\r\n",
    "    mlflow.log_metrics(valid_metrics)\r\n",
    "    mlflow.log_metric(\"Test Score\", test_score)\r\n",
    "    mlflow.log_metrics(test_metrics)\r\n"
   ],
   "outputs": [],
   "metadata": {}
  },
  {
   "cell_type": "markdown",
   "source": [
    "## Parameter Tunning"
   ],
   "metadata": {}
  },
  {
   "cell_type": "code",
   "execution_count": 12,
   "source": [
    "# Create dictionary with candidate learning algorithms and their hyperparameters\r\n",
    "grid_param = [{\r\n",
    "    \"regressor\": [RandomForestClassifier()],\r\n",
    "    \"regressor__n_estimators\": [10, 15],\r\n",
    "    \"regressor__max_depth\":[5, 8, 15],\r\n",
    "    \"regressor__min_samples_leaf\":[1, 2],\r\n",
    "    \"regressor__bootstrap\": [True, False],\r\n",
    "    \"regressor__criterion\": ['mse'],\r\n",
    "    \"regressor__max_leaf_nodes\": [2, 5],\r\n",
    "    \"regressor__max_features\": [2, 3],\r\n",
    "    \"regressor__warm_start\": [True, False]\r\n",
    "}]\r\n",
    "     \r\n",
    "# create a gridsearch of the pipeline, the fit the best model\r\n",
    "grid_search_pipeline = GridSearchCV(\r\n",
    "    pipeline_rf, grid_param, cv=5, verbose=0, n_jobs=-1)  # Fit grid search\r\n"
   ],
   "outputs": [],
   "metadata": {}
  },
  {
   "cell_type": "code",
   "execution_count": null,
   "source": [
    "# Fit the grid search to the data\r\n",
    "with mlflow.start_run() as run:\r\n",
    "    best_model = grid_search_pipeline.fit(X_train, y_train)\r\n",
    "\r\n",
    "    train_score = best_model.score(x_train, y_train)\r\n",
    "    valid_score = best_model.score(x_valid, y_valid)\r\n",
    "    valid_metrics = calculate_metrics(y_valid, best_model.predict(x_valid))\r\n",
    "    test_score = best_model.score(x_test, y_test)\r\n",
    "    test_metrics = calculate_metrics(y_test, best_model.predict(x_test))\r\n",
    "\r\n",
    "    mlflow.log_metric(\"Valid Score\", valid_score)\r\n",
    "    mlflow.log_metrics(valid_metrics)\r\n",
    "    mlflow.log_metric(\"Test Score\", test_score)\r\n",
    "    mlflow.log_metrics(test_metrics)"
   ],
   "outputs": [],
   "metadata": {}
  },
  {
   "cell_type": "markdown",
   "source": [
    "# Prediciton Interval"
   ],
   "metadata": {}
  },
  {
   "cell_type": "code",
   "execution_count": 15,
   "source": [
    "# from sklearn.ensemble import GradientBoostingRegressor\r\n",
    "# # Set lower and upper quantile\r\n",
    "# LOWER_ALPHA = 0.1\r\n",
    "# UPPER_ALPHA = 0.9\r\n",
    "# # Each model has to be separate\r\n",
    "# lower_model = GradientBoostingRegressor(loss=\"quantile\",\r\n",
    "#                                         alpha=LOWER_ALPHA)\r\n",
    "# # The mid model will use the default loss\r\n",
    "# mid_model = GradientBoostingRegressor(loss=\"ls\")\r\n",
    "# upper_model = GradientBoostingRegressor(loss=\"quantile\",\r\n",
    "#                                         alpha=UPPER_ALPHA)\r\n"
   ],
   "outputs": [],
   "metadata": {}
  },
  {
   "cell_type": "code",
   "execution_count": 17,
   "source": [
    "# # Fit models\r\n",
    "# lower_model.fit(x_train, y_train)\r\n",
    "# mid_model.fit(x_train, y_train)\r\n",
    "# upper_model.fit(x_train, y_train)"
   ],
   "outputs": [],
   "metadata": {}
  },
  {
   "cell_type": "code",
   "execution_count": 19,
   "source": [
    "# # Record actual values on test set\r\n",
    "# predictions = pd.DataFrame(best_model.predict(x_test),columns=['model'])\r\n",
    "# # Predict\r\n",
    "# predictions['lower'] = lower_model.predict(x_test)\r\n",
    "# predictions['mid'] = mid_model.predict(x_test)\r\n",
    "# predictions['upper'] = upper_model.predict(x_test)\r\n"
   ],
   "outputs": [],
   "metadata": {}
  },
  {
   "cell_type": "code",
   "execution_count": 29,
   "source": [
    "# plt.figure(figsize=(20,10))\r\n",
    "# a = predictions['lower']\r\n",
    "# y = predictions.index\r\n",
    "# plt.plot(y, a)\r\n",
    "# plt.plot(predictions['model'], predicitons.index)\r\n",
    "# plt.plot(predictions['upper'], predicitons.index)\r\n"
   ],
   "outputs": [],
   "metadata": {}
  },
  {
   "cell_type": "code",
   "execution_count": null,
   "source": [
    "energy_data = go.Scatter(x=energy_series.index,\r\n",
    "                         y=energy_series.values)\r\n",
    "layout = go.Layout(title='Energy Plot', xaxis=dict(title='Date'),\r\n",
    "                   yaxis=dict(title='(kWh)'))\r\n",
    "fig = go.Figure(data=[energy_data], layout=layout)\r\n",
    "py.iplot(fig, sharing='public')\r\n",
    "\r\n",
    "\r\n",
    "# Get the steam data\r\n",
    "steam_series = df.loc[:, (\"Steam\", \"4\")]\r\n",
    "# Create the steam data object\r\n",
    "steam_data = go.Scatter(x=steam_series.index,\r\n",
    "                        y=steam_series.values,\r\n",
    "                        # Specify axis\r\n",
    "                        yaxis='y2')\r\n",
    "\r\n",
    "layout = go.Layout(height=600, width=800,\r\n",
    "                   title='Energy and Steam Plot',\r\n",
    "                   # Same x and first y\r\n",
    "                   xaxis=dict(title='Date'),\r\n",
    "                   yaxis=dict(title='Energy', color='red'),\r\n",
    "                   # Add a second yaxis to the right of the plot\r\n",
    "                   yaxis2=dict(title='Steam', color='blue',\r\n",
    "                               overlaying='y', side='right')\r\n",
    "                   )\r\n",
    "fig = go.Figure(data=[energy_data, steam_data], layout=layout)\r\n",
    "py.iplot(fig, sharing='public')\r\n"
   ],
   "outputs": [],
   "metadata": {}
  }
 ],
 "metadata": {
  "orig_nbformat": 4,
  "language_info": {
   "name": "python",
   "version": "3.8.4",
   "mimetype": "text/x-python",
   "codemirror_mode": {
    "name": "ipython",
    "version": 3
   },
   "pygments_lexer": "ipython3",
   "nbconvert_exporter": "python",
   "file_extension": ".py"
  },
  "kernelspec": {
   "name": "python3",
   "display_name": "Python 3.8.4 64-bit"
  },
  "interpreter": {
   "hash": "2db524e06e9f5f4ffedc911c917cb75e12dbc923643829bf417064a77eb14d37"
  }
 },
 "nbformat": 4,
 "nbformat_minor": 2
}