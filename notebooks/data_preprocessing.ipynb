{
 "cells": [
  {
   "cell_type": "markdown",
   "source": [
    "# Data Preprocessing"
   ],
   "metadata": {}
  },
  {
   "cell_type": "markdown",
   "source": [
    "## Importing Libraries"
   ],
   "metadata": {}
  },
  {
   "cell_type": "code",
   "execution_count": 1,
   "source": [
    "#importing Libraries\r\n",
    "import pandas as pd\r\n",
    "import os\r\n",
    "import sys\r\n",
    "\r\n",
    "#import local libraries\r\n",
    "#Adding scripts path\r\n",
    "sys.path.append(os.path.abspath(os.path.join('..')))\r\n",
    "#importing dvc_data_loader script\r\n",
    "# from scripts.dvc_data_loader import *\r\n",
    "from scripts.data_information import DataInfo\r\n",
    "from scripts.data_loader import load_df_from_csv\r\n",
    "from scripts.data_manipulation import DataManipulator\r\n",
    "from scripts.data_cleaner import DataCleaner\r\n",
    "from scripts.utlity_functions import convert_to_month_name\r\n",
    "from scripts.grapher import *\r\n",
    "from scripts.dvc_data_loader import get_dvc_data\r\n",
    "from sklearn import preprocessing"
   ],
   "outputs": [],
   "metadata": {}
  },
  {
   "cell_type": "code",
   "execution_count": 2,
   "source": [
    "pd.set_option('max_column', None)\r\n"
   ],
   "outputs": [],
   "metadata": {}
  },
  {
   "cell_type": "markdown",
   "source": [
    "## Loading Data"
   ],
   "metadata": {}
  },
  {
   "cell_type": "code",
   "execution_count": 3,
   "source": [
    "combined_df = load_df_from_csv('../data/train.csv')\r\n",
    "combined_df.info()"
   ],
   "outputs": [
    {
     "output_type": "stream",
     "name": "stdout",
     "text": [
      "<class 'pandas.core.frame.DataFrame'>\n",
      "RangeIndex: 1017209 entries, 0 to 1017208\n",
      "Data columns (total 22 columns):\n",
      " #   Column                     Non-Null Count    Dtype  \n",
      "---  ------                     --------------    -----  \n",
      " 0   Unnamed: 0                 1017209 non-null  uint32 \n",
      " 1   Store                      1017209 non-null  uint16 \n",
      " 2   DayOfWeek                  1017209 non-null  uint8  \n",
      " 3   Date                       1017209 non-null  object \n",
      " 4   Year                       1017209 non-null  uint16 \n",
      " 5   Month                      1017209 non-null  uint8  \n",
      " 6   Day                        1017209 non-null  uint8  \n",
      " 7   Sales                      1017209 non-null  uint16 \n",
      " 8   Customers                  1017209 non-null  uint16 \n",
      " 9   Open                       1017209 non-null  uint8  \n",
      " 10  Promo                      1017209 non-null  uint8  \n",
      " 11  StateHoliday               1017209 non-null  object \n",
      " 12  SchoolHoliday              1017209 non-null  uint8  \n",
      " 13  StoreType                  1017209 non-null  object \n",
      " 14  Assortment                 1017209 non-null  object \n",
      " 15  CompetitionDistance        1014567 non-null  float32\n",
      " 16  CompetitionOpenSinceMonth  693861 non-null   float32\n",
      " 17  CompetitionOpenSinceYear   693861 non-null   float32\n",
      " 18  Promo2                     1017209 non-null  uint8  \n",
      " 19  Promo2SinceWeek            509178 non-null   float32\n",
      " 20  Promo2SinceYear            509178 non-null   float32\n",
      " 21  PromoInterval              509178 non-null   object \n",
      "dtypes: float32(5), object(5), uint16(4), uint32(1), uint8(7)\n",
      "memory usage: 76.6+ MB\n"
     ]
    }
   ],
   "metadata": {}
  },
  {
   "cell_type": "code",
   "execution_count": 4,
   "source": [
    "combined_df.head(5)"
   ],
   "outputs": [
    {
     "output_type": "execute_result",
     "data": {
      "text/plain": [
       "   Unnamed: 0  Store  DayOfWeek        Date  Year  Month  Day  Sales  \\\n",
       "0           0      1          5  2015-07-31  2015      7   31   5263   \n",
       "1           1      1          4  2015-07-30  2015      7   30   5020   \n",
       "2           2      1          3  2015-07-29  2015      7   29   4782   \n",
       "3           3      1          2  2015-07-28  2015      7   28   5011   \n",
       "4           4      1          1  2015-07-27  2015      7   27   6102   \n",
       "\n",
       "   Customers  Open  Promo StateHoliday  SchoolHoliday StoreType Assortment  \\\n",
       "0        555     1      1            0              1         c          a   \n",
       "1        546     1      1            0              1         c          a   \n",
       "2        523     1      1            0              1         c          a   \n",
       "3        560     1      1            0              1         c          a   \n",
       "4        612     1      1            0              1         c          a   \n",
       "\n",
       "   CompetitionDistance  CompetitionOpenSinceMonth  CompetitionOpenSinceYear  \\\n",
       "0               1270.0                        9.0                    2008.0   \n",
       "1               1270.0                        9.0                    2008.0   \n",
       "2               1270.0                        9.0                    2008.0   \n",
       "3               1270.0                        9.0                    2008.0   \n",
       "4               1270.0                        9.0                    2008.0   \n",
       "\n",
       "   Promo2  Promo2SinceWeek  Promo2SinceYear PromoInterval  \n",
       "0       0              NaN              NaN           NaN  \n",
       "1       0              NaN              NaN           NaN  \n",
       "2       0              NaN              NaN           NaN  \n",
       "3       0              NaN              NaN           NaN  \n",
       "4       0              NaN              NaN           NaN  "
      ],
      "text/html": [
       "<div>\n",
       "<style scoped>\n",
       "    .dataframe tbody tr th:only-of-type {\n",
       "        vertical-align: middle;\n",
       "    }\n",
       "\n",
       "    .dataframe tbody tr th {\n",
       "        vertical-align: top;\n",
       "    }\n",
       "\n",
       "    .dataframe thead th {\n",
       "        text-align: right;\n",
       "    }\n",
       "</style>\n",
       "<table border=\"1\" class=\"dataframe\">\n",
       "  <thead>\n",
       "    <tr style=\"text-align: right;\">\n",
       "      <th></th>\n",
       "      <th>Unnamed: 0</th>\n",
       "      <th>Store</th>\n",
       "      <th>DayOfWeek</th>\n",
       "      <th>Date</th>\n",
       "      <th>Year</th>\n",
       "      <th>Month</th>\n",
       "      <th>Day</th>\n",
       "      <th>Sales</th>\n",
       "      <th>Customers</th>\n",
       "      <th>Open</th>\n",
       "      <th>Promo</th>\n",
       "      <th>StateHoliday</th>\n",
       "      <th>SchoolHoliday</th>\n",
       "      <th>StoreType</th>\n",
       "      <th>Assortment</th>\n",
       "      <th>CompetitionDistance</th>\n",
       "      <th>CompetitionOpenSinceMonth</th>\n",
       "      <th>CompetitionOpenSinceYear</th>\n",
       "      <th>Promo2</th>\n",
       "      <th>Promo2SinceWeek</th>\n",
       "      <th>Promo2SinceYear</th>\n",
       "      <th>PromoInterval</th>\n",
       "    </tr>\n",
       "  </thead>\n",
       "  <tbody>\n",
       "    <tr>\n",
       "      <th>0</th>\n",
       "      <td>0</td>\n",
       "      <td>1</td>\n",
       "      <td>5</td>\n",
       "      <td>2015-07-31</td>\n",
       "      <td>2015</td>\n",
       "      <td>7</td>\n",
       "      <td>31</td>\n",
       "      <td>5263</td>\n",
       "      <td>555</td>\n",
       "      <td>1</td>\n",
       "      <td>1</td>\n",
       "      <td>0</td>\n",
       "      <td>1</td>\n",
       "      <td>c</td>\n",
       "      <td>a</td>\n",
       "      <td>1270.0</td>\n",
       "      <td>9.0</td>\n",
       "      <td>2008.0</td>\n",
       "      <td>0</td>\n",
       "      <td>NaN</td>\n",
       "      <td>NaN</td>\n",
       "      <td>NaN</td>\n",
       "    </tr>\n",
       "    <tr>\n",
       "      <th>1</th>\n",
       "      <td>1</td>\n",
       "      <td>1</td>\n",
       "      <td>4</td>\n",
       "      <td>2015-07-30</td>\n",
       "      <td>2015</td>\n",
       "      <td>7</td>\n",
       "      <td>30</td>\n",
       "      <td>5020</td>\n",
       "      <td>546</td>\n",
       "      <td>1</td>\n",
       "      <td>1</td>\n",
       "      <td>0</td>\n",
       "      <td>1</td>\n",
       "      <td>c</td>\n",
       "      <td>a</td>\n",
       "      <td>1270.0</td>\n",
       "      <td>9.0</td>\n",
       "      <td>2008.0</td>\n",
       "      <td>0</td>\n",
       "      <td>NaN</td>\n",
       "      <td>NaN</td>\n",
       "      <td>NaN</td>\n",
       "    </tr>\n",
       "    <tr>\n",
       "      <th>2</th>\n",
       "      <td>2</td>\n",
       "      <td>1</td>\n",
       "      <td>3</td>\n",
       "      <td>2015-07-29</td>\n",
       "      <td>2015</td>\n",
       "      <td>7</td>\n",
       "      <td>29</td>\n",
       "      <td>4782</td>\n",
       "      <td>523</td>\n",
       "      <td>1</td>\n",
       "      <td>1</td>\n",
       "      <td>0</td>\n",
       "      <td>1</td>\n",
       "      <td>c</td>\n",
       "      <td>a</td>\n",
       "      <td>1270.0</td>\n",
       "      <td>9.0</td>\n",
       "      <td>2008.0</td>\n",
       "      <td>0</td>\n",
       "      <td>NaN</td>\n",
       "      <td>NaN</td>\n",
       "      <td>NaN</td>\n",
       "    </tr>\n",
       "    <tr>\n",
       "      <th>3</th>\n",
       "      <td>3</td>\n",
       "      <td>1</td>\n",
       "      <td>2</td>\n",
       "      <td>2015-07-28</td>\n",
       "      <td>2015</td>\n",
       "      <td>7</td>\n",
       "      <td>28</td>\n",
       "      <td>5011</td>\n",
       "      <td>560</td>\n",
       "      <td>1</td>\n",
       "      <td>1</td>\n",
       "      <td>0</td>\n",
       "      <td>1</td>\n",
       "      <td>c</td>\n",
       "      <td>a</td>\n",
       "      <td>1270.0</td>\n",
       "      <td>9.0</td>\n",
       "      <td>2008.0</td>\n",
       "      <td>0</td>\n",
       "      <td>NaN</td>\n",
       "      <td>NaN</td>\n",
       "      <td>NaN</td>\n",
       "    </tr>\n",
       "    <tr>\n",
       "      <th>4</th>\n",
       "      <td>4</td>\n",
       "      <td>1</td>\n",
       "      <td>1</td>\n",
       "      <td>2015-07-27</td>\n",
       "      <td>2015</td>\n",
       "      <td>7</td>\n",
       "      <td>27</td>\n",
       "      <td>6102</td>\n",
       "      <td>612</td>\n",
       "      <td>1</td>\n",
       "      <td>1</td>\n",
       "      <td>0</td>\n",
       "      <td>1</td>\n",
       "      <td>c</td>\n",
       "      <td>a</td>\n",
       "      <td>1270.0</td>\n",
       "      <td>9.0</td>\n",
       "      <td>2008.0</td>\n",
       "      <td>0</td>\n",
       "      <td>NaN</td>\n",
       "      <td>NaN</td>\n",
       "      <td>NaN</td>\n",
       "    </tr>\n",
       "  </tbody>\n",
       "</table>\n",
       "</div>"
      ]
     },
     "metadata": {},
     "execution_count": 4
    }
   ],
   "metadata": {}
  },
  {
   "cell_type": "code",
   "execution_count": 5,
   "source": [
    "combined_df.drop(['Unnamed: 0'], axis=1, inplace=True)"
   ],
   "outputs": [],
   "metadata": {}
  },
  {
   "cell_type": "markdown",
   "source": [
    "## Handling None and Empty Values"
   ],
   "metadata": {}
  },
  {
   "cell_type": "code",
   "execution_count": 6,
   "source": [
    "info = DataInfo(combined_df)\r\n",
    "info.get_column_based_missing_percentage()"
   ],
   "outputs": [
    {
     "output_type": "execute_result",
     "data": {
      "text/plain": [
       "                           total_missing_values missing_percentage\n",
       "Store                                         0              0.0 %\n",
       "DayOfWeek                                     0              0.0 %\n",
       "Date                                          0              0.0 %\n",
       "Year                                          0              0.0 %\n",
       "Month                                         0              0.0 %\n",
       "Day                                           0              0.0 %\n",
       "Sales                                         0              0.0 %\n",
       "Customers                                     0              0.0 %\n",
       "Open                                          0              0.0 %\n",
       "Promo                                         0              0.0 %\n",
       "StateHoliday                                  0              0.0 %\n",
       "SchoolHoliday                                 0              0.0 %\n",
       "StoreType                                     0              0.0 %\n",
       "Assortment                                    0              0.0 %\n",
       "CompetitionDistance                        2642             0.26 %\n",
       "CompetitionOpenSinceMonth                323348            31.79 %\n",
       "CompetitionOpenSinceYear                 323348            31.79 %\n",
       "Promo2                                        0              0.0 %\n",
       "Promo2SinceWeek                          508031            49.94 %\n",
       "Promo2SinceYear                          508031            49.94 %\n",
       "PromoInterval                            508031            49.94 %"
      ],
      "text/html": [
       "<div>\n",
       "<style scoped>\n",
       "    .dataframe tbody tr th:only-of-type {\n",
       "        vertical-align: middle;\n",
       "    }\n",
       "\n",
       "    .dataframe tbody tr th {\n",
       "        vertical-align: top;\n",
       "    }\n",
       "\n",
       "    .dataframe thead th {\n",
       "        text-align: right;\n",
       "    }\n",
       "</style>\n",
       "<table border=\"1\" class=\"dataframe\">\n",
       "  <thead>\n",
       "    <tr style=\"text-align: right;\">\n",
       "      <th></th>\n",
       "      <th>total_missing_values</th>\n",
       "      <th>missing_percentage</th>\n",
       "    </tr>\n",
       "  </thead>\n",
       "  <tbody>\n",
       "    <tr>\n",
       "      <th>Store</th>\n",
       "      <td>0</td>\n",
       "      <td>0.0 %</td>\n",
       "    </tr>\n",
       "    <tr>\n",
       "      <th>DayOfWeek</th>\n",
       "      <td>0</td>\n",
       "      <td>0.0 %</td>\n",
       "    </tr>\n",
       "    <tr>\n",
       "      <th>Date</th>\n",
       "      <td>0</td>\n",
       "      <td>0.0 %</td>\n",
       "    </tr>\n",
       "    <tr>\n",
       "      <th>Year</th>\n",
       "      <td>0</td>\n",
       "      <td>0.0 %</td>\n",
       "    </tr>\n",
       "    <tr>\n",
       "      <th>Month</th>\n",
       "      <td>0</td>\n",
       "      <td>0.0 %</td>\n",
       "    </tr>\n",
       "    <tr>\n",
       "      <th>Day</th>\n",
       "      <td>0</td>\n",
       "      <td>0.0 %</td>\n",
       "    </tr>\n",
       "    <tr>\n",
       "      <th>Sales</th>\n",
       "      <td>0</td>\n",
       "      <td>0.0 %</td>\n",
       "    </tr>\n",
       "    <tr>\n",
       "      <th>Customers</th>\n",
       "      <td>0</td>\n",
       "      <td>0.0 %</td>\n",
       "    </tr>\n",
       "    <tr>\n",
       "      <th>Open</th>\n",
       "      <td>0</td>\n",
       "      <td>0.0 %</td>\n",
       "    </tr>\n",
       "    <tr>\n",
       "      <th>Promo</th>\n",
       "      <td>0</td>\n",
       "      <td>0.0 %</td>\n",
       "    </tr>\n",
       "    <tr>\n",
       "      <th>StateHoliday</th>\n",
       "      <td>0</td>\n",
       "      <td>0.0 %</td>\n",
       "    </tr>\n",
       "    <tr>\n",
       "      <th>SchoolHoliday</th>\n",
       "      <td>0</td>\n",
       "      <td>0.0 %</td>\n",
       "    </tr>\n",
       "    <tr>\n",
       "      <th>StoreType</th>\n",
       "      <td>0</td>\n",
       "      <td>0.0 %</td>\n",
       "    </tr>\n",
       "    <tr>\n",
       "      <th>Assortment</th>\n",
       "      <td>0</td>\n",
       "      <td>0.0 %</td>\n",
       "    </tr>\n",
       "    <tr>\n",
       "      <th>CompetitionDistance</th>\n",
       "      <td>2642</td>\n",
       "      <td>0.26 %</td>\n",
       "    </tr>\n",
       "    <tr>\n",
       "      <th>CompetitionOpenSinceMonth</th>\n",
       "      <td>323348</td>\n",
       "      <td>31.79 %</td>\n",
       "    </tr>\n",
       "    <tr>\n",
       "      <th>CompetitionOpenSinceYear</th>\n",
       "      <td>323348</td>\n",
       "      <td>31.79 %</td>\n",
       "    </tr>\n",
       "    <tr>\n",
       "      <th>Promo2</th>\n",
       "      <td>0</td>\n",
       "      <td>0.0 %</td>\n",
       "    </tr>\n",
       "    <tr>\n",
       "      <th>Promo2SinceWeek</th>\n",
       "      <td>508031</td>\n",
       "      <td>49.94 %</td>\n",
       "    </tr>\n",
       "    <tr>\n",
       "      <th>Promo2SinceYear</th>\n",
       "      <td>508031</td>\n",
       "      <td>49.94 %</td>\n",
       "    </tr>\n",
       "    <tr>\n",
       "      <th>PromoInterval</th>\n",
       "      <td>508031</td>\n",
       "      <td>49.94 %</td>\n",
       "    </tr>\n",
       "  </tbody>\n",
       "</table>\n",
       "</div>"
      ]
     },
     "metadata": {},
     "execution_count": 6
    }
   ],
   "metadata": {}
  },
  {
   "cell_type": "code",
   "execution_count": 7,
   "source": [
    "combined_df['Promo2SinceWeek'] = combined_df['Promo2SinceWeek'].fillna(\r\n",
    "    combined_df['Promo2SinceWeek'].max())\r\n",
    "combined_df['Promo2SinceYear'] = combined_df['Promo2SinceYear'].fillna(\r\n",
    "    combined_df['Promo2SinceYear'].max())\r\n",
    "combined_df['CompetitionDistance'] = combined_df['CompetitionDistance'].fillna(\r\n",
    "    combined_df['CompetitionDistance'].max())\r\n",
    "\r\n",
    "combined_df['PromoInterval'] = combined_df['PromoInterval'].fillna(\r\n",
    "    combined_df['PromoInterval'].mode().iloc[0])\r\n",
    "combined_df['CompetitionOpenSinceMonth'] = combined_df['CompetitionOpenSinceMonth'].fillna(\r\n",
    "    combined_df['CompetitionOpenSinceMonth'].mode().iloc[0])\r\n",
    "combined_df['CompetitionOpenSinceYear'] = combined_df['CompetitionOpenSinceYear'].fillna(\r\n",
    "    combined_df['CompetitionOpenSinceYear'].mode().iloc[0])"
   ],
   "outputs": [],
   "metadata": {}
  },
  {
   "cell_type": "code",
   "execution_count": 8,
   "source": [
    "info.get_columns_with_missing_values()"
   ],
   "outputs": [
    {
     "output_type": "execute_result",
     "data": {
      "text/plain": [
       "[]"
      ]
     },
     "metadata": {},
     "execution_count": 8
    }
   ],
   "metadata": {}
  },
  {
   "cell_type": "markdown",
   "source": [
    "## Adding Additional Extracted Data"
   ],
   "metadata": {}
  },
  {
   "cell_type": "markdown",
   "source": [
    "### WeekDays"
   ],
   "metadata": {}
  },
  {
   "cell_type": "code",
   "execution_count": 9,
   "source": [
    "def add_week_day(dataframe:pd.DataFrame, day_of_week_col:str) -> pd.DataFrame:\r\n",
    "    date_index = dataframe.columns.get_loc(day_of_week_col)\r\n",
    "    dataframe = dataframe.copy(deep=True)\r\n",
    "    dataframe.insert(date_index + 1, 'WeekDay', dataframe[day_of_week_col].apply(lambda x: 1 if x <= 5 else 0))\r\n",
    "    \r\n",
    "    return dataframe"
   ],
   "outputs": [],
   "metadata": {}
  },
  {
   "cell_type": "code",
   "execution_count": 10,
   "source": [
    "combined_df = add_week_day(combined_df, 'DayOfWeek')"
   ],
   "outputs": [],
   "metadata": {}
  },
  {
   "cell_type": "markdown",
   "source": [
    "### WeekEnds\r\n"
   ],
   "metadata": {}
  },
  {
   "cell_type": "markdown",
   "source": [
    "> Doesnt Add additional information"
   ],
   "metadata": {}
  },
  {
   "cell_type": "code",
   "execution_count": 11,
   "source": [
    "# def add_week_ends(dataframe: pd.DataFrame, day_of_week_col: str) -> pd.DataFrame:\r\n",
    "#     date_index = dataframe.columns.get_loc(day_of_week_col)\r\n",
    "#     dataframe = dataframe.copy(deep=True)\r\n",
    "#     dataframe.insert(date_index + 1, 'WeekEnd',\r\n",
    "#                      dataframe[day_of_week_col].apply(lambda x: 1 if x > 5 else 0))\r\n",
    "\r\n",
    "#     return dataframe"
   ],
   "outputs": [],
   "metadata": {}
  },
  {
   "cell_type": "code",
   "execution_count": 12,
   "source": [
    "# combined_df = add_week_(combined_df, 'DayOfWeek')\r\n"
   ],
   "outputs": [],
   "metadata": {}
  },
  {
   "cell_type": "markdown",
   "source": [
    "### Number of days to Holidays\r\n"
   ],
   "metadata": {}
  },
  {
   "cell_type": "code",
   "execution_count": 13,
   "source": [
    "# Considering christmas lasts for 12 days, Easter for 50 days and public holidays for 1 day.\r\n",
    "# And considering before and after periods to be 5 less and 5 more days before and after the holiday for christmas\r\n",
    "# and 10 days for Easter\r\n",
    "# And 3 days for public holiday\r\n",
    "# get state holiday list\r\n",
    "#a = public holiday, b = Easter holiday, c = Christmas, 0 = None\r\n",
    "def affect_list(change_list, interval, duration, index):\r\n",
    "    start_pt = int(index-duration/2) - interval\r\n",
    "    try:\r\n",
    "        for index in range(start_pt, start_pt + interval):\r\n",
    "            change_list[index] = 'before'\r\n",
    "        for index in range(start_pt + interval, start_pt + interval + duration):\r\n",
    "            change_list[index] = 'during'\r\n",
    "        for index in range(start_pt + interval + duration, start_pt + interval + duration + interval):\r\n",
    "            change_list[index] = 'after'\r\n",
    "    except:\r\n",
    "        pass\r\n",
    "\r\n",
    "    return change_list\r\n",
    "\r\n",
    "# state_holiday_list = train_df['StateHoliday'].values.tolist()\r\n",
    "\r\n",
    "def modify_holiday_list(holiday_list:list) -> list:\r\n",
    "    new_index = [\"neither\"] * len(holiday_list)\r\n",
    "    for index , value in enumerate(holiday_list):\r\n",
    "        if value == 'a': #public holiday\r\n",
    "            affect_list(new_index, 3, 1, index)\r\n",
    "        elif value == 'b': #Easter\r\n",
    "            affect_list(new_index, 10, 50, index)\r\n",
    "        elif value == 'c': # christmas\r\n",
    "            affect_list(new_index, 5, 12, index)\r\n",
    "        else:\r\n",
    "            pass\r\n",
    "\r\n",
    "    return new_index\r\n",
    "\r\n",
    "def add_number_of_days_to_holiday(dataframe:pd.DataFrame, state_holiday_col:str):\r\n",
    "    date_index = dataframe.columns.get_loc(state_holiday_col)\r\n",
    "    dataframe = dataframe.copy(deep=True)\r\n",
    "\r\n",
    "    modified_index = modify_holiday_list(dataframe[state_holiday_col].values.tolist())\r\n",
    "    days_to_holiday_index = []\r\n",
    "    i = 0\r\n",
    "    last_holiday_index = 0\r\n",
    "    for index, value in enumerate(modified_index):\r\n",
    "        if(index == len(modified_index) - 1):\r\n",
    "            for j in range(last_holiday_index+1,len(modified_index)):\r\n",
    "                days_to_holiday_index.append(0)\r\n",
    "        elif(value == 'neither' or value == 'after' or value == 'before'):\r\n",
    "            i += 1\r\n",
    "        elif(value == 'during' and i != 0):\r\n",
    "            last_holiday_index = index\r\n",
    "            for j in range(i):\r\n",
    "                days_to_holiday_index.append(i)\r\n",
    "                i = i-1\r\n",
    "            days_to_holiday_index.append(0)\r\n",
    "            i = 0\r\n",
    "        elif(value == 'during' and i == 0):\r\n",
    "            days_to_holiday_index.append(i)\r\n",
    "            last_holiday_index = index\r\n",
    "            continue\r\n",
    "\r\n",
    "    dataframe.insert(date_index + 1, 'DaysToHoliday',\r\n",
    "                     days_to_holiday_index)\r\n",
    "\r\n",
    "    return dataframe"
   ],
   "outputs": [],
   "metadata": {}
  },
  {
   "cell_type": "code",
   "execution_count": 14,
   "source": [
    "combined_df = add_number_of_days_to_holiday(combined_df, 'StateHoliday')\r\n"
   ],
   "outputs": [],
   "metadata": {}
  },
  {
   "cell_type": "markdown",
   "source": [
    "### Number of days after Holiday\r\n"
   ],
   "metadata": {}
  },
  {
   "cell_type": "code",
   "execution_count": 15,
   "source": [
    "def add_number_of_days_after_holiday(dataframe: pd.DataFrame, state_holiday_col: str):\r\n",
    "    date_index = dataframe.columns.get_loc(state_holiday_col)\r\n",
    "    dataframe = dataframe.copy(deep=True)\r\n",
    "\r\n",
    "    modified_index = modify_holiday_list(\r\n",
    "        dataframe[state_holiday_col].values.tolist())\r\n",
    "\r\n",
    "    days_to_after_holiday_index = [0] * len(modified_index)\r\n",
    "    i = 0\r\n",
    "    last_holiday_index = modified_index.index('during')\r\n",
    "\r\n",
    "    for index, value in enumerate(modified_index):\r\n",
    "        if(value == 'before'):\r\n",
    "            if(index > last_holiday_index):\r\n",
    "                i += 1\r\n",
    "                days_to_after_holiday_index[index] = i\r\n",
    "            continue\r\n",
    "        elif(value == 'after'):\r\n",
    "            i += 1\r\n",
    "            days_to_after_holiday_index[index] = i\r\n",
    "        elif(value == 'during'):\r\n",
    "            last_holiday_index = index\r\n",
    "            i = 0\r\n",
    "            continue\r\n",
    "\r\n",
    "    days_to_after_holiday_index.insert(0,0)\r\n",
    "\r\n",
    "    dataframe.insert(date_index + 1, 'DaysAfterHoliday',\r\n",
    "                     days_to_after_holiday_index[:-1])\r\n",
    "\r\n",
    "    return dataframe\r\n"
   ],
   "outputs": [],
   "metadata": {}
  },
  {
   "cell_type": "code",
   "execution_count": 16,
   "source": [
    "combined_df = add_number_of_days_after_holiday(combined_df, 'StateHoliday')\r\n"
   ],
   "outputs": [],
   "metadata": {}
  },
  {
   "cell_type": "markdown",
   "source": [
    "### Beginning of month, mid month and ending of month\r\n"
   ],
   "metadata": {}
  },
  {
   "cell_type": "code",
   "execution_count": 17,
   "source": [
    "def return_day_status_in_month(day:int) -> int:\r\n",
    "    ## conside 1 is beginning of month, 2 is middle of the month and 3 is end of the month \r\n",
    "    if(day <= 10):\r\n",
    "        return 1\r\n",
    "    elif(day > 10 and day <= 20):\r\n",
    "        return 2\r\n",
    "    else:\r\n",
    "        return 3\r\n",
    "\r\n",
    "\r\n",
    "def add_month_timing(dataframe: pd.DataFrame, day_col: str) -> pd.DataFrame:\r\n",
    "    date_index = dataframe.columns.get_loc(day_col)\r\n",
    "    dataframe = dataframe.copy(deep=True)\r\n",
    "    dataframe.insert(date_index + 1, 'MonthTiming', dataframe[day_col].apply(return_day_status_in_month))\r\n",
    "\r\n",
    "    return dataframe"
   ],
   "outputs": [],
   "metadata": {}
  },
  {
   "cell_type": "code",
   "execution_count": 18,
   "source": [
    "combined_df = add_month_timing(combined_df, 'Day')\r\n"
   ],
   "outputs": [],
   "metadata": {}
  },
  {
   "cell_type": "markdown",
   "source": [
    "### More Features"
   ],
   "metadata": {}
  },
  {
   "cell_type": "markdown",
   "source": [
    "### Season (Winter, April, ...)"
   ],
   "metadata": {}
  },
  {
   "cell_type": "code",
   "execution_count": 19,
   "source": [
    "def get_season(month: int):\r\n",
    "            if(month <= 2 or month == 12):\r\n",
    "                return 'Winter'\r\n",
    "            elif(month > 2 and month <= 5):\r\n",
    "                return 'Spring'\r\n",
    "            elif(month > 5 and month <= 8):\r\n",
    "                return 'Summer'\r\n",
    "            else:\r\n",
    "                return 'Autumn'\r\n",
    "\r\n",
    "\r\n",
    "def add_season(dataframe: pd.DataFrame, month_col: str) -> pd.DataFrame:\r\n",
    "    date_index = dataframe.columns.get_loc(month_col)\r\n",
    "    dataframe = dataframe.copy(deep=True)\r\n",
    "    dataframe.insert(date_index + 1, 'Season',\r\n",
    "                     dataframe[month_col].apply(get_season))\r\n",
    "\r\n",
    "    return dataframe"
   ],
   "outputs": [],
   "metadata": {}
  },
  {
   "cell_type": "code",
   "execution_count": 20,
   "source": [
    "combined_df = add_season(combined_df, 'Month')\r\n"
   ],
   "outputs": [],
   "metadata": {}
  },
  {
   "cell_type": "code",
   "execution_count": 21,
   "source": [
    "## Added dataframe status\r\n",
    "combined_df.info()"
   ],
   "outputs": [
    {
     "output_type": "stream",
     "name": "stdout",
     "text": [
      "<class 'pandas.core.frame.DataFrame'>\n",
      "RangeIndex: 1017209 entries, 0 to 1017208\n",
      "Data columns (total 26 columns):\n",
      " #   Column                     Non-Null Count    Dtype  \n",
      "---  ------                     --------------    -----  \n",
      " 0   Store                      1017209 non-null  uint16 \n",
      " 1   DayOfWeek                  1017209 non-null  uint8  \n",
      " 2   WeekDay                    1017209 non-null  int64  \n",
      " 3   Date                       1017209 non-null  object \n",
      " 4   Year                       1017209 non-null  uint16 \n",
      " 5   Month                      1017209 non-null  uint8  \n",
      " 6   Season                     1017209 non-null  object \n",
      " 7   Day                        1017209 non-null  uint8  \n",
      " 8   MonthTiming                1017209 non-null  int64  \n",
      " 9   Sales                      1017209 non-null  uint16 \n",
      " 10  Customers                  1017209 non-null  uint16 \n",
      " 11  Open                       1017209 non-null  uint8  \n",
      " 12  Promo                      1017209 non-null  uint8  \n",
      " 13  StateHoliday               1017209 non-null  object \n",
      " 14  DaysAfterHoliday           1017209 non-null  int64  \n",
      " 15  DaysToHoliday              1017209 non-null  int64  \n",
      " 16  SchoolHoliday              1017209 non-null  uint8  \n",
      " 17  StoreType                  1017209 non-null  object \n",
      " 18  Assortment                 1017209 non-null  object \n",
      " 19  CompetitionDistance        1017209 non-null  float32\n",
      " 20  CompetitionOpenSinceMonth  1017209 non-null  float32\n",
      " 21  CompetitionOpenSinceYear   1017209 non-null  float32\n",
      " 22  Promo2                     1017209 non-null  uint8  \n",
      " 23  Promo2SinceWeek            1017209 non-null  float32\n",
      " 24  Promo2SinceYear            1017209 non-null  float32\n",
      " 25  PromoInterval              1017209 non-null  object \n",
      "dtypes: float32(5), int64(4), object(6), uint16(4), uint8(7)\n",
      "memory usage: 111.6+ MB\n"
     ]
    }
   ],
   "metadata": {}
  },
  {
   "cell_type": "markdown",
   "source": [
    "## Drop Columns"
   ],
   "metadata": {}
  },
  {
   "cell_type": "code",
   "execution_count": 22,
   "source": [
    "# Store\tDate\tCustomers\r\n",
    "combined_df.drop(['Store','Date','Customers'],axis=1,inplace=True)"
   ],
   "outputs": [],
   "metadata": {}
  },
  {
   "cell_type": "code",
   "execution_count": 23,
   "source": [
    "## Dropped dataframe status\r\n",
    "combined_df.info()\r\n"
   ],
   "outputs": [
    {
     "output_type": "stream",
     "name": "stdout",
     "text": [
      "<class 'pandas.core.frame.DataFrame'>\n",
      "RangeIndex: 1017209 entries, 0 to 1017208\n",
      "Data columns (total 23 columns):\n",
      " #   Column                     Non-Null Count    Dtype  \n",
      "---  ------                     --------------    -----  \n",
      " 0   DayOfWeek                  1017209 non-null  uint8  \n",
      " 1   WeekDay                    1017209 non-null  int64  \n",
      " 2   Year                       1017209 non-null  uint16 \n",
      " 3   Month                      1017209 non-null  uint8  \n",
      " 4   Season                     1017209 non-null  object \n",
      " 5   Day                        1017209 non-null  uint8  \n",
      " 6   MonthTiming                1017209 non-null  int64  \n",
      " 7   Sales                      1017209 non-null  uint16 \n",
      " 8   Open                       1017209 non-null  uint8  \n",
      " 9   Promo                      1017209 non-null  uint8  \n",
      " 10  StateHoliday               1017209 non-null  object \n",
      " 11  DaysAfterHoliday           1017209 non-null  int64  \n",
      " 12  DaysToHoliday              1017209 non-null  int64  \n",
      " 13  SchoolHoliday              1017209 non-null  uint8  \n",
      " 14  StoreType                  1017209 non-null  object \n",
      " 15  Assortment                 1017209 non-null  object \n",
      " 16  CompetitionDistance        1017209 non-null  float32\n",
      " 17  CompetitionOpenSinceMonth  1017209 non-null  float32\n",
      " 18  CompetitionOpenSinceYear   1017209 non-null  float32\n",
      " 19  Promo2                     1017209 non-null  uint8  \n",
      " 20  Promo2SinceWeek            1017209 non-null  float32\n",
      " 21  Promo2SinceYear            1017209 non-null  float32\n",
      " 22  PromoInterval              1017209 non-null  object \n",
      "dtypes: float32(5), int64(4), object(5), uint16(2), uint8(7)\n",
      "memory usage: 99.9+ MB\n"
     ]
    }
   ],
   "metadata": {}
  },
  {
   "cell_type": "markdown",
   "source": [
    "## Encoding Data to Numbers"
   ],
   "metadata": {}
  },
  {
   "cell_type": "code",
   "execution_count": 24,
   "source": [
    "# StoreType\tAssortment StateHoliday Season\r\n",
    "le = preprocessing.LabelEncoder()\r\n",
    "season_le = le.fit(combined_df['Season'].values)\r\n",
    "combined_df['Season'] = season_le.transform(combined_df['Season'].values)\r\n",
    "\r\n",
    "stateholiday_le = le.fit(combined_df['StateHoliday'].values)\r\n",
    "combined_df['StateHoliday'] = stateholiday_le.transform(combined_df['StateHoliday'].values)\r\n",
    "\r\n",
    "storetype_le = le.fit(combined_df['StoreType'].values)\r\n",
    "combined_df['StoreType'] = storetype_le.transform(combined_df['StoreType'].values)\r\n",
    "\r\n",
    "assortment_le = le.fit(combined_df['Assortment'].values)\r\n",
    "combined_df['Assortment'] = assortment_le.transform(combined_df['Assortment'].values)\r\n"
   ],
   "outputs": [],
   "metadata": {}
  },
  {
   "cell_type": "code",
   "execution_count": 25,
   "source": [
    "combined_df['PromoInterval'].value_counts()"
   ],
   "outputs": [
    {
     "output_type": "execute_result",
     "data": {
      "text/plain": [
       "Jan,Apr,Jul,Oct     801153\n",
       "Feb,May,Aug,Nov     118596\n",
       "Mar,Jun,Sept,Dec     97460\n",
       "Name: PromoInterval, dtype: int64"
      ]
     },
     "metadata": {},
     "execution_count": 25
    }
   ],
   "metadata": {}
  },
  {
   "cell_type": "code",
   "execution_count": 26,
   "source": [
    "promointerval_le = le.fit(combined_df['PromoInterval'].values)\r\n",
    "combined_df['PromoInterval'] = promointerval_le.transform(combined_df['PromoInterval'].values)\r\n"
   ],
   "outputs": [],
   "metadata": {}
  },
  {
   "cell_type": "code",
   "execution_count": 27,
   "source": [
    "## Label Encoded dataframe status\r\n",
    "combined_df.info()"
   ],
   "outputs": [
    {
     "output_type": "stream",
     "name": "stdout",
     "text": [
      "<class 'pandas.core.frame.DataFrame'>\n",
      "RangeIndex: 1017209 entries, 0 to 1017208\n",
      "Data columns (total 23 columns):\n",
      " #   Column                     Non-Null Count    Dtype  \n",
      "---  ------                     --------------    -----  \n",
      " 0   DayOfWeek                  1017209 non-null  uint8  \n",
      " 1   WeekDay                    1017209 non-null  int64  \n",
      " 2   Year                       1017209 non-null  uint16 \n",
      " 3   Month                      1017209 non-null  uint8  \n",
      " 4   Season                     1017209 non-null  int32  \n",
      " 5   Day                        1017209 non-null  uint8  \n",
      " 6   MonthTiming                1017209 non-null  int64  \n",
      " 7   Sales                      1017209 non-null  uint16 \n",
      " 8   Open                       1017209 non-null  uint8  \n",
      " 9   Promo                      1017209 non-null  uint8  \n",
      " 10  StateHoliday               1017209 non-null  int32  \n",
      " 11  DaysAfterHoliday           1017209 non-null  int64  \n",
      " 12  DaysToHoliday              1017209 non-null  int64  \n",
      " 13  SchoolHoliday              1017209 non-null  uint8  \n",
      " 14  StoreType                  1017209 non-null  int32  \n",
      " 15  Assortment                 1017209 non-null  int32  \n",
      " 16  CompetitionDistance        1017209 non-null  float32\n",
      " 17  CompetitionOpenSinceMonth  1017209 non-null  float32\n",
      " 18  CompetitionOpenSinceYear   1017209 non-null  float32\n",
      " 19  Promo2                     1017209 non-null  uint8  \n",
      " 20  Promo2SinceWeek            1017209 non-null  float32\n",
      " 21  Promo2SinceYear            1017209 non-null  float32\n",
      " 22  PromoInterval              1017209 non-null  int32  \n",
      "dtypes: float32(5), int32(5), int64(4), uint16(2), uint8(7)\n",
      "memory usage: 80.5 MB\n"
     ]
    }
   ],
   "metadata": {}
  },
  {
   "cell_type": "markdown",
   "source": [
    "## Scaling Data"
   ],
   "metadata": {}
  },
  {
   "cell_type": "markdown",
   "source": [],
   "metadata": {}
  },
  {
   "cell_type": "code",
   "execution_count": 28,
   "source": [
    "# Using StandardScaler to standardize the all columns\r\n",
    "manipulator = DataManipulator(combined_df)\r\n",
    "manipulator.standardize_columns(combined_df.columns.to_list())\r\n",
    "info = DataInfo(manipulator.df)\r\n",
    "info.get_min_max_of_dataframe_columns()"
   ],
   "outputs": [
    {
     "output_type": "execute_result",
     "data": {
      "text/plain": [
       "                           Max Value  Min Value\n",
       "DayOfWeek                   1.502791  -1.501129\n",
       "WeekDay                     0.630672  -1.585611\n",
       "Year                        1.502077  -1.070616\n",
       "Month                       1.849989  -1.457193\n",
       "Season                      1.333709  -1.498283\n",
       "Day                         1.740766  -1.673123\n",
       "MonthTiming                 1.205894  -1.236292\n",
       "Sales                       9.292957  -1.499723\n",
       "Open                        0.452399  -2.210440\n",
       "Promo                       1.273237  -0.785400\n",
       "StateHoliday               10.416984  -0.159217\n",
       "DaysAfterHoliday            5.003878  -0.377936\n",
       "DaysToHoliday               3.523598  -0.954803\n",
       "SchoolHoliday               2.144211  -0.466372\n",
       "StoreType                   1.312850  -0.884348\n",
       "Assortment                  1.071502  -0.940975\n",
       "CompetitionDistance         8.265971  -0.658131\n",
       "CompetitionOpenSinceMonth   1.515868  -2.442742\n",
       "CompetitionOpenSinceYear    0.924924 -20.607616\n",
       "Promo2                      0.998873  -1.001128\n",
       "Promo2SinceWeek             0.802373  -2.135949\n",
       "Promo2SinceYear             0.810673  -2.181765\n",
       "PromoInterval               2.217151  -2.126889"
      ],
      "text/html": [
       "<div>\n",
       "<style scoped>\n",
       "    .dataframe tbody tr th:only-of-type {\n",
       "        vertical-align: middle;\n",
       "    }\n",
       "\n",
       "    .dataframe tbody tr th {\n",
       "        vertical-align: top;\n",
       "    }\n",
       "\n",
       "    .dataframe thead th {\n",
       "        text-align: right;\n",
       "    }\n",
       "</style>\n",
       "<table border=\"1\" class=\"dataframe\">\n",
       "  <thead>\n",
       "    <tr style=\"text-align: right;\">\n",
       "      <th></th>\n",
       "      <th>Max Value</th>\n",
       "      <th>Min Value</th>\n",
       "    </tr>\n",
       "  </thead>\n",
       "  <tbody>\n",
       "    <tr>\n",
       "      <th>DayOfWeek</th>\n",
       "      <td>1.502791</td>\n",
       "      <td>-1.501129</td>\n",
       "    </tr>\n",
       "    <tr>\n",
       "      <th>WeekDay</th>\n",
       "      <td>0.630672</td>\n",
       "      <td>-1.585611</td>\n",
       "    </tr>\n",
       "    <tr>\n",
       "      <th>Year</th>\n",
       "      <td>1.502077</td>\n",
       "      <td>-1.070616</td>\n",
       "    </tr>\n",
       "    <tr>\n",
       "      <th>Month</th>\n",
       "      <td>1.849989</td>\n",
       "      <td>-1.457193</td>\n",
       "    </tr>\n",
       "    <tr>\n",
       "      <th>Season</th>\n",
       "      <td>1.333709</td>\n",
       "      <td>-1.498283</td>\n",
       "    </tr>\n",
       "    <tr>\n",
       "      <th>Day</th>\n",
       "      <td>1.740766</td>\n",
       "      <td>-1.673123</td>\n",
       "    </tr>\n",
       "    <tr>\n",
       "      <th>MonthTiming</th>\n",
       "      <td>1.205894</td>\n",
       "      <td>-1.236292</td>\n",
       "    </tr>\n",
       "    <tr>\n",
       "      <th>Sales</th>\n",
       "      <td>9.292957</td>\n",
       "      <td>-1.499723</td>\n",
       "    </tr>\n",
       "    <tr>\n",
       "      <th>Open</th>\n",
       "      <td>0.452399</td>\n",
       "      <td>-2.210440</td>\n",
       "    </tr>\n",
       "    <tr>\n",
       "      <th>Promo</th>\n",
       "      <td>1.273237</td>\n",
       "      <td>-0.785400</td>\n",
       "    </tr>\n",
       "    <tr>\n",
       "      <th>StateHoliday</th>\n",
       "      <td>10.416984</td>\n",
       "      <td>-0.159217</td>\n",
       "    </tr>\n",
       "    <tr>\n",
       "      <th>DaysAfterHoliday</th>\n",
       "      <td>5.003878</td>\n",
       "      <td>-0.377936</td>\n",
       "    </tr>\n",
       "    <tr>\n",
       "      <th>DaysToHoliday</th>\n",
       "      <td>3.523598</td>\n",
       "      <td>-0.954803</td>\n",
       "    </tr>\n",
       "    <tr>\n",
       "      <th>SchoolHoliday</th>\n",
       "      <td>2.144211</td>\n",
       "      <td>-0.466372</td>\n",
       "    </tr>\n",
       "    <tr>\n",
       "      <th>StoreType</th>\n",
       "      <td>1.312850</td>\n",
       "      <td>-0.884348</td>\n",
       "    </tr>\n",
       "    <tr>\n",
       "      <th>Assortment</th>\n",
       "      <td>1.071502</td>\n",
       "      <td>-0.940975</td>\n",
       "    </tr>\n",
       "    <tr>\n",
       "      <th>CompetitionDistance</th>\n",
       "      <td>8.265971</td>\n",
       "      <td>-0.658131</td>\n",
       "    </tr>\n",
       "    <tr>\n",
       "      <th>CompetitionOpenSinceMonth</th>\n",
       "      <td>1.515868</td>\n",
       "      <td>-2.442742</td>\n",
       "    </tr>\n",
       "    <tr>\n",
       "      <th>CompetitionOpenSinceYear</th>\n",
       "      <td>0.924924</td>\n",
       "      <td>-20.607616</td>\n",
       "    </tr>\n",
       "    <tr>\n",
       "      <th>Promo2</th>\n",
       "      <td>0.998873</td>\n",
       "      <td>-1.001128</td>\n",
       "    </tr>\n",
       "    <tr>\n",
       "      <th>Promo2SinceWeek</th>\n",
       "      <td>0.802373</td>\n",
       "      <td>-2.135949</td>\n",
       "    </tr>\n",
       "    <tr>\n",
       "      <th>Promo2SinceYear</th>\n",
       "      <td>0.810673</td>\n",
       "      <td>-2.181765</td>\n",
       "    </tr>\n",
       "    <tr>\n",
       "      <th>PromoInterval</th>\n",
       "      <td>2.217151</td>\n",
       "      <td>-2.126889</td>\n",
       "    </tr>\n",
       "  </tbody>\n",
       "</table>\n",
       "</div>"
      ]
     },
     "metadata": {},
     "execution_count": 28
    }
   ],
   "metadata": {}
  },
  {
   "cell_type": "markdown",
   "source": [
    "# Save Clean Data"
   ],
   "metadata": {}
  },
  {
   "cell_type": "code",
   "execution_count": 30,
   "source": [
    "cleaner = DataCleaner(info.df)\r\n",
    "cleaner.optimize_df()\r\n",
    "cleaner.save_clean_data('../data/train.csv')"
   ],
   "outputs": [],
   "metadata": {}
  },
  {
   "cell_type": "code",
   "execution_count": null,
   "source": [],
   "outputs": [],
   "metadata": {}
  }
 ],
 "metadata": {
  "orig_nbformat": 4,
  "language_info": {
   "name": "python",
   "version": "3.8.4",
   "mimetype": "text/x-python",
   "codemirror_mode": {
    "name": "ipython",
    "version": 3
   },
   "pygments_lexer": "ipython3",
   "nbconvert_exporter": "python",
   "file_extension": ".py"
  },
  "kernelspec": {
   "name": "python3",
   "display_name": "Python 3.8.4 64-bit"
  },
  "interpreter": {
   "hash": "2db524e06e9f5f4ffedc911c917cb75e12dbc923643829bf417064a77eb14d37"
  }
 },
 "nbformat": 4,
 "nbformat_minor": 2
}